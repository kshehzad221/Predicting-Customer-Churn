{
 "cells": [
  {
   "cell_type": "markdown",
   "metadata": {},
   "source": [
    "# Problem Description"
   ]
  },
  {
   "cell_type": "markdown",
   "metadata": {},
   "source": [
    "Customer churn is a major problem for businesses in an environment where competitors are constantly endeavoring to retain their client base as well as wooing the business of new clients. Churn or attrition occurs when customers start viewing a competing company more favorably  and cease to do business with their present company. It is often said that, depending on the type of industry, acquiring a new customer is anywhere from five to 25 times more expensive than retaining an existing one. Therefore it makes sense for businesses of all kinds to understand their customers' behaviours using data and take appropriate actions in the face of emerging patterns heralding the departure of a body of valuable customers.\n",
    "\n",
    "In this project, we are going to predict customer churn using the Telecom Dataset downloaded from the \"Guide to Sample Data Sets\" page hosted by IBM. Telecommunications is an industry in which subscribers have multiple competing businesses to choose from over their current company. We will be predicting churn using a variety of machine learning models. In keeping with our philosophy of trying the simplest approaches first, we will start with linear models such as Logistic Regression, Linear Discriminant Analysis, and Support Vector Machine with linear kernel. We will then move on to non-linear models including Decision Tree and Neural Network and culminate with some of the more complex models namely Gradient Boosting, Random Forest, and AdaBoost. So let’s get started!"
   ]
  },
  {
   "cell_type": "code",
   "execution_count": 1,
   "metadata": {},
   "outputs": [],
   "source": [
    "import pandas as pd\n",
    "import numpy as np\n",
    "import matplotlib.pyplot as plt\n",
    "import seaborn as sns\n",
    "from collections import OrderedDict"
   ]
  },
  {
   "cell_type": "markdown",
   "metadata": {},
   "source": [
    "***"
   ]
  },
  {
   "cell_type": "markdown",
   "metadata": {},
   "source": [
    "# Getting to Know the Data\n",
    "So let's go ahead and have a look at our dataset and get to know what each column represents. Each row represents a customer while each column contains data about a particular attribute of the customer."
   ]
  },
  {
   "cell_type": "code",
   "execution_count": 2,
   "metadata": {},
   "outputs": [
    {
     "name": "stdout",
     "output_type": "stream",
     "text": [
      "<class 'pandas.core.frame.DataFrame'>\n",
      "RangeIndex: 7043 entries, 0 to 7042\n",
      "Data columns (total 21 columns):\n",
      "customerID          7043 non-null object\n",
      "gender              7043 non-null object\n",
      "SeniorCitizen       7043 non-null int64\n",
      "Partner             7043 non-null object\n",
      "Dependents          7043 non-null object\n",
      "tenure              7043 non-null int64\n",
      "PhoneService        7043 non-null object\n",
      "MultipleLines       7043 non-null object\n",
      "InternetService     7043 non-null object\n",
      "OnlineSecurity      7043 non-null object\n",
      "OnlineBackup        7043 non-null object\n",
      "DeviceProtection    7043 non-null object\n",
      "TechSupport         7043 non-null object\n",
      "StreamingTV         7043 non-null object\n",
      "StreamingMovies     7043 non-null object\n",
      "Contract            7043 non-null object\n",
      "PaperlessBilling    7043 non-null object\n",
      "PaymentMethod       7043 non-null object\n",
      "MonthlyCharges      7043 non-null float64\n",
      "TotalCharges        7043 non-null object\n",
      "Churn               7043 non-null object\n",
      "dtypes: float64(1), int64(2), object(18)\n",
      "memory usage: 1.1+ MB\n"
     ]
    }
   ],
   "source": [
    "df = pd.read_csv('WA_Fn-UseC_-Telco-Customer-Churn.csv')\n",
    "df.info()"
   ]
  },
  {
   "cell_type": "code",
   "execution_count": 3,
   "metadata": {},
   "outputs": [
    {
     "data": {
      "text/html": [
       "<div>\n",
       "<style scoped>\n",
       "    .dataframe tbody tr th:only-of-type {\n",
       "        vertical-align: middle;\n",
       "    }\n",
       "\n",
       "    .dataframe tbody tr th {\n",
       "        vertical-align: top;\n",
       "    }\n",
       "\n",
       "    .dataframe thead th {\n",
       "        text-align: right;\n",
       "    }\n",
       "</style>\n",
       "<table border=\"1\" class=\"dataframe\">\n",
       "  <thead>\n",
       "    <tr style=\"text-align: right;\">\n",
       "      <th></th>\n",
       "      <th>customerID</th>\n",
       "      <th>gender</th>\n",
       "      <th>SeniorCitizen</th>\n",
       "      <th>Partner</th>\n",
       "      <th>Dependents</th>\n",
       "      <th>tenure</th>\n",
       "      <th>PhoneService</th>\n",
       "      <th>MultipleLines</th>\n",
       "      <th>InternetService</th>\n",
       "      <th>OnlineSecurity</th>\n",
       "      <th>...</th>\n",
       "      <th>DeviceProtection</th>\n",
       "      <th>TechSupport</th>\n",
       "      <th>StreamingTV</th>\n",
       "      <th>StreamingMovies</th>\n",
       "      <th>Contract</th>\n",
       "      <th>PaperlessBilling</th>\n",
       "      <th>PaymentMethod</th>\n",
       "      <th>MonthlyCharges</th>\n",
       "      <th>TotalCharges</th>\n",
       "      <th>Churn</th>\n",
       "    </tr>\n",
       "  </thead>\n",
       "  <tbody>\n",
       "    <tr>\n",
       "      <th>0</th>\n",
       "      <td>7590-VHVEG</td>\n",
       "      <td>Female</td>\n",
       "      <td>0</td>\n",
       "      <td>Yes</td>\n",
       "      <td>No</td>\n",
       "      <td>1</td>\n",
       "      <td>No</td>\n",
       "      <td>No phone service</td>\n",
       "      <td>DSL</td>\n",
       "      <td>No</td>\n",
       "      <td>...</td>\n",
       "      <td>No</td>\n",
       "      <td>No</td>\n",
       "      <td>No</td>\n",
       "      <td>No</td>\n",
       "      <td>Month-to-month</td>\n",
       "      <td>Yes</td>\n",
       "      <td>Electronic check</td>\n",
       "      <td>29.85</td>\n",
       "      <td>29.85</td>\n",
       "      <td>No</td>\n",
       "    </tr>\n",
       "    <tr>\n",
       "      <th>1</th>\n",
       "      <td>5575-GNVDE</td>\n",
       "      <td>Male</td>\n",
       "      <td>0</td>\n",
       "      <td>No</td>\n",
       "      <td>No</td>\n",
       "      <td>34</td>\n",
       "      <td>Yes</td>\n",
       "      <td>No</td>\n",
       "      <td>DSL</td>\n",
       "      <td>Yes</td>\n",
       "      <td>...</td>\n",
       "      <td>Yes</td>\n",
       "      <td>No</td>\n",
       "      <td>No</td>\n",
       "      <td>No</td>\n",
       "      <td>One year</td>\n",
       "      <td>No</td>\n",
       "      <td>Mailed check</td>\n",
       "      <td>56.95</td>\n",
       "      <td>1889.5</td>\n",
       "      <td>No</td>\n",
       "    </tr>\n",
       "    <tr>\n",
       "      <th>2</th>\n",
       "      <td>3668-QPYBK</td>\n",
       "      <td>Male</td>\n",
       "      <td>0</td>\n",
       "      <td>No</td>\n",
       "      <td>No</td>\n",
       "      <td>2</td>\n",
       "      <td>Yes</td>\n",
       "      <td>No</td>\n",
       "      <td>DSL</td>\n",
       "      <td>Yes</td>\n",
       "      <td>...</td>\n",
       "      <td>No</td>\n",
       "      <td>No</td>\n",
       "      <td>No</td>\n",
       "      <td>No</td>\n",
       "      <td>Month-to-month</td>\n",
       "      <td>Yes</td>\n",
       "      <td>Mailed check</td>\n",
       "      <td>53.85</td>\n",
       "      <td>108.15</td>\n",
       "      <td>Yes</td>\n",
       "    </tr>\n",
       "    <tr>\n",
       "      <th>3</th>\n",
       "      <td>7795-CFOCW</td>\n",
       "      <td>Male</td>\n",
       "      <td>0</td>\n",
       "      <td>No</td>\n",
       "      <td>No</td>\n",
       "      <td>45</td>\n",
       "      <td>No</td>\n",
       "      <td>No phone service</td>\n",
       "      <td>DSL</td>\n",
       "      <td>Yes</td>\n",
       "      <td>...</td>\n",
       "      <td>Yes</td>\n",
       "      <td>Yes</td>\n",
       "      <td>No</td>\n",
       "      <td>No</td>\n",
       "      <td>One year</td>\n",
       "      <td>No</td>\n",
       "      <td>Bank transfer (automatic)</td>\n",
       "      <td>42.30</td>\n",
       "      <td>1840.75</td>\n",
       "      <td>No</td>\n",
       "    </tr>\n",
       "    <tr>\n",
       "      <th>4</th>\n",
       "      <td>9237-HQITU</td>\n",
       "      <td>Female</td>\n",
       "      <td>0</td>\n",
       "      <td>No</td>\n",
       "      <td>No</td>\n",
       "      <td>2</td>\n",
       "      <td>Yes</td>\n",
       "      <td>No</td>\n",
       "      <td>Fiber optic</td>\n",
       "      <td>No</td>\n",
       "      <td>...</td>\n",
       "      <td>No</td>\n",
       "      <td>No</td>\n",
       "      <td>No</td>\n",
       "      <td>No</td>\n",
       "      <td>Month-to-month</td>\n",
       "      <td>Yes</td>\n",
       "      <td>Electronic check</td>\n",
       "      <td>70.70</td>\n",
       "      <td>151.65</td>\n",
       "      <td>Yes</td>\n",
       "    </tr>\n",
       "  </tbody>\n",
       "</table>\n",
       "<p>5 rows × 21 columns</p>\n",
       "</div>"
      ],
      "text/plain": [
       "   customerID  gender  SeniorCitizen Partner Dependents  tenure PhoneService  \\\n",
       "0  7590-VHVEG  Female              0     Yes         No       1           No   \n",
       "1  5575-GNVDE    Male              0      No         No      34          Yes   \n",
       "2  3668-QPYBK    Male              0      No         No       2          Yes   \n",
       "3  7795-CFOCW    Male              0      No         No      45           No   \n",
       "4  9237-HQITU  Female              0      No         No       2          Yes   \n",
       "\n",
       "      MultipleLines InternetService OnlineSecurity  ...  DeviceProtection  \\\n",
       "0  No phone service             DSL             No  ...                No   \n",
       "1                No             DSL            Yes  ...               Yes   \n",
       "2                No             DSL            Yes  ...                No   \n",
       "3  No phone service             DSL            Yes  ...               Yes   \n",
       "4                No     Fiber optic             No  ...                No   \n",
       "\n",
       "  TechSupport StreamingTV StreamingMovies        Contract PaperlessBilling  \\\n",
       "0          No          No              No  Month-to-month              Yes   \n",
       "1          No          No              No        One year               No   \n",
       "2          No          No              No  Month-to-month              Yes   \n",
       "3         Yes          No              No        One year               No   \n",
       "4          No          No              No  Month-to-month              Yes   \n",
       "\n",
       "               PaymentMethod MonthlyCharges  TotalCharges Churn  \n",
       "0           Electronic check          29.85         29.85    No  \n",
       "1               Mailed check          56.95        1889.5    No  \n",
       "2               Mailed check          53.85        108.15   Yes  \n",
       "3  Bank transfer (automatic)          42.30       1840.75    No  \n",
       "4           Electronic check          70.70        151.65   Yes  \n",
       "\n",
       "[5 rows x 21 columns]"
      ]
     },
     "execution_count": 3,
     "metadata": {},
     "output_type": "execute_result"
    }
   ],
   "source": [
    "df.head()"
   ]
  },
  {
   "cell_type": "markdown",
   "metadata": {},
   "source": [
    "Let's quickly write a function to get info about the columns we want. We should be able to pass a dataset alongwith either a list_of_column_labels_or_indices or a range_of_columns."
   ]
  },
  {
   "cell_type": "code",
   "execution_count": 4,
   "metadata": {},
   "outputs": [],
   "source": [
    "def col_info(data=df, col_ids=None):\n",
    "    '''\n",
    "    The function takes a dataset and a list of columns supplied by the user. If only a dataset is passed, the function will default to providing info on all the columns. The columns are specified as either all \"labels\" or all indices and can be in any desired order. Column indices can be passed using either a range function (for a contiguous list of columns) or a simple list (for non-contiguous columns). If \"labels\" are specified, these are converted into indices by the function before use.\\\n",
    "    \\n\\nEXAMPLES: Suppose the dataset has 10 columns labeled \"A\" to \"J\". \\n\\nSo for all columns use:\n",
    "    col_info(range(0, df.shape[1]))\\n\\nFor the first 6 columns use:\n",
    "    col_info(range(0, 5))\\n\\nFor columns 1, 3, 7, and 8 use:\n",
    "    col_info([1, 3, 7, 8])\\n\\nFor columns \"A\", \"D\" and \"F\" use:\n",
    "    col_info([\"A\", \"D\", \"F\"])\n",
    "    '''\n",
    "    if col_ids is None:\n",
    "        col_ids = range(0, data.shape[1])\n",
    "    # if the list contains column names (strings) instead of indices:\n",
    "    # check the 1st element only as all elements have the same type\n",
    "    if type(col_ids[0]) == str:\n",
    "        col_indices = [] # col_indices is the new list\n",
    "        for col in col_ids: # for each column in the passed list\n",
    "            index = data.columns.get_loc(col) # get column index\n",
    "            col_indices.append(index) # append column index to list\n",
    "    else: # if the list contains column indices\n",
    "        col_indices = col_ids\n",
    "    print(\"The full dataset contains:\", data.shape[0], \"rows and\", \\\n",
    "          data.shape[1], \"columns. Details for the requested columns\", \\\n",
    "          \"are as follows:\\n\")    \n",
    "    for col in col_indices: # for each index in the new list\n",
    "        print(data.columns[col], \": \", data.iloc[:,col].dtype, \\\n",
    "              data.iloc[:,col].unique(), \":\", \\\n",
    "              len(data.iloc[:,col].unique()), \"levels\")"
   ]
  },
  {
   "cell_type": "code",
   "execution_count": 5,
   "metadata": {},
   "outputs": [
    {
     "name": "stdout",
     "output_type": "stream",
     "text": [
      "The full dataset contains: 7043 rows and 21 columns. Details for the requested columns are as follows:\n",
      "\n",
      "customerID :  object ['7590-VHVEG' '5575-GNVDE' '3668-QPYBK' ... '4801-JZAZL' '8361-LTMKD'\n",
      " '3186-AJIEK'] : 7043 levels\n",
      "gender :  object ['Female' 'Male'] : 2 levels\n",
      "SeniorCitizen :  int64 [0 1] : 2 levels\n",
      "Partner :  object ['Yes' 'No'] : 2 levels\n",
      "Dependents :  object ['No' 'Yes'] : 2 levels\n",
      "tenure :  int64 [ 1 34  2 45  8 22 10 28 62 13 16 58 49 25 69 52 71 21 12 30 47 72 17 27\n",
      "  5 46 11 70 63 43 15 60 18 66  9  3 31 50 64 56  7 42 35 48 29 65 38 68\n",
      " 32 55 37 36 41  6  4 33 67 23 57 61 14 20 53 40 59 24 44 19 54 51 26  0\n",
      " 39] : 73 levels\n",
      "PhoneService :  object ['No' 'Yes'] : 2 levels\n",
      "MultipleLines :  object ['No phone service' 'No' 'Yes'] : 3 levels\n",
      "InternetService :  object ['DSL' 'Fiber optic' 'No'] : 3 levels\n",
      "OnlineSecurity :  object ['No' 'Yes' 'No internet service'] : 3 levels\n",
      "OnlineBackup :  object ['Yes' 'No' 'No internet service'] : 3 levels\n",
      "DeviceProtection :  object ['No' 'Yes' 'No internet service'] : 3 levels\n",
      "TechSupport :  object ['No' 'Yes' 'No internet service'] : 3 levels\n",
      "StreamingTV :  object ['No' 'Yes' 'No internet service'] : 3 levels\n",
      "StreamingMovies :  object ['No' 'Yes' 'No internet service'] : 3 levels\n",
      "Contract :  object ['Month-to-month' 'One year' 'Two year'] : 3 levels\n",
      "PaperlessBilling :  object ['Yes' 'No'] : 2 levels\n",
      "PaymentMethod :  object ['Electronic check' 'Mailed check' 'Bank transfer (automatic)'\n",
      " 'Credit card (automatic)'] : 4 levels\n",
      "MonthlyCharges :  float64 [29.85 56.95 53.85 ... 63.1  44.2  78.7 ] : 1585 levels\n",
      "TotalCharges :  object ['29.85' '1889.5' '108.15' ... '346.45' '306.6' '6844.5'] : 6531 levels\n",
      "Churn :  object ['No' 'Yes'] : 2 levels\n"
     ]
    }
   ],
   "source": [
    "col_info(df)"
   ]
  },
  {
   "cell_type": "markdown",
   "metadata": {},
   "source": [
    "The raw data contains 7043 rows (customers) and 21 columns (features). The “Churn” column is our target."
   ]
  },
  {
   "cell_type": "markdown",
   "metadata": {},
   "source": [
    "***"
   ]
  },
  {
   "cell_type": "markdown",
   "metadata": {},
   "source": [
    "# Data Wrangling"
   ]
  },
  {
   "cell_type": "markdown",
   "metadata": {},
   "source": [
    "First of all, let's rename the columns \"customerID\", \"gender\", and \"tenure\" to title case so that all column names are consistent."
   ]
  },
  {
   "cell_type": "code",
   "execution_count": 6,
   "metadata": {},
   "outputs": [],
   "source": [
    "df.rename(index=str, columns={\"customerID\": \"CustomerID\", \\\n",
    "                              \"gender\": \"Gender\", \"tenure\": \"Tenure\"\\\n",
    "                             }, inplace=True)"
   ]
  },
  {
   "cell_type": "markdown",
   "metadata": {},
   "source": [
    "We can also see that the column TotalCharges contains floating point values but is stored incorrectly as object type. So let's correct that as well."
   ]
  },
  {
   "cell_type": "code",
   "execution_count": 7,
   "metadata": {},
   "outputs": [],
   "source": [
    "df[\"TotalCharges\"] = pd.to_numeric(df[\"TotalCharges\"], errors=\"coerce\")"
   ]
  },
  {
   "cell_type": "code",
   "execution_count": 8,
   "metadata": {},
   "outputs": [
    {
     "data": {
      "text/plain": [
       "dtype('float64')"
      ]
     },
     "execution_count": 8,
     "metadata": {},
     "output_type": "execute_result"
    }
   ],
   "source": [
    "df[\"TotalCharges\"].dtype"
   ]
  },
  {
   "cell_type": "markdown",
   "metadata": {},
   "source": [
    "## Missing Values"
   ]
  },
  {
   "cell_type": "markdown",
   "metadata": {},
   "source": [
    "Now let's check whether one or more columns have missing values."
   ]
  },
  {
   "cell_type": "code",
   "execution_count": 9,
   "metadata": {},
   "outputs": [
    {
     "data": {
      "text/plain": [
       "CustomerID           0\n",
       "Gender               0\n",
       "SeniorCitizen        0\n",
       "Partner              0\n",
       "Dependents           0\n",
       "Tenure               0\n",
       "PhoneService         0\n",
       "MultipleLines        0\n",
       "InternetService      0\n",
       "OnlineSecurity       0\n",
       "OnlineBackup         0\n",
       "DeviceProtection     0\n",
       "TechSupport          0\n",
       "StreamingTV          0\n",
       "StreamingMovies      0\n",
       "Contract             0\n",
       "PaperlessBilling     0\n",
       "PaymentMethod        0\n",
       "MonthlyCharges       0\n",
       "TotalCharges        11\n",
       "Churn                0\n",
       "dtype: int64"
      ]
     },
     "execution_count": 9,
     "metadata": {},
     "output_type": "execute_result"
    }
   ],
   "source": [
    "df.isna().sum()"
   ]
  },
  {
   "cell_type": "markdown",
   "metadata": {},
   "source": [
    "So now let’s go ahead and get the shape of the data before dropping missing values. We'll then remove all rows with missing values and confirm it by looking at the shape of the data again."
   ]
  },
  {
   "cell_type": "code",
   "execution_count": 10,
   "metadata": {},
   "outputs": [
    {
     "data": {
      "text/plain": [
       "(7043, 21)"
      ]
     },
     "execution_count": 10,
     "metadata": {},
     "output_type": "execute_result"
    }
   ],
   "source": [
    "df.shape"
   ]
  },
  {
   "cell_type": "code",
   "execution_count": 11,
   "metadata": {},
   "outputs": [],
   "source": [
    "df.dropna(inplace=True)"
   ]
  },
  {
   "cell_type": "code",
   "execution_count": 12,
   "metadata": {},
   "outputs": [
    {
     "data": {
      "text/plain": [
       "(7032, 21)"
      ]
     },
     "execution_count": 12,
     "metadata": {},
     "output_type": "execute_result"
    }
   ],
   "source": [
    "df.shape"
   ]
  },
  {
   "cell_type": "markdown",
   "metadata": {},
   "source": [
    "## Value Replacement"
   ]
  },
  {
   "cell_type": "markdown",
   "metadata": {},
   "source": [
    "Let's get the columns info once again to see which ones contain similar values."
   ]
  },
  {
   "cell_type": "code",
   "execution_count": 13,
   "metadata": {},
   "outputs": [
    {
     "name": "stdout",
     "output_type": "stream",
     "text": [
      "The full dataset contains: 7032 rows and 21 columns. Details for the requested columns are as follows:\n",
      "\n",
      "CustomerID :  object ['7590-VHVEG' '5575-GNVDE' '3668-QPYBK' ... '4801-JZAZL' '8361-LTMKD'\n",
      " '3186-AJIEK'] : 7032 levels\n",
      "Gender :  object ['Female' 'Male'] : 2 levels\n",
      "SeniorCitizen :  int64 [0 1] : 2 levels\n",
      "Partner :  object ['Yes' 'No'] : 2 levels\n",
      "Dependents :  object ['No' 'Yes'] : 2 levels\n",
      "Tenure :  int64 [ 1 34  2 45  8 22 10 28 62 13 16 58 49 25 69 52 71 21 12 30 47 72 17 27\n",
      "  5 46 11 70 63 43 15 60 18 66  9  3 31 50 64 56  7 42 35 48 29 65 38 68\n",
      " 32 55 37 36 41  6  4 33 67 23 57 61 14 20 53 40 59 24 44 19 54 51 26 39] : 72 levels\n",
      "PhoneService :  object ['No' 'Yes'] : 2 levels\n",
      "MultipleLines :  object ['No phone service' 'No' 'Yes'] : 3 levels\n",
      "InternetService :  object ['DSL' 'Fiber optic' 'No'] : 3 levels\n",
      "OnlineSecurity :  object ['No' 'Yes' 'No internet service'] : 3 levels\n",
      "OnlineBackup :  object ['Yes' 'No' 'No internet service'] : 3 levels\n",
      "DeviceProtection :  object ['No' 'Yes' 'No internet service'] : 3 levels\n",
      "TechSupport :  object ['No' 'Yes' 'No internet service'] : 3 levels\n",
      "StreamingTV :  object ['No' 'Yes' 'No internet service'] : 3 levels\n",
      "StreamingMovies :  object ['No' 'Yes' 'No internet service'] : 3 levels\n",
      "Contract :  object ['Month-to-month' 'One year' 'Two year'] : 3 levels\n",
      "PaperlessBilling :  object ['Yes' 'No'] : 2 levels\n",
      "PaymentMethod :  object ['Electronic check' 'Mailed check' 'Bank transfer (automatic)'\n",
      " 'Credit card (automatic)'] : 4 levels\n",
      "MonthlyCharges :  float64 [29.85 56.95 53.85 ... 63.1  44.2  78.7 ] : 1584 levels\n",
      "TotalCharges :  float64 [  29.85 1889.5   108.15 ...  346.45  306.6  6844.5 ] : 6530 levels\n",
      "Churn :  object ['No' 'Yes'] : 2 levels\n"
     ]
    }
   ],
   "source": [
    "col_info(df)"
   ]
  },
  {
   "cell_type": "markdown",
   "metadata": {},
   "source": [
    "For the column \"MultipleLines\", we can see that there is a value labeled 'No phone service' along with the 'No' and 'Yes' labels. That's because if the value of \"PhoneService\" for a customer is 'No', we'll have the value 'No phone service' in the column \"MultipleLines\" for that customer. So basically, we can replace 'No phone service' with 'No' as they both mean the same for \"MultipleLines\"."
   ]
  },
  {
   "cell_type": "code",
   "execution_count": 14,
   "metadata": {},
   "outputs": [],
   "source": [
    "df[\"MultipleLines\"] = df[\"MultipleLines\"].replace('No phone service', \\\n",
    "                                                  'No')"
   ]
  },
  {
   "cell_type": "markdown",
   "metadata": {},
   "source": [
    "On a logic similar to the above, we can replace the value 'No internet service' with 'No' for the six columns namely \"OnlineSecurity\", \"OnlineBackup\", \"DeviceProtection\", \"TechSupport\", \"StreamingTV\", and \"StreamingMovies\"."
   ]
  },
  {
   "cell_type": "code",
   "execution_count": 15,
   "metadata": {},
   "outputs": [],
   "source": [
    "columns = [\"OnlineSecurity\", \"OnlineBackup\", \"DeviceProtection\", \\\n",
    "           \"TechSupport\", \"StreamingTV\", \"StreamingMovies\"]\n",
    "for col in columns:\n",
    "    df[col] = df[col].replace('No internet service', 'No')"
   ]
  },
  {
   "cell_type": "markdown",
   "metadata": {},
   "source": [
    "## Value Mapping and Discretization"
   ]
  },
  {
   "cell_type": "markdown",
   "metadata": {},
   "source": [
    "First of all, we'll map the integer values 0 and 1 in the column \"SeniorCitizen\" to 'No' and 'Yes' respectively."
   ]
  },
  {
   "cell_type": "code",
   "execution_count": 16,
   "metadata": {},
   "outputs": [],
   "source": [
    "mapping = {0: 'No', 1: 'Yes'}\n",
    "df[\"SeniorCitizen\"] = df[\"SeniorCitizen\"].map(mapping)"
   ]
  },
  {
   "cell_type": "markdown",
   "metadata": {},
   "source": [
    "Now let's check the minimum and maximum values of \"tenure\" column to see what could be a logical discretization of these values into categorical labels."
   ]
  },
  {
   "cell_type": "code",
   "execution_count": 17,
   "metadata": {},
   "outputs": [
    {
     "data": {
      "text/plain": [
       "1"
      ]
     },
     "metadata": {},
     "output_type": "display_data"
    },
    {
     "data": {
      "text/plain": [
       "72"
      ]
     },
     "metadata": {},
     "output_type": "display_data"
    }
   ],
   "source": [
    "display(df[\"Tenure\"].min(), df[\"Tenure\"].max())"
   ]
  },
  {
   "cell_type": "markdown",
   "metadata": {},
   "source": [
    "Since the minimum value for \"Tenure\" is 1 month and the maximum value is 72 months, we can create five groups for \"Tenure\": “0–12 Month”, “12–24 Month”, “24–48 Months”, “48–60 Month”, and “> 60 Month”."
   ]
  },
  {
   "cell_type": "code",
   "execution_count": 18,
   "metadata": {},
   "outputs": [],
   "source": [
    "def group_tenure(tenure):\n",
    "    if ((tenure >= 0) & (tenure <= 12)):\n",
    "        return('<= 1 Year')\n",
    "    elif ((tenure > 12) & (tenure <= 24)):\n",
    "        return('1-2 Years')\n",
    "    elif ((tenure > 24) & (tenure <= 48)):\n",
    "        return('2-4 Years')\n",
    "    elif ((tenure > 48) & (tenure <= 60)):\n",
    "        return('4-5 Years')\n",
    "    elif tenure > 60:\n",
    "        return('> 5 Years')"
   ]
  },
  {
   "cell_type": "code",
   "execution_count": 19,
   "metadata": {},
   "outputs": [],
   "source": [
    "df.insert(20, \"Tenure_Group\", df[\"Tenure\"].apply(group_tenure))"
   ]
  },
  {
   "cell_type": "code",
   "execution_count": 20,
   "metadata": {},
   "outputs": [
    {
     "data": {
      "text/html": [
       "<div>\n",
       "<style scoped>\n",
       "    .dataframe tbody tr th:only-of-type {\n",
       "        vertical-align: middle;\n",
       "    }\n",
       "\n",
       "    .dataframe tbody tr th {\n",
       "        vertical-align: top;\n",
       "    }\n",
       "\n",
       "    .dataframe thead th {\n",
       "        text-align: right;\n",
       "    }\n",
       "</style>\n",
       "<table border=\"1\" class=\"dataframe\">\n",
       "  <thead>\n",
       "    <tr style=\"text-align: right;\">\n",
       "      <th></th>\n",
       "      <th>Tenure</th>\n",
       "      <th>Tenure_Group</th>\n",
       "    </tr>\n",
       "  </thead>\n",
       "  <tbody>\n",
       "    <tr>\n",
       "      <th>0</th>\n",
       "      <td>1</td>\n",
       "      <td>&lt;= 1 Year</td>\n",
       "    </tr>\n",
       "    <tr>\n",
       "      <th>1</th>\n",
       "      <td>34</td>\n",
       "      <td>2-4 Years</td>\n",
       "    </tr>\n",
       "    <tr>\n",
       "      <th>2</th>\n",
       "      <td>2</td>\n",
       "      <td>&lt;= 1 Year</td>\n",
       "    </tr>\n",
       "    <tr>\n",
       "      <th>3</th>\n",
       "      <td>45</td>\n",
       "      <td>2-4 Years</td>\n",
       "    </tr>\n",
       "    <tr>\n",
       "      <th>4</th>\n",
       "      <td>2</td>\n",
       "      <td>&lt;= 1 Year</td>\n",
       "    </tr>\n",
       "    <tr>\n",
       "      <th>5</th>\n",
       "      <td>8</td>\n",
       "      <td>&lt;= 1 Year</td>\n",
       "    </tr>\n",
       "    <tr>\n",
       "      <th>6</th>\n",
       "      <td>22</td>\n",
       "      <td>1-2 Years</td>\n",
       "    </tr>\n",
       "    <tr>\n",
       "      <th>7</th>\n",
       "      <td>10</td>\n",
       "      <td>&lt;= 1 Year</td>\n",
       "    </tr>\n",
       "    <tr>\n",
       "      <th>8</th>\n",
       "      <td>28</td>\n",
       "      <td>2-4 Years</td>\n",
       "    </tr>\n",
       "    <tr>\n",
       "      <th>9</th>\n",
       "      <td>62</td>\n",
       "      <td>&gt; 5 Years</td>\n",
       "    </tr>\n",
       "    <tr>\n",
       "      <th>10</th>\n",
       "      <td>13</td>\n",
       "      <td>1-2 Years</td>\n",
       "    </tr>\n",
       "    <tr>\n",
       "      <th>11</th>\n",
       "      <td>16</td>\n",
       "      <td>1-2 Years</td>\n",
       "    </tr>\n",
       "    <tr>\n",
       "      <th>12</th>\n",
       "      <td>58</td>\n",
       "      <td>4-5 Years</td>\n",
       "    </tr>\n",
       "    <tr>\n",
       "      <th>13</th>\n",
       "      <td>49</td>\n",
       "      <td>4-5 Years</td>\n",
       "    </tr>\n",
       "    <tr>\n",
       "      <th>14</th>\n",
       "      <td>25</td>\n",
       "      <td>2-4 Years</td>\n",
       "    </tr>\n",
       "  </tbody>\n",
       "</table>\n",
       "</div>"
      ],
      "text/plain": [
       "    Tenure Tenure_Group\n",
       "0        1    <= 1 Year\n",
       "1       34    2-4 Years\n",
       "2        2    <= 1 Year\n",
       "3       45    2-4 Years\n",
       "4        2    <= 1 Year\n",
       "5        8    <= 1 Year\n",
       "6       22    1-2 Years\n",
       "7       10    <= 1 Year\n",
       "8       28    2-4 Years\n",
       "9       62    > 5 Years\n",
       "10      13    1-2 Years\n",
       "11      16    1-2 Years\n",
       "12      58    4-5 Years\n",
       "13      49    4-5 Years\n",
       "14      25    2-4 Years"
      ]
     },
     "execution_count": 20,
     "metadata": {},
     "output_type": "execute_result"
    }
   ],
   "source": [
    "df[[\"Tenure\", \"Tenure_Group\"]].head(15)"
   ]
  },
  {
   "cell_type": "code",
   "execution_count": 21,
   "metadata": {},
   "outputs": [],
   "source": [
    "df.drop([\"CustomerID\", \"Tenure\"], axis=1, inplace=True)"
   ]
  },
  {
   "cell_type": "code",
   "execution_count": 22,
   "metadata": {},
   "outputs": [
    {
     "data": {
      "text/html": [
       "<div>\n",
       "<style scoped>\n",
       "    .dataframe tbody tr th:only-of-type {\n",
       "        vertical-align: middle;\n",
       "    }\n",
       "\n",
       "    .dataframe tbody tr th {\n",
       "        vertical-align: top;\n",
       "    }\n",
       "\n",
       "    .dataframe thead th {\n",
       "        text-align: right;\n",
       "    }\n",
       "</style>\n",
       "<table border=\"1\" class=\"dataframe\">\n",
       "  <thead>\n",
       "    <tr style=\"text-align: right;\">\n",
       "      <th></th>\n",
       "      <th>Gender</th>\n",
       "      <th>SeniorCitizen</th>\n",
       "      <th>Partner</th>\n",
       "      <th>Dependents</th>\n",
       "      <th>PhoneService</th>\n",
       "      <th>MultipleLines</th>\n",
       "      <th>InternetService</th>\n",
       "      <th>OnlineSecurity</th>\n",
       "      <th>OnlineBackup</th>\n",
       "      <th>DeviceProtection</th>\n",
       "      <th>TechSupport</th>\n",
       "      <th>StreamingTV</th>\n",
       "      <th>StreamingMovies</th>\n",
       "      <th>Contract</th>\n",
       "      <th>PaperlessBilling</th>\n",
       "      <th>PaymentMethod</th>\n",
       "      <th>MonthlyCharges</th>\n",
       "      <th>TotalCharges</th>\n",
       "      <th>Tenure_Group</th>\n",
       "      <th>Churn</th>\n",
       "    </tr>\n",
       "  </thead>\n",
       "  <tbody>\n",
       "    <tr>\n",
       "      <th>0</th>\n",
       "      <td>Female</td>\n",
       "      <td>No</td>\n",
       "      <td>Yes</td>\n",
       "      <td>No</td>\n",
       "      <td>No</td>\n",
       "      <td>No</td>\n",
       "      <td>DSL</td>\n",
       "      <td>No</td>\n",
       "      <td>Yes</td>\n",
       "      <td>No</td>\n",
       "      <td>No</td>\n",
       "      <td>No</td>\n",
       "      <td>No</td>\n",
       "      <td>Month-to-month</td>\n",
       "      <td>Yes</td>\n",
       "      <td>Electronic check</td>\n",
       "      <td>29.85</td>\n",
       "      <td>29.85</td>\n",
       "      <td>&lt;= 1 Year</td>\n",
       "      <td>No</td>\n",
       "    </tr>\n",
       "    <tr>\n",
       "      <th>1</th>\n",
       "      <td>Male</td>\n",
       "      <td>No</td>\n",
       "      <td>No</td>\n",
       "      <td>No</td>\n",
       "      <td>Yes</td>\n",
       "      <td>No</td>\n",
       "      <td>DSL</td>\n",
       "      <td>Yes</td>\n",
       "      <td>No</td>\n",
       "      <td>Yes</td>\n",
       "      <td>No</td>\n",
       "      <td>No</td>\n",
       "      <td>No</td>\n",
       "      <td>One year</td>\n",
       "      <td>No</td>\n",
       "      <td>Mailed check</td>\n",
       "      <td>56.95</td>\n",
       "      <td>1889.50</td>\n",
       "      <td>2-4 Years</td>\n",
       "      <td>No</td>\n",
       "    </tr>\n",
       "    <tr>\n",
       "      <th>2</th>\n",
       "      <td>Male</td>\n",
       "      <td>No</td>\n",
       "      <td>No</td>\n",
       "      <td>No</td>\n",
       "      <td>Yes</td>\n",
       "      <td>No</td>\n",
       "      <td>DSL</td>\n",
       "      <td>Yes</td>\n",
       "      <td>Yes</td>\n",
       "      <td>No</td>\n",
       "      <td>No</td>\n",
       "      <td>No</td>\n",
       "      <td>No</td>\n",
       "      <td>Month-to-month</td>\n",
       "      <td>Yes</td>\n",
       "      <td>Mailed check</td>\n",
       "      <td>53.85</td>\n",
       "      <td>108.15</td>\n",
       "      <td>&lt;= 1 Year</td>\n",
       "      <td>Yes</td>\n",
       "    </tr>\n",
       "    <tr>\n",
       "      <th>3</th>\n",
       "      <td>Male</td>\n",
       "      <td>No</td>\n",
       "      <td>No</td>\n",
       "      <td>No</td>\n",
       "      <td>No</td>\n",
       "      <td>No</td>\n",
       "      <td>DSL</td>\n",
       "      <td>Yes</td>\n",
       "      <td>No</td>\n",
       "      <td>Yes</td>\n",
       "      <td>Yes</td>\n",
       "      <td>No</td>\n",
       "      <td>No</td>\n",
       "      <td>One year</td>\n",
       "      <td>No</td>\n",
       "      <td>Bank transfer (automatic)</td>\n",
       "      <td>42.30</td>\n",
       "      <td>1840.75</td>\n",
       "      <td>2-4 Years</td>\n",
       "      <td>No</td>\n",
       "    </tr>\n",
       "    <tr>\n",
       "      <th>4</th>\n",
       "      <td>Female</td>\n",
       "      <td>No</td>\n",
       "      <td>No</td>\n",
       "      <td>No</td>\n",
       "      <td>Yes</td>\n",
       "      <td>No</td>\n",
       "      <td>Fiber optic</td>\n",
       "      <td>No</td>\n",
       "      <td>No</td>\n",
       "      <td>No</td>\n",
       "      <td>No</td>\n",
       "      <td>No</td>\n",
       "      <td>No</td>\n",
       "      <td>Month-to-month</td>\n",
       "      <td>Yes</td>\n",
       "      <td>Electronic check</td>\n",
       "      <td>70.70</td>\n",
       "      <td>151.65</td>\n",
       "      <td>&lt;= 1 Year</td>\n",
       "      <td>Yes</td>\n",
       "    </tr>\n",
       "  </tbody>\n",
       "</table>\n",
       "</div>"
      ],
      "text/plain": [
       "   Gender SeniorCitizen Partner Dependents PhoneService MultipleLines  \\\n",
       "0  Female            No     Yes         No           No            No   \n",
       "1    Male            No      No         No          Yes            No   \n",
       "2    Male            No      No         No          Yes            No   \n",
       "3    Male            No      No         No           No            No   \n",
       "4  Female            No      No         No          Yes            No   \n",
       "\n",
       "  InternetService OnlineSecurity OnlineBackup DeviceProtection TechSupport  \\\n",
       "0             DSL             No          Yes               No          No   \n",
       "1             DSL            Yes           No              Yes          No   \n",
       "2             DSL            Yes          Yes               No          No   \n",
       "3             DSL            Yes           No              Yes         Yes   \n",
       "4     Fiber optic             No           No               No          No   \n",
       "\n",
       "  StreamingTV StreamingMovies        Contract PaperlessBilling  \\\n",
       "0          No              No  Month-to-month              Yes   \n",
       "1          No              No        One year               No   \n",
       "2          No              No  Month-to-month              Yes   \n",
       "3          No              No        One year               No   \n",
       "4          No              No  Month-to-month              Yes   \n",
       "\n",
       "               PaymentMethod  MonthlyCharges  TotalCharges Tenure_Group Churn  \n",
       "0           Electronic check           29.85         29.85    <= 1 Year    No  \n",
       "1               Mailed check           56.95       1889.50    2-4 Years    No  \n",
       "2               Mailed check           53.85        108.15    <= 1 Year   Yes  \n",
       "3  Bank transfer (automatic)           42.30       1840.75    2-4 Years    No  \n",
       "4           Electronic check           70.70        151.65    <= 1 Year   Yes  "
      ]
     },
     "execution_count": 22,
     "metadata": {},
     "output_type": "execute_result"
    }
   ],
   "source": [
    "df.head()"
   ]
  },
  {
   "cell_type": "markdown",
   "metadata": {},
   "source": [
    "## Value Encoding"
   ]
  },
  {
   "cell_type": "markdown",
   "metadata": {},
   "source": [
    "Let's reload the columns info to see the current state."
   ]
  },
  {
   "cell_type": "code",
   "execution_count": 23,
   "metadata": {},
   "outputs": [
    {
     "name": "stdout",
     "output_type": "stream",
     "text": [
      "The full dataset contains: 7032 rows and 20 columns. Details for the requested columns are as follows:\n",
      "\n",
      "Gender :  object ['Female' 'Male'] : 2 levels\n",
      "SeniorCitizen :  object ['No' 'Yes'] : 2 levels\n",
      "Partner :  object ['Yes' 'No'] : 2 levels\n",
      "Dependents :  object ['No' 'Yes'] : 2 levels\n",
      "PhoneService :  object ['No' 'Yes'] : 2 levels\n",
      "MultipleLines :  object ['No' 'Yes'] : 2 levels\n",
      "InternetService :  object ['DSL' 'Fiber optic' 'No'] : 3 levels\n",
      "OnlineSecurity :  object ['No' 'Yes'] : 2 levels\n",
      "OnlineBackup :  object ['Yes' 'No'] : 2 levels\n",
      "DeviceProtection :  object ['No' 'Yes'] : 2 levels\n",
      "TechSupport :  object ['No' 'Yes'] : 2 levels\n",
      "StreamingTV :  object ['No' 'Yes'] : 2 levels\n",
      "StreamingMovies :  object ['No' 'Yes'] : 2 levels\n",
      "Contract :  object ['Month-to-month' 'One year' 'Two year'] : 3 levels\n",
      "PaperlessBilling :  object ['Yes' 'No'] : 2 levels\n",
      "PaymentMethod :  object ['Electronic check' 'Mailed check' 'Bank transfer (automatic)'\n",
      " 'Credit card (automatic)'] : 4 levels\n",
      "MonthlyCharges :  float64 [29.85 56.95 53.85 ... 63.1  44.2  78.7 ] : 1584 levels\n",
      "TotalCharges :  float64 [  29.85 1889.5   108.15 ...  346.45  306.6  6844.5 ] : 6530 levels\n",
      "Tenure_Group :  object ['<= 1 Year' '2-4 Years' '1-2 Years' '> 5 Years' '4-5 Years'] : 5 levels\n",
      "Churn :  object ['No' 'Yes'] : 2 levels\n"
     ]
    }
   ],
   "source": [
    "col_info(df)"
   ]
  },
  {
   "cell_type": "code",
   "execution_count": 24,
   "metadata": {},
   "outputs": [],
   "source": [
    "from sklearn import preprocessing\n",
    "le = preprocessing.LabelEncoder()"
   ]
  },
  {
   "cell_type": "markdown",
   "metadata": {},
   "source": [
    "Because we want to encode all columns except the MonthlyCharges and TotalCharges columns (which are float type), let's get their index so we can exclude them when performing encoding."
   ]
  },
  {
   "cell_type": "code",
   "execution_count": 25,
   "metadata": {},
   "outputs": [
    {
     "data": {
      "text/plain": [
       "array([16, 17])"
      ]
     },
     "execution_count": 25,
     "metadata": {},
     "output_type": "execute_result"
    }
   ],
   "source": [
    "df.columns.get_indexer_for([\"MonthlyCharges\", \"TotalCharges\"])"
   ]
  },
  {
   "cell_type": "code",
   "execution_count": 26,
   "metadata": {},
   "outputs": [],
   "source": [
    "for col in range(0, df.shape[1]):\n",
    "    if ((col != 16) & (col != 17)):\n",
    "        df.iloc[:,col] = le.fit_transform(df.iloc[:,col])"
   ]
  },
  {
   "cell_type": "markdown",
   "metadata": {},
   "source": [
    "Let's confirm that everything went right."
   ]
  },
  {
   "cell_type": "code",
   "execution_count": 27,
   "metadata": {},
   "outputs": [
    {
     "name": "stdout",
     "output_type": "stream",
     "text": [
      "The full dataset contains: 7032 rows and 20 columns. Details for the requested columns are as follows:\n",
      "\n",
      "Gender :  int64 [0 1] : 2 levels\n",
      "SeniorCitizen :  int64 [0 1] : 2 levels\n",
      "Partner :  int64 [1 0] : 2 levels\n",
      "Dependents :  int64 [0 1] : 2 levels\n",
      "PhoneService :  int64 [0 1] : 2 levels\n",
      "MultipleLines :  int64 [0 1] : 2 levels\n",
      "InternetService :  int64 [0 1 2] : 3 levels\n",
      "OnlineSecurity :  int64 [0 1] : 2 levels\n",
      "OnlineBackup :  int64 [1 0] : 2 levels\n",
      "DeviceProtection :  int64 [0 1] : 2 levels\n",
      "TechSupport :  int64 [0 1] : 2 levels\n",
      "StreamingTV :  int64 [0 1] : 2 levels\n",
      "StreamingMovies :  int64 [0 1] : 2 levels\n",
      "Contract :  int64 [0 1 2] : 3 levels\n",
      "PaperlessBilling :  int64 [1 0] : 2 levels\n",
      "PaymentMethod :  int64 [2 3 0 1] : 4 levels\n",
      "MonthlyCharges :  float64 [29.85 56.95 53.85 ... 63.1  44.2  78.7 ] : 1584 levels\n",
      "TotalCharges :  float64 [  29.85 1889.5   108.15 ...  346.45  306.6  6844.5 ] : 6530 levels\n",
      "Tenure_Group :  int64 [3 1 0 4 2] : 5 levels\n",
      "Churn :  int64 [0 1] : 2 levels\n"
     ]
    }
   ],
   "source": [
    "col_info(df)"
   ]
  },
  {
   "cell_type": "code",
   "execution_count": 28,
   "metadata": {
    "scrolled": true
   },
   "outputs": [
    {
     "data": {
      "text/html": [
       "<div>\n",
       "<style scoped>\n",
       "    .dataframe tbody tr th:only-of-type {\n",
       "        vertical-align: middle;\n",
       "    }\n",
       "\n",
       "    .dataframe tbody tr th {\n",
       "        vertical-align: top;\n",
       "    }\n",
       "\n",
       "    .dataframe thead th {\n",
       "        text-align: right;\n",
       "    }\n",
       "</style>\n",
       "<table border=\"1\" class=\"dataframe\">\n",
       "  <thead>\n",
       "    <tr style=\"text-align: right;\">\n",
       "      <th></th>\n",
       "      <th>Gender</th>\n",
       "      <th>SeniorCitizen</th>\n",
       "      <th>Partner</th>\n",
       "      <th>Dependents</th>\n",
       "      <th>PhoneService</th>\n",
       "      <th>MultipleLines</th>\n",
       "      <th>InternetService</th>\n",
       "      <th>OnlineSecurity</th>\n",
       "      <th>OnlineBackup</th>\n",
       "      <th>DeviceProtection</th>\n",
       "      <th>TechSupport</th>\n",
       "      <th>StreamingTV</th>\n",
       "      <th>StreamingMovies</th>\n",
       "      <th>Contract</th>\n",
       "      <th>PaperlessBilling</th>\n",
       "      <th>PaymentMethod</th>\n",
       "      <th>MonthlyCharges</th>\n",
       "      <th>TotalCharges</th>\n",
       "      <th>Tenure_Group</th>\n",
       "      <th>Churn</th>\n",
       "    </tr>\n",
       "  </thead>\n",
       "  <tbody>\n",
       "    <tr>\n",
       "      <th>0</th>\n",
       "      <td>0</td>\n",
       "      <td>0</td>\n",
       "      <td>1</td>\n",
       "      <td>0</td>\n",
       "      <td>0</td>\n",
       "      <td>0</td>\n",
       "      <td>0</td>\n",
       "      <td>0</td>\n",
       "      <td>1</td>\n",
       "      <td>0</td>\n",
       "      <td>0</td>\n",
       "      <td>0</td>\n",
       "      <td>0</td>\n",
       "      <td>0</td>\n",
       "      <td>1</td>\n",
       "      <td>2</td>\n",
       "      <td>29.85</td>\n",
       "      <td>29.85</td>\n",
       "      <td>3</td>\n",
       "      <td>0</td>\n",
       "    </tr>\n",
       "    <tr>\n",
       "      <th>1</th>\n",
       "      <td>1</td>\n",
       "      <td>0</td>\n",
       "      <td>0</td>\n",
       "      <td>0</td>\n",
       "      <td>1</td>\n",
       "      <td>0</td>\n",
       "      <td>0</td>\n",
       "      <td>1</td>\n",
       "      <td>0</td>\n",
       "      <td>1</td>\n",
       "      <td>0</td>\n",
       "      <td>0</td>\n",
       "      <td>0</td>\n",
       "      <td>1</td>\n",
       "      <td>0</td>\n",
       "      <td>3</td>\n",
       "      <td>56.95</td>\n",
       "      <td>1889.50</td>\n",
       "      <td>1</td>\n",
       "      <td>0</td>\n",
       "    </tr>\n",
       "    <tr>\n",
       "      <th>2</th>\n",
       "      <td>1</td>\n",
       "      <td>0</td>\n",
       "      <td>0</td>\n",
       "      <td>0</td>\n",
       "      <td>1</td>\n",
       "      <td>0</td>\n",
       "      <td>0</td>\n",
       "      <td>1</td>\n",
       "      <td>1</td>\n",
       "      <td>0</td>\n",
       "      <td>0</td>\n",
       "      <td>0</td>\n",
       "      <td>0</td>\n",
       "      <td>0</td>\n",
       "      <td>1</td>\n",
       "      <td>3</td>\n",
       "      <td>53.85</td>\n",
       "      <td>108.15</td>\n",
       "      <td>3</td>\n",
       "      <td>1</td>\n",
       "    </tr>\n",
       "    <tr>\n",
       "      <th>3</th>\n",
       "      <td>1</td>\n",
       "      <td>0</td>\n",
       "      <td>0</td>\n",
       "      <td>0</td>\n",
       "      <td>0</td>\n",
       "      <td>0</td>\n",
       "      <td>0</td>\n",
       "      <td>1</td>\n",
       "      <td>0</td>\n",
       "      <td>1</td>\n",
       "      <td>1</td>\n",
       "      <td>0</td>\n",
       "      <td>0</td>\n",
       "      <td>1</td>\n",
       "      <td>0</td>\n",
       "      <td>0</td>\n",
       "      <td>42.30</td>\n",
       "      <td>1840.75</td>\n",
       "      <td>1</td>\n",
       "      <td>0</td>\n",
       "    </tr>\n",
       "    <tr>\n",
       "      <th>4</th>\n",
       "      <td>0</td>\n",
       "      <td>0</td>\n",
       "      <td>0</td>\n",
       "      <td>0</td>\n",
       "      <td>1</td>\n",
       "      <td>0</td>\n",
       "      <td>1</td>\n",
       "      <td>0</td>\n",
       "      <td>0</td>\n",
       "      <td>0</td>\n",
       "      <td>0</td>\n",
       "      <td>0</td>\n",
       "      <td>0</td>\n",
       "      <td>0</td>\n",
       "      <td>1</td>\n",
       "      <td>2</td>\n",
       "      <td>70.70</td>\n",
       "      <td>151.65</td>\n",
       "      <td>3</td>\n",
       "      <td>1</td>\n",
       "    </tr>\n",
       "  </tbody>\n",
       "</table>\n",
       "</div>"
      ],
      "text/plain": [
       "   Gender  SeniorCitizen  Partner  Dependents  PhoneService  MultipleLines  \\\n",
       "0       0              0        1           0             0              0   \n",
       "1       1              0        0           0             1              0   \n",
       "2       1              0        0           0             1              0   \n",
       "3       1              0        0           0             0              0   \n",
       "4       0              0        0           0             1              0   \n",
       "\n",
       "   InternetService  OnlineSecurity  OnlineBackup  DeviceProtection  \\\n",
       "0                0               0             1                 0   \n",
       "1                0               1             0                 1   \n",
       "2                0               1             1                 0   \n",
       "3                0               1             0                 1   \n",
       "4                1               0             0                 0   \n",
       "\n",
       "   TechSupport  StreamingTV  StreamingMovies  Contract  PaperlessBilling  \\\n",
       "0            0            0                0         0                 1   \n",
       "1            0            0                0         1                 0   \n",
       "2            0            0                0         0                 1   \n",
       "3            1            0                0         1                 0   \n",
       "4            0            0                0         0                 1   \n",
       "\n",
       "   PaymentMethod  MonthlyCharges  TotalCharges  Tenure_Group  Churn  \n",
       "0              2           29.85         29.85             3      0  \n",
       "1              3           56.95       1889.50             1      0  \n",
       "2              3           53.85        108.15             3      1  \n",
       "3              0           42.30       1840.75             1      0  \n",
       "4              2           70.70        151.65             3      1  "
      ]
     },
     "execution_count": 28,
     "metadata": {},
     "output_type": "execute_result"
    }
   ],
   "source": [
    "df.head()"
   ]
  },
  {
   "cell_type": "markdown",
   "metadata": {},
   "source": [
    "***"
   ]
  },
  {
   "cell_type": "markdown",
   "metadata": {},
   "source": [
    "# EDA and Data Visualization"
   ]
  },
  {
   "cell_type": "markdown",
   "metadata": {},
   "source": [
    "## Check Correlation between Numeric Variables"
   ]
  },
  {
   "cell_type": "code",
   "execution_count": 29,
   "metadata": {},
   "outputs": [],
   "source": [
    "corr = df[[\"MonthlyCharges\", \"TotalCharges\"]].corr()"
   ]
  },
  {
   "cell_type": "code",
   "execution_count": 30,
   "metadata": {},
   "outputs": [
    {
     "data": {
      "text/plain": [
       "<matplotlib.axes._subplots.AxesSubplot at 0x7fa0a08120b8>"
      ]
     },
     "execution_count": 30,
     "metadata": {},
     "output_type": "execute_result"
    },
    {
     "data": {
      "image/png": "[encoded data removed]",
      "text/plain": [
       "<matplotlib.figure.Figure at 0x7fa0a08126a0>"
      ]
     },
     "metadata": {},
     "output_type": "display_data"
    }
   ],
   "source": [
    "# Set up the matplotlib figure\n",
    "f, ax = plt.subplots(figsize=(6, 6))\n",
    "\n",
    "# Generate a custom diverging colormap\n",
    "cmap = sns.diverging_palette(220, 10, as_cmap=True)\n",
    "\n",
    "# Draw the heatmap with the mask and correct aspect ratio\n",
    "sns.heatmap(corr, cmap=cmap, vmax=.3, center=0, annot=True,\n",
    "            square=True, linewidths=.5, cbar_kws={\"shrink\": .5})"
   ]
  },
  {
   "cell_type": "markdown",
   "metadata": {},
   "source": [
    "As expected, the MonthlyCharges and TotalCharges columns are highly correlated. So we can arbitrarily remove one of them before fitting the model as this would have no effect on learning. Let's remove TotalCharges."
   ]
  },
  {
   "cell_type": "code",
   "execution_count": 31,
   "metadata": {},
   "outputs": [],
   "source": [
    "df.drop(\"TotalCharges\", axis=1, inplace=True)"
   ]
  },
  {
   "cell_type": "code",
   "execution_count": 32,
   "metadata": {},
   "outputs": [
    {
     "data": {
      "text/html": [
       "<div>\n",
       "<style scoped>\n",
       "    .dataframe tbody tr th:only-of-type {\n",
       "        vertical-align: middle;\n",
       "    }\n",
       "\n",
       "    .dataframe tbody tr th {\n",
       "        vertical-align: top;\n",
       "    }\n",
       "\n",
       "    .dataframe thead th {\n",
       "        text-align: right;\n",
       "    }\n",
       "</style>\n",
       "<table border=\"1\" class=\"dataframe\">\n",
       "  <thead>\n",
       "    <tr style=\"text-align: right;\">\n",
       "      <th></th>\n",
       "      <th>Gender</th>\n",
       "      <th>SeniorCitizen</th>\n",
       "      <th>Partner</th>\n",
       "      <th>Dependents</th>\n",
       "      <th>PhoneService</th>\n",
       "      <th>MultipleLines</th>\n",
       "      <th>InternetService</th>\n",
       "      <th>OnlineSecurity</th>\n",
       "      <th>OnlineBackup</th>\n",
       "      <th>DeviceProtection</th>\n",
       "      <th>TechSupport</th>\n",
       "      <th>StreamingTV</th>\n",
       "      <th>StreamingMovies</th>\n",
       "      <th>Contract</th>\n",
       "      <th>PaperlessBilling</th>\n",
       "      <th>PaymentMethod</th>\n",
       "      <th>MonthlyCharges</th>\n",
       "      <th>Tenure_Group</th>\n",
       "      <th>Churn</th>\n",
       "    </tr>\n",
       "  </thead>\n",
       "  <tbody>\n",
       "    <tr>\n",
       "      <th>0</th>\n",
       "      <td>0</td>\n",
       "      <td>0</td>\n",
       "      <td>1</td>\n",
       "      <td>0</td>\n",
       "      <td>0</td>\n",
       "      <td>0</td>\n",
       "      <td>0</td>\n",
       "      <td>0</td>\n",
       "      <td>1</td>\n",
       "      <td>0</td>\n",
       "      <td>0</td>\n",
       "      <td>0</td>\n",
       "      <td>0</td>\n",
       "      <td>0</td>\n",
       "      <td>1</td>\n",
       "      <td>2</td>\n",
       "      <td>29.85</td>\n",
       "      <td>3</td>\n",
       "      <td>0</td>\n",
       "    </tr>\n",
       "    <tr>\n",
       "      <th>1</th>\n",
       "      <td>1</td>\n",
       "      <td>0</td>\n",
       "      <td>0</td>\n",
       "      <td>0</td>\n",
       "      <td>1</td>\n",
       "      <td>0</td>\n",
       "      <td>0</td>\n",
       "      <td>1</td>\n",
       "      <td>0</td>\n",
       "      <td>1</td>\n",
       "      <td>0</td>\n",
       "      <td>0</td>\n",
       "      <td>0</td>\n",
       "      <td>1</td>\n",
       "      <td>0</td>\n",
       "      <td>3</td>\n",
       "      <td>56.95</td>\n",
       "      <td>1</td>\n",
       "      <td>0</td>\n",
       "    </tr>\n",
       "    <tr>\n",
       "      <th>2</th>\n",
       "      <td>1</td>\n",
       "      <td>0</td>\n",
       "      <td>0</td>\n",
       "      <td>0</td>\n",
       "      <td>1</td>\n",
       "      <td>0</td>\n",
       "      <td>0</td>\n",
       "      <td>1</td>\n",
       "      <td>1</td>\n",
       "      <td>0</td>\n",
       "      <td>0</td>\n",
       "      <td>0</td>\n",
       "      <td>0</td>\n",
       "      <td>0</td>\n",
       "      <td>1</td>\n",
       "      <td>3</td>\n",
       "      <td>53.85</td>\n",
       "      <td>3</td>\n",
       "      <td>1</td>\n",
       "    </tr>\n",
       "    <tr>\n",
       "      <th>3</th>\n",
       "      <td>1</td>\n",
       "      <td>0</td>\n",
       "      <td>0</td>\n",
       "      <td>0</td>\n",
       "      <td>0</td>\n",
       "      <td>0</td>\n",
       "      <td>0</td>\n",
       "      <td>1</td>\n",
       "      <td>0</td>\n",
       "      <td>1</td>\n",
       "      <td>1</td>\n",
       "      <td>0</td>\n",
       "      <td>0</td>\n",
       "      <td>1</td>\n",
       "      <td>0</td>\n",
       "      <td>0</td>\n",
       "      <td>42.30</td>\n",
       "      <td>1</td>\n",
       "      <td>0</td>\n",
       "    </tr>\n",
       "    <tr>\n",
       "      <th>4</th>\n",
       "      <td>0</td>\n",
       "      <td>0</td>\n",
       "      <td>0</td>\n",
       "      <td>0</td>\n",
       "      <td>1</td>\n",
       "      <td>0</td>\n",
       "      <td>1</td>\n",
       "      <td>0</td>\n",
       "      <td>0</td>\n",
       "      <td>0</td>\n",
       "      <td>0</td>\n",
       "      <td>0</td>\n",
       "      <td>0</td>\n",
       "      <td>0</td>\n",
       "      <td>1</td>\n",
       "      <td>2</td>\n",
       "      <td>70.70</td>\n",
       "      <td>3</td>\n",
       "      <td>1</td>\n",
       "    </tr>\n",
       "  </tbody>\n",
       "</table>\n",
       "</div>"
      ],
      "text/plain": [
       "   Gender  SeniorCitizen  Partner  Dependents  PhoneService  MultipleLines  \\\n",
       "0       0              0        1           0             0              0   \n",
       "1       1              0        0           0             1              0   \n",
       "2       1              0        0           0             1              0   \n",
       "3       1              0        0           0             0              0   \n",
       "4       0              0        0           0             1              0   \n",
       "\n",
       "   InternetService  OnlineSecurity  OnlineBackup  DeviceProtection  \\\n",
       "0                0               0             1                 0   \n",
       "1                0               1             0                 1   \n",
       "2                0               1             1                 0   \n",
       "3                0               1             0                 1   \n",
       "4                1               0             0                 0   \n",
       "\n",
       "   TechSupport  StreamingTV  StreamingMovies  Contract  PaperlessBilling  \\\n",
       "0            0            0                0         0                 1   \n",
       "1            0            0                0         1                 0   \n",
       "2            0            0                0         0                 1   \n",
       "3            1            0                0         1                 0   \n",
       "4            0            0                0         0                 1   \n",
       "\n",
       "   PaymentMethod  MonthlyCharges  Tenure_Group  Churn  \n",
       "0              2           29.85             3      0  \n",
       "1              3           56.95             1      0  \n",
       "2              3           53.85             3      1  \n",
       "3              0           42.30             1      0  \n",
       "4              2           70.70             3      1  "
      ]
     },
     "execution_count": 32,
     "metadata": {},
     "output_type": "execute_result"
    }
   ],
   "source": [
    "df.head()"
   ]
  },
  {
   "cell_type": "markdown",
   "metadata": {},
   "source": [
    "## Barplots to Assess Categorical Variable Distribution"
   ]
  },
  {
   "cell_type": "markdown",
   "metadata": {},
   "source": [
    "The sns.countplot() function plots only the counts of the values of each categorical variable. But since we're interested in creating percentage barplots (to visualize the percentage of occurence of each value for a categorical variable), let's quickly create a function to do just that."
   ]
  },
  {
   "cell_type": "code",
   "execution_count": 33,
   "metadata": {},
   "outputs": [],
   "source": [
    "def create_pc_barplot(data=df, columns=[], fig_size=(2,2), nrows=2, ncols=2, nplots=4, rotate=0, rowspace=0.2, colspace=0.3):\n",
    "    fig = plt.figure(figsize=fig_size)\n",
    "    for r in range(1, nplots+1):\n",
    "        ax = fig.add_subplot(nrows, ncols, r)\n",
    "        ax = sns.barplot(x=cols[r-1], y=cols[r-1], data=data, \\\n",
    "                         estimator=lambda x: len(x) / len(df) * 100)\n",
    "        sns.despine(left=True, bottom=True)\n",
    "        sns.set_style(\"whitegrid\")\n",
    "        ax.set_title(cols[r-1])\n",
    "        ax.set_xlabel(\"\")\n",
    "        ax.set_ylabel(\"\")\n",
    "        if (r%2 != 0):\n",
    "            ax.set_ylabel(\"percentage\")\n",
    "        plt.subplots_adjust(left=0.4, bottom=0.4, right=1.2, top=1.2,\n",
    "                    wspace=colspace, hspace=rowspace)"
   ]
  },
  {
   "cell_type": "markdown",
   "metadata": {},
   "source": [
    "Let's create the first four barplots."
   ]
  },
  {
   "cell_type": "code",
   "execution_count": 34,
   "metadata": {},
   "outputs": [
    {
     "data": {
      "image/png": "[encoded data removed]",
      "text/plain": [
       "<matplotlib.figure.Figure at 0x7fa0a0812a58>"
      ]
     },
     "metadata": {},
     "output_type": "display_data"
    }
   ],
   "source": [
    "cols = [\"Gender\", \"SeniorCitizen\", \"Partner\", \"Dependents\"]\n",
    "create_pc_barplot(df, cols, (9,9), 2, 2, 4)"
   ]
  },
  {
   "cell_type": "code",
   "execution_count": 35,
   "metadata": {},
   "outputs": [
    {
     "data": {
      "image/png": "[encoded data removed]",
      "text/plain": [
       "<matplotlib.figure.Figure at 0x7fa093df9780>"
      ]
     },
     "metadata": {},
     "output_type": "display_data"
    }
   ],
   "source": [
    "cols = [\"PhoneService\", \"MultipleLines\", \"InternetService\", \\\n",
    "        \"OnlineSecurity\"]\n",
    "create_pc_barplot(df, cols, (9,9), 2, 2, 4)"
   ]
  },
  {
   "cell_type": "code",
   "execution_count": 36,
   "metadata": {},
   "outputs": [
    {
     "data": {
      "image/png": "[encoded data removed]",
      "text/plain": [
       "<matplotlib.figure.Figure at 0x7fa093de5710>"
      ]
     },
     "metadata": {},
     "output_type": "display_data"
    }
   ],
   "source": [
    "cols = [\"OnlineBackup\", \"DeviceProtection\", \"TechSupport\", \\\n",
    "        \"StreamingTV\"]\n",
    "create_pc_barplot(df, cols, (9,9), 2, 2, 4)"
   ]
  },
  {
   "cell_type": "code",
   "execution_count": 37,
   "metadata": {},
   "outputs": [
    {
     "data": {
      "image/png": "[encoded data removed]",
      "text/plain": [
       "<matplotlib.figure.Figure at 0x7fa093bcb2e8>"
      ]
     },
     "metadata": {},
     "output_type": "display_data"
    }
   ],
   "source": [
    "cols = [\"StreamingMovies\", \"Contract\", \"PaperlessBilling\", \\\n",
    "        \"Tenure_Group\", \"PaymentMethod\", \"Churn\"]\n",
    "create_pc_barplot(df, cols, (10,10), 3, 2, 6, 0, 0.4, 0.3)"
   ]
  },
  {
   "cell_type": "markdown",
   "metadata": {},
   "source": [
    "We can see from the \"Churn\" plot that around 28% of the customers in our dataset churned whereas the rest didn't. Furthermore, almost all of the categorical variables seem to have a fairly balanced distribution, so let's keep all of them for the modeling phase."
   ]
  },
  {
   "cell_type": "markdown",
   "metadata": {},
   "source": [
    "***"
   ]
  },
  {
   "cell_type": "markdown",
   "metadata": {},
   "source": [
    "# Machine Learning"
   ]
  },
  {
   "cell_type": "markdown",
   "metadata": {},
   "source": [
    "Now it's time to learn concept descriptions from our dataset so that we may be able to distinguish examples of one class (Churn = \"No\") from those of another (Churn = \"Yes\"). Once we've learnt from our historical data, we should be able to predict whether a new (previously unseen) customer will Churn or not."
   ]
  },
  {
   "cell_type": "markdown",
   "metadata": {},
   "source": [
    "# Linear Models"
   ]
  },
  {
   "cell_type": "markdown",
   "metadata": {},
   "source": [
    "There's a famous quote by Leonardo da Vinci: \"Simplicity is the ultimate sophistication\". So we should always try simple learning methodologies first before moving on to more complex models. In that spririt, let's start with logistic regression and see how accurate a model we can get."
   ]
  },
  {
   "cell_type": "markdown",
   "metadata": {},
   "source": [
    "## Logistic Regression"
   ]
  },
  {
   "cell_type": "markdown",
   "metadata": {},
   "source": [
    "### Creating Dummy Variables"
   ]
  },
  {
   "cell_type": "markdown",
   "metadata": {},
   "source": [
    "In the case of logistic regression, we need to convert each variable into dummy variables, where each dummy variable is binary and is one of the values of the original variable. The number of dummy variables created for a particular variable is one less than the total number of values for that variable."
   ]
  },
  {
   "cell_type": "code",
   "execution_count": 38,
   "metadata": {},
   "outputs": [
    {
     "data": {
      "text/html": [
       "<div>\n",
       "<style scoped>\n",
       "    .dataframe tbody tr th:only-of-type {\n",
       "        vertical-align: middle;\n",
       "    }\n",
       "\n",
       "    .dataframe tbody tr th {\n",
       "        vertical-align: top;\n",
       "    }\n",
       "\n",
       "    .dataframe thead th {\n",
       "        text-align: right;\n",
       "    }\n",
       "</style>\n",
       "<table border=\"1\" class=\"dataframe\">\n",
       "  <thead>\n",
       "    <tr style=\"text-align: right;\">\n",
       "      <th></th>\n",
       "      <th>Gender</th>\n",
       "      <th>SeniorCitizen</th>\n",
       "      <th>Partner</th>\n",
       "      <th>Dependents</th>\n",
       "      <th>PhoneService</th>\n",
       "      <th>MultipleLines</th>\n",
       "      <th>InternetService</th>\n",
       "      <th>OnlineSecurity</th>\n",
       "      <th>OnlineBackup</th>\n",
       "      <th>DeviceProtection</th>\n",
       "      <th>TechSupport</th>\n",
       "      <th>StreamingTV</th>\n",
       "      <th>StreamingMovies</th>\n",
       "      <th>Contract</th>\n",
       "      <th>PaperlessBilling</th>\n",
       "      <th>PaymentMethod</th>\n",
       "      <th>MonthlyCharges</th>\n",
       "      <th>Tenure_Group</th>\n",
       "      <th>Churn</th>\n",
       "    </tr>\n",
       "  </thead>\n",
       "  <tbody>\n",
       "    <tr>\n",
       "      <th>0</th>\n",
       "      <td>0</td>\n",
       "      <td>0</td>\n",
       "      <td>1</td>\n",
       "      <td>0</td>\n",
       "      <td>0</td>\n",
       "      <td>0</td>\n",
       "      <td>0</td>\n",
       "      <td>0</td>\n",
       "      <td>1</td>\n",
       "      <td>0</td>\n",
       "      <td>0</td>\n",
       "      <td>0</td>\n",
       "      <td>0</td>\n",
       "      <td>0</td>\n",
       "      <td>1</td>\n",
       "      <td>2</td>\n",
       "      <td>29.85</td>\n",
       "      <td>3</td>\n",
       "      <td>0</td>\n",
       "    </tr>\n",
       "    <tr>\n",
       "      <th>1</th>\n",
       "      <td>1</td>\n",
       "      <td>0</td>\n",
       "      <td>0</td>\n",
       "      <td>0</td>\n",
       "      <td>1</td>\n",
       "      <td>0</td>\n",
       "      <td>0</td>\n",
       "      <td>1</td>\n",
       "      <td>0</td>\n",
       "      <td>1</td>\n",
       "      <td>0</td>\n",
       "      <td>0</td>\n",
       "      <td>0</td>\n",
       "      <td>1</td>\n",
       "      <td>0</td>\n",
       "      <td>3</td>\n",
       "      <td>56.95</td>\n",
       "      <td>1</td>\n",
       "      <td>0</td>\n",
       "    </tr>\n",
       "    <tr>\n",
       "      <th>2</th>\n",
       "      <td>1</td>\n",
       "      <td>0</td>\n",
       "      <td>0</td>\n",
       "      <td>0</td>\n",
       "      <td>1</td>\n",
       "      <td>0</td>\n",
       "      <td>0</td>\n",
       "      <td>1</td>\n",
       "      <td>1</td>\n",
       "      <td>0</td>\n",
       "      <td>0</td>\n",
       "      <td>0</td>\n",
       "      <td>0</td>\n",
       "      <td>0</td>\n",
       "      <td>1</td>\n",
       "      <td>3</td>\n",
       "      <td>53.85</td>\n",
       "      <td>3</td>\n",
       "      <td>1</td>\n",
       "    </tr>\n",
       "    <tr>\n",
       "      <th>3</th>\n",
       "      <td>1</td>\n",
       "      <td>0</td>\n",
       "      <td>0</td>\n",
       "      <td>0</td>\n",
       "      <td>0</td>\n",
       "      <td>0</td>\n",
       "      <td>0</td>\n",
       "      <td>1</td>\n",
       "      <td>0</td>\n",
       "      <td>1</td>\n",
       "      <td>1</td>\n",
       "      <td>0</td>\n",
       "      <td>0</td>\n",
       "      <td>1</td>\n",
       "      <td>0</td>\n",
       "      <td>0</td>\n",
       "      <td>42.30</td>\n",
       "      <td>1</td>\n",
       "      <td>0</td>\n",
       "    </tr>\n",
       "    <tr>\n",
       "      <th>4</th>\n",
       "      <td>0</td>\n",
       "      <td>0</td>\n",
       "      <td>0</td>\n",
       "      <td>0</td>\n",
       "      <td>1</td>\n",
       "      <td>0</td>\n",
       "      <td>1</td>\n",
       "      <td>0</td>\n",
       "      <td>0</td>\n",
       "      <td>0</td>\n",
       "      <td>0</td>\n",
       "      <td>0</td>\n",
       "      <td>0</td>\n",
       "      <td>0</td>\n",
       "      <td>1</td>\n",
       "      <td>2</td>\n",
       "      <td>70.70</td>\n",
       "      <td>3</td>\n",
       "      <td>1</td>\n",
       "    </tr>\n",
       "  </tbody>\n",
       "</table>\n",
       "</div>"
      ],
      "text/plain": [
       "   Gender  SeniorCitizen  Partner  Dependents  PhoneService  MultipleLines  \\\n",
       "0       0              0        1           0             0              0   \n",
       "1       1              0        0           0             1              0   \n",
       "2       1              0        0           0             1              0   \n",
       "3       1              0        0           0             0              0   \n",
       "4       0              0        0           0             1              0   \n",
       "\n",
       "   InternetService  OnlineSecurity  OnlineBackup  DeviceProtection  \\\n",
       "0                0               0             1                 0   \n",
       "1                0               1             0                 1   \n",
       "2                0               1             1                 0   \n",
       "3                0               1             0                 1   \n",
       "4                1               0             0                 0   \n",
       "\n",
       "   TechSupport  StreamingTV  StreamingMovies  Contract  PaperlessBilling  \\\n",
       "0            0            0                0         0                 1   \n",
       "1            0            0                0         1                 0   \n",
       "2            0            0                0         0                 1   \n",
       "3            1            0                0         1                 0   \n",
       "4            0            0                0         0                 1   \n",
       "\n",
       "   PaymentMethod  MonthlyCharges  Tenure_Group  Churn  \n",
       "0              2           29.85             3      0  \n",
       "1              3           56.95             1      0  \n",
       "2              3           53.85             3      1  \n",
       "3              0           42.30             1      0  \n",
       "4              2           70.70             3      1  "
      ]
     },
     "execution_count": 38,
     "metadata": {},
     "output_type": "execute_result"
    }
   ],
   "source": [
    "df.head()"
   ]
  },
  {
   "cell_type": "markdown",
   "metadata": {},
   "source": [
    "We'll now create a new version of our dataset called df_dummy in which each of the categorical variables (except the class) will be converted into one or more dummy variables."
   ]
  },
  {
   "cell_type": "code",
   "execution_count": 39,
   "metadata": {},
   "outputs": [],
   "source": [
    "cols = [\"Gender\", \"SeniorCitizen\", \"Partner\", \"Dependents\", \\\n",
    "        \"PhoneService\", \"MultipleLines\", \"InternetService\", \\\n",
    "        \"OnlineSecurity\", \"OnlineBackup\", \"DeviceProtection\", \\\n",
    "        \"TechSupport\", \"StreamingTV\", \"StreamingMovies\", \"Contract\", \\\n",
    "        \"PaperlessBilling\", \"PaymentMethod\", \"Tenure_Group\"]\n",
    "df_dummy = pd.get_dummies(df, columns=cols, drop_first=True)"
   ]
  },
  {
   "cell_type": "code",
   "execution_count": 40,
   "metadata": {},
   "outputs": [
    {
     "data": {
      "text/html": [
       "<div>\n",
       "<style scoped>\n",
       "    .dataframe tbody tr th:only-of-type {\n",
       "        vertical-align: middle;\n",
       "    }\n",
       "\n",
       "    .dataframe tbody tr th {\n",
       "        vertical-align: top;\n",
       "    }\n",
       "\n",
       "    .dataframe thead th {\n",
       "        text-align: right;\n",
       "    }\n",
       "</style>\n",
       "<table border=\"1\" class=\"dataframe\">\n",
       "  <thead>\n",
       "    <tr style=\"text-align: right;\">\n",
       "      <th></th>\n",
       "      <th>MonthlyCharges</th>\n",
       "      <th>Churn</th>\n",
       "      <th>Gender_1</th>\n",
       "      <th>SeniorCitizen_1</th>\n",
       "      <th>Partner_1</th>\n",
       "      <th>Dependents_1</th>\n",
       "      <th>PhoneService_1</th>\n",
       "      <th>MultipleLines_1</th>\n",
       "      <th>InternetService_1</th>\n",
       "      <th>InternetService_2</th>\n",
       "      <th>...</th>\n",
       "      <th>Contract_1</th>\n",
       "      <th>Contract_2</th>\n",
       "      <th>PaperlessBilling_1</th>\n",
       "      <th>PaymentMethod_1</th>\n",
       "      <th>PaymentMethod_2</th>\n",
       "      <th>PaymentMethod_3</th>\n",
       "      <th>Tenure_Group_1</th>\n",
       "      <th>Tenure_Group_2</th>\n",
       "      <th>Tenure_Group_3</th>\n",
       "      <th>Tenure_Group_4</th>\n",
       "    </tr>\n",
       "  </thead>\n",
       "  <tbody>\n",
       "    <tr>\n",
       "      <th>0</th>\n",
       "      <td>29.85</td>\n",
       "      <td>0</td>\n",
       "      <td>0</td>\n",
       "      <td>0</td>\n",
       "      <td>1</td>\n",
       "      <td>0</td>\n",
       "      <td>0</td>\n",
       "      <td>0</td>\n",
       "      <td>0</td>\n",
       "      <td>0</td>\n",
       "      <td>...</td>\n",
       "      <td>0</td>\n",
       "      <td>0</td>\n",
       "      <td>1</td>\n",
       "      <td>0</td>\n",
       "      <td>1</td>\n",
       "      <td>0</td>\n",
       "      <td>0</td>\n",
       "      <td>0</td>\n",
       "      <td>1</td>\n",
       "      <td>0</td>\n",
       "    </tr>\n",
       "    <tr>\n",
       "      <th>1</th>\n",
       "      <td>56.95</td>\n",
       "      <td>0</td>\n",
       "      <td>1</td>\n",
       "      <td>0</td>\n",
       "      <td>0</td>\n",
       "      <td>0</td>\n",
       "      <td>1</td>\n",
       "      <td>0</td>\n",
       "      <td>0</td>\n",
       "      <td>0</td>\n",
       "      <td>...</td>\n",
       "      <td>1</td>\n",
       "      <td>0</td>\n",
       "      <td>0</td>\n",
       "      <td>0</td>\n",
       "      <td>0</td>\n",
       "      <td>1</td>\n",
       "      <td>1</td>\n",
       "      <td>0</td>\n",
       "      <td>0</td>\n",
       "      <td>0</td>\n",
       "    </tr>\n",
       "    <tr>\n",
       "      <th>2</th>\n",
       "      <td>53.85</td>\n",
       "      <td>1</td>\n",
       "      <td>1</td>\n",
       "      <td>0</td>\n",
       "      <td>0</td>\n",
       "      <td>0</td>\n",
       "      <td>1</td>\n",
       "      <td>0</td>\n",
       "      <td>0</td>\n",
       "      <td>0</td>\n",
       "      <td>...</td>\n",
       "      <td>0</td>\n",
       "      <td>0</td>\n",
       "      <td>1</td>\n",
       "      <td>0</td>\n",
       "      <td>0</td>\n",
       "      <td>1</td>\n",
       "      <td>0</td>\n",
       "      <td>0</td>\n",
       "      <td>1</td>\n",
       "      <td>0</td>\n",
       "    </tr>\n",
       "    <tr>\n",
       "      <th>3</th>\n",
       "      <td>42.30</td>\n",
       "      <td>0</td>\n",
       "      <td>1</td>\n",
       "      <td>0</td>\n",
       "      <td>0</td>\n",
       "      <td>0</td>\n",
       "      <td>0</td>\n",
       "      <td>0</td>\n",
       "      <td>0</td>\n",
       "      <td>0</td>\n",
       "      <td>...</td>\n",
       "      <td>1</td>\n",
       "      <td>0</td>\n",
       "      <td>0</td>\n",
       "      <td>0</td>\n",
       "      <td>0</td>\n",
       "      <td>0</td>\n",
       "      <td>1</td>\n",
       "      <td>0</td>\n",
       "      <td>0</td>\n",
       "      <td>0</td>\n",
       "    </tr>\n",
       "    <tr>\n",
       "      <th>4</th>\n",
       "      <td>70.70</td>\n",
       "      <td>1</td>\n",
       "      <td>0</td>\n",
       "      <td>0</td>\n",
       "      <td>0</td>\n",
       "      <td>0</td>\n",
       "      <td>1</td>\n",
       "      <td>0</td>\n",
       "      <td>1</td>\n",
       "      <td>0</td>\n",
       "      <td>...</td>\n",
       "      <td>0</td>\n",
       "      <td>0</td>\n",
       "      <td>1</td>\n",
       "      <td>0</td>\n",
       "      <td>1</td>\n",
       "      <td>0</td>\n",
       "      <td>0</td>\n",
       "      <td>0</td>\n",
       "      <td>1</td>\n",
       "      <td>0</td>\n",
       "    </tr>\n",
       "  </tbody>\n",
       "</table>\n",
       "<p>5 rows × 26 columns</p>\n",
       "</div>"
      ],
      "text/plain": [
       "   MonthlyCharges  Churn  Gender_1  SeniorCitizen_1  Partner_1  Dependents_1  \\\n",
       "0           29.85      0         0                0          1             0   \n",
       "1           56.95      0         1                0          0             0   \n",
       "2           53.85      1         1                0          0             0   \n",
       "3           42.30      0         1                0          0             0   \n",
       "4           70.70      1         0                0          0             0   \n",
       "\n",
       "   PhoneService_1  MultipleLines_1  InternetService_1  InternetService_2  \\\n",
       "0               0                0                  0                  0   \n",
       "1               1                0                  0                  0   \n",
       "2               1                0                  0                  0   \n",
       "3               0                0                  0                  0   \n",
       "4               1                0                  1                  0   \n",
       "\n",
       "        ...        Contract_1  Contract_2  PaperlessBilling_1  \\\n",
       "0       ...                 0           0                   1   \n",
       "1       ...                 1           0                   0   \n",
       "2       ...                 0           0                   1   \n",
       "3       ...                 1           0                   0   \n",
       "4       ...                 0           0                   1   \n",
       "\n",
       "   PaymentMethod_1  PaymentMethod_2  PaymentMethod_3  Tenure_Group_1  \\\n",
       "0                0                1                0               0   \n",
       "1                0                0                1               1   \n",
       "2                0                0                1               0   \n",
       "3                0                0                0               1   \n",
       "4                0                1                0               0   \n",
       "\n",
       "   Tenure_Group_2  Tenure_Group_3  Tenure_Group_4  \n",
       "0               0               1               0  \n",
       "1               0               0               0  \n",
       "2               0               1               0  \n",
       "3               0               0               0  \n",
       "4               0               1               0  \n",
       "\n",
       "[5 rows x 26 columns]"
      ]
     },
     "execution_count": 40,
     "metadata": {},
     "output_type": "execute_result"
    }
   ],
   "source": [
    "df_dummy.head()"
   ]
  },
  {
   "cell_type": "markdown",
   "metadata": {},
   "source": [
    "### Checking Independence between Predictors"
   ]
  },
  {
   "cell_type": "code",
   "execution_count": 41,
   "metadata": {},
   "outputs": [
    {
     "data": {
      "text/plain": [
       "<matplotlib.axes._subplots.AxesSubplot at 0x7fa093b7f898>"
      ]
     },
     "execution_count": 41,
     "metadata": {},
     "output_type": "execute_result"
    },
    {
     "data": {
      "image/png": "[encoded data removed]",
      "text/plain": [
       "<matplotlib.figure.Figure at 0x7fa093c59ac8>"
      ]
     },
     "metadata": {},
     "output_type": "display_data"
    }
   ],
   "source": [
    "fig, ax = plt.subplots(figsize=(8,6))\n",
    "sns.heatmap(df_dummy.corr(), cmap='RdYlGn')"
   ]
  },
  {
   "cell_type": "markdown",
   "metadata": {},
   "source": [
    "The diagonal in the middle shows that each categorical predictor is only strongly dependent on itself and is almost independent of the other categorical predictors. So everything looks good."
   ]
  },
  {
   "cell_type": "markdown",
   "metadata": {},
   "source": [
    "### Separating the Predictors from Response"
   ]
  },
  {
   "cell_type": "markdown",
   "metadata": {},
   "source": [
    "We'll have to create two dataframes now, one containing all the predictors and the other containing only the response. This is necessary before we can proceed with the learning phase. The custom of choosing a capital letter for the predictors dataframe and a small case letter for the response dataframe will be maintained."
   ]
  },
  {
   "cell_type": "code",
   "execution_count": 42,
   "metadata": {},
   "outputs": [
    {
     "name": "stdout",
     "output_type": "stream",
     "text": [
      "X shape: (7032, 25) \n",
      "y shape: (7032,)\n"
     ]
    }
   ],
   "source": [
    "X = df_dummy.drop(\"Churn\", axis=1)\n",
    "y = df_dummy[\"Churn\"]\n",
    "print(\"X shape: {}\".format(X.shape), \"\\ny shape: {}\".format(y.shape))"
   ]
  },
  {
   "cell_type": "markdown",
   "metadata": {},
   "source": [
    "### Splitting the Data randomly into a Training and Test Set"
   ]
  },
  {
   "cell_type": "markdown",
   "metadata": {},
   "source": [
    "Let's split our dataset into a randomly selected training set which includes 70% of rows in our dataset and a test set which includes the remaining 30%."
   ]
  },
  {
   "cell_type": "code",
   "execution_count": 43,
   "metadata": {},
   "outputs": [],
   "source": [
    "from sklearn.model_selection import train_test_split"
   ]
  },
  {
   "cell_type": "code",
   "execution_count": 44,
   "metadata": {},
   "outputs": [],
   "source": [
    "X_train, X_test, y_train, y_test = train_test_split(X, y, test_size=0.3)"
   ]
  },
  {
   "cell_type": "code",
   "execution_count": 45,
   "metadata": {},
   "outputs": [
    {
     "name": "stdout",
     "output_type": "stream",
     "text": [
      "X_train shape: (4922, 25) , X_test shape: (2110, 25)\n",
      "y_train shape: (4922,) ,    y_test shape: (2110,)\n"
     ]
    }
   ],
   "source": [
    "print(\"X_train shape: {}\".format(X_train.shape), \", X_test shape: {}\".format(X_test.shape))\n",
    "print(\"y_train shape: {}\".format(y_train.shape), \",    y_test shape: {}\".format(y_test.shape))"
   ]
  },
  {
   "cell_type": "markdown",
   "metadata": {},
   "source": [
    "### 1- The Initial Logistic Regression Model"
   ]
  },
  {
   "cell_type": "code",
   "execution_count": 46,
   "metadata": {},
   "outputs": [],
   "source": [
    "from sklearn.linear_model import LogisticRegression\n",
    "lr = LogisticRegression()"
   ]
  },
  {
   "cell_type": "markdown",
   "metadata": {},
   "source": [
    "#### 1.1- Model Fitting and Evaluation using Holdout Method"
   ]
  },
  {
   "cell_type": "markdown",
   "metadata": {},
   "source": [
    "In the holdout method, we randomly split the dataset into a training and test set. Typically the training set is bigger than the test set as we have done above."
   ]
  },
  {
   "cell_type": "code",
   "execution_count": 47,
   "metadata": {},
   "outputs": [],
   "source": [
    "from sklearn.metrics import classification_report, confusion_matrix"
   ]
  },
  {
   "cell_type": "code",
   "execution_count": 48,
   "metadata": {},
   "outputs": [
    {
     "name": "stdout",
     "output_type": "stream",
     "text": [
      "[[1393  148]\n",
      " [ 279  290]]\n",
      "\n",
      "\n",
      "             precision    recall  f1-score   support\n",
      "\n",
      "          0       0.83      0.90      0.87      1541\n",
      "          1       0.66      0.51      0.58       569\n",
      "\n",
      "avg / total       0.79      0.80      0.79      2110\n",
      "\n"
     ]
    }
   ],
   "source": [
    "lr.fit(X_train, y_train)\n",
    "predictions = lr.predict(X_test)\n",
    "print(confusion_matrix(y_test, predictions))\n",
    "print('\\n')\n",
    "print(classification_report(y_test, predictions))"
   ]
  },
  {
   "cell_type": "markdown",
   "metadata": {},
   "source": [
    "#### 1.2- Model Fitting and Evaluation using Cross-validation"
   ]
  },
  {
   "cell_type": "markdown",
   "metadata": {},
   "source": [
    "Cross-validation is a statistical method of evaluating generalization performance that is more stable and thorough than using a single split into a training and testing set. In cross-validation, the data is instead split repeatedly and multiple models are trained. The most commonly used version of cross-validation is 10-fold cross-validation. The function cross_val_score() takes care of splitting the data, so we only need to provide it with the dataframes X and y."
   ]
  },
  {
   "cell_type": "code",
   "execution_count": 49,
   "metadata": {},
   "outputs": [
    {
     "name": "stdout",
     "output_type": "stream",
     "text": [
      "Cross-validation scores on individual folds:\n",
      "[0.7926, 0.8125, 0.7955, 0.8137, 0.7838, 0.7838, 0.8122, 0.808, 0.798, 0.8077]\n",
      "\n",
      "Cross-validation mean score: 0.8008\n"
     ]
    }
   ],
   "source": [
    "from sklearn.model_selection import cross_val_score\n",
    "\n",
    "scores = cross_val_score(lr, X, y, cv=10)\n",
    "print(\"Cross-validation scores on individual folds:\\n{}\".format(list(scores.round(4))))\n",
    "print(\"\\nCross-validation mean score: {}\".format(scores.mean().round(4)))"
   ]
  },
  {
   "cell_type": "markdown",
   "metadata": {},
   "source": [
    "### 2- Improving the Model using Feature Selection"
   ]
  },
  {
   "cell_type": "markdown",
   "metadata": {},
   "source": [
    "Now let's try to select the most relevant and predictive features while dropping those that are less relevant and therefore either don't help in improving accuracy or deteriorate the accuracy by adding noise to the data. We'll try to select features that help us improve upon the accuracy of the base model above."
   ]
  },
  {
   "cell_type": "markdown",
   "metadata": {},
   "source": [
    "#### 2.1- Recursive Feature Elimination (RFE)"
   ]
  },
  {
   "cell_type": "markdown",
   "metadata": {},
   "source": [
    "Recursive Feature Elimination (RFE) is an iterative feature selection method, which builds a series of models with varying numbers of features. RFE starts with all features, builds a model, and discards the least important feature according to the model. Then a new model is built using all but the discarded feature, and so on until only a prespecified number of features are left. Although it's impossible to come up with the right number of predictors using random guessing, let's say we instruct the RFE model to select the best 15 features."
   ]
  },
  {
   "cell_type": "code",
   "execution_count": 50,
   "metadata": {},
   "outputs": [
    {
     "name": "stdout",
     "output_type": "stream",
     "text": [
      "[False False False False False  True  True  True  True  True False False\n",
      "  True False  True  True  True  True False  True False  True  True  True\n",
      "  True]\n"
     ]
    },
    {
     "data": {
      "text/plain": [
       "([], <a list of 0 Text yticklabel objects>)"
      ]
     },
     "execution_count": 50,
     "metadata": {},
     "output_type": "execute_result"
    },
    {
     "data": {
      "image/png": "[encoded data removed]",
      "text/plain": [
       "<matplotlib.figure.Figure at 0x7fa0901715c0>"
      ]
     },
     "metadata": {},
     "output_type": "display_data"
    }
   ],
   "source": [
    "from sklearn.feature_selection import RFE\n",
    "\n",
    "select = RFE(lr, n_features_to_select=15)\n",
    "select.fit(X_train, y_train)\n",
    "# visualize the selected features:\n",
    "mask = select.get_support()\n",
    "print(mask)\n",
    "plt.matshow(mask.reshape(1, -1), cmap='gray_r')\n",
    "plt.xlabel(\"Sample index\")\n",
    "plt.yticks([])"
   ]
  },
  {
   "cell_type": "markdown",
   "metadata": {},
   "source": [
    "##### 2.1.1- Model Fitting and Evaluation using Holdout Method"
   ]
  },
  {
   "cell_type": "code",
   "execution_count": 51,
   "metadata": {},
   "outputs": [],
   "source": [
    "X_train_rfe, X_test_rfe = X_train.loc[:,mask], X_test.loc[:,mask]"
   ]
  },
  {
   "cell_type": "code",
   "execution_count": 52,
   "metadata": {},
   "outputs": [
    {
     "name": "stdout",
     "output_type": "stream",
     "text": [
      "X_train_rfe shape: (4922, 15) , X_test_rfe shape: (2110, 15)\n"
     ]
    }
   ],
   "source": [
    "print(\"X_train_rfe shape: {}\".format(X_train_rfe.shape), \", X_test_rfe shape: {}\".format(X_test_rfe.shape))"
   ]
  },
  {
   "cell_type": "markdown",
   "metadata": {},
   "source": [
    "Once we have filtered the features selected by RFE as shown above, we can retrain and evaluate the model with the selected features."
   ]
  },
  {
   "cell_type": "code",
   "execution_count": 53,
   "metadata": {},
   "outputs": [
    {
     "name": "stdout",
     "output_type": "stream",
     "text": [
      "Test score: 0.7986\n"
     ]
    }
   ],
   "source": [
    "score = lr.fit(X_train_rfe, y_train).score(X_test_rfe, y_test)\n",
    "print(\"Test score: {:.4f}\".format(score))"
   ]
  },
  {
   "cell_type": "markdown",
   "metadata": {},
   "source": [
    "Or we can simply use the model trained inside the RFE to make predictions. However here we don't need to use X_test_rfe as the model from RFE will automatically use only the feature set that was selected during training."
   ]
  },
  {
   "cell_type": "code",
   "execution_count": 54,
   "metadata": {},
   "outputs": [
    {
     "name": "stdout",
     "output_type": "stream",
     "text": [
      "Test score: 0.7986\n"
     ]
    }
   ],
   "source": [
    "print(\"Test score: {:.4f}\".format(select.score(X_test, y_test)))"
   ]
  },
  {
   "cell_type": "markdown",
   "metadata": {},
   "source": [
    "#### 2.2- RFE in combination with Cross-validation for Feature Ranking (RFECV)"
   ]
  },
  {
   "cell_type": "markdown",
   "metadata": {},
   "source": [
    "Instead of guessing at the right number of features to select, we can use the function RFECV which performs RFE in a cross-validation loop to find the optimal number of features automatically. So if, for example, the total number of features in our dataset is 5 and we specify _step=1_ and _cv=10_, then the function initially starts will all 5 features, learns the model from the first training fold and validates it on the corresponding test fold. It then drops one least important feature (as we specified _step=1_) and relearns the model from the same training fold while validating it on the corresponding test fold. In this way, an accuracy score is obtained by dropping each of the 5 features one by one, learning from the first training fold while validating on the corresponding test fold. This is then repeated for each the remaining 9 training and test folds. In the end, the function returns the average of the cross validation score from the 10 test folds for each possible number of features."
   ]
  },
  {
   "cell_type": "code",
   "execution_count": 55,
   "metadata": {
    "scrolled": false
   },
   "outputs": [],
   "source": [
    "def RFECV_select_features(model):\n",
    "    from sklearn.feature_selection import RFECV\n",
    "    # Create the RFE object and compute a cross-validated score.\n",
    "    # The \"accuracy\" scoring is proportional to the number of correct classifications\n",
    "    select = RFECV(estimator=model, step=1, cv=10, scoring='accuracy')\n",
    "    select.fit(X, y)\n",
    "\n",
    "    # visualize the selected features:\n",
    "    global mask\n",
    "    mask = select.get_support()\n",
    "    print(mask)\n",
    "    plt.matshow(mask.reshape(1, -1), cmap='gray_r')\n",
    "    plt.xlabel(\"Sample index\")\n",
    "    plt.yticks([])\n",
    "    plt.show()\n",
    "\n",
    "    # visualize # of features selected vs cross-validation accuracy:\n",
    "    print(\"Legend: \\\"black\\\" = features selected, \\\"white\\\" = not selected\\n\")\n",
    "    f_score_dict = {}\n",
    "    for f in range(0, len(select.grid_scores_)):\n",
    "        f_score_dict[f+1] = select.grid_scores_[f].round(4)\n",
    "    print(\"\\033[1m\" + \"Optimal number of features & accuracy: ({:d}\".format(select.n_features_) + \\\n",
    "          \", {:.4f})\".format(f_score_dict[select.n_features_]) + \"\\033[0m\")\n",
    "    print(\"\\nNumber of features selected and corresponding accuracy is shown below and depicted in the plot:\\n\")\n",
    "    \n",
    "    print(f_score_dict)\n",
    "\n",
    "    # Plot number of features VS. cross-validation scores\n",
    "    plt.figure(figsize=(10,6))\n",
    "    plt.xlabel(\"Number of features selected\")\n",
    "    plt.ylabel(\"Cross validation accuracy\")\n",
    "    plt.plot(range(1, len(select.grid_scores_) + 1), select.grid_scores_)\n",
    "    plt.show()"
   ]
  },
  {
   "cell_type": "code",
   "execution_count": 56,
   "metadata": {},
   "outputs": [
    {
     "name": "stdout",
     "output_type": "stream",
     "text": [
      "[False False  True  True  True  True  True  True  True  True  True False\n",
      "  True  True  True  True  True  True  True  True False  True  True  True\n",
      "  True]\n"
     ]
    },
    {
     "data": {
      "image/png": "[encoded data removed]",
      "text/plain": [
       "<matplotlib.figure.Figure at 0x7fa09018f320>"
      ]
     },
     "metadata": {},
     "output_type": "display_data"
    },
    {
     "name": "stdout",
     "output_type": "stream",
     "text": [
      "Legend: \"black\" = features selected, \"white\" = not selected\n",
      "\n",
      "\u001b[1mOptimal number of features & accuracy: (21, 0.8013)\u001b[0m\n",
      "\n",
      "Number of features selected and corresponding accuracy is shown below and depicted in the plot:\n",
      "\n",
      "{1: 0.7342, 2: 0.7342, 3: 0.7621, 4: 0.7868, 5: 0.7868, 6: 0.7861, 7: 0.7911, 8: 0.7917, 9: 0.7945, 10: 0.7954, 11: 0.7956, 12: 0.7941, 13: 0.7929, 14: 0.7949, 15: 0.7976, 16: 0.7976, 17: 0.7986, 18: 0.8001, 19: 0.8003, 20: 0.7999, 21: 0.8013, 22: 0.8008, 23: 0.8009, 24: 0.8011, 25: 0.8008}\n"
     ]
    },
    {
     "data": {
      "image/png": "[encoded data removed]",
      "text/plain": [
       "<matplotlib.figure.Figure at 0x7fa0900a2c88>"
      ]
     },
     "metadata": {},
     "output_type": "display_data"
    }
   ],
   "source": [
    "RFECV_select_features(lr)"
   ]
  },
  {
   "cell_type": "markdown",
   "metadata": {},
   "source": [
    "For logistic regression, we can see that the accuracy seems to have improved slightly with feature selection. Although there aren't significant gains in classification accuracy, it makes sense to use only the selected features in the final model for deployment as a reduction in model complexity is also something highly desirable."
   ]
  },
  {
   "cell_type": "markdown",
   "metadata": {},
   "source": [
    "***"
   ]
  },
  {
   "cell_type": "markdown",
   "metadata": {},
   "source": [
    "## Linear Discriminant Analysis"
   ]
  },
  {
   "cell_type": "markdown",
   "metadata": {},
   "source": [
    "### 1- The Initial LDA Model"
   ]
  },
  {
   "cell_type": "code",
   "execution_count": 57,
   "metadata": {},
   "outputs": [],
   "source": [
    "from sklearn import discriminant_analysis\n",
    "lda = discriminant_analysis.LinearDiscriminantAnalysis()"
   ]
  },
  {
   "cell_type": "markdown",
   "metadata": {},
   "source": [
    "#### 1.1- Model Fitting and Evaluation using Holdout Method"
   ]
  },
  {
   "cell_type": "code",
   "execution_count": 58,
   "metadata": {},
   "outputs": [
    {
     "name": "stdout",
     "output_type": "stream",
     "text": [
      "[[1391  150]\n",
      " [ 270  299]]\n",
      "\n",
      "\n",
      "             precision    recall  f1-score   support\n",
      "\n",
      "          0       0.84      0.90      0.87      1541\n",
      "          1       0.67      0.53      0.59       569\n",
      "\n",
      "avg / total       0.79      0.80      0.79      2110\n",
      "\n"
     ]
    }
   ],
   "source": [
    "lda.fit(X_train, y_train)\n",
    "predictions = lda.predict(X_test)\n",
    "print(confusion_matrix(y_test, predictions))\n",
    "print('\\n')\n",
    "print(classification_report(y_test, predictions))"
   ]
  },
  {
   "cell_type": "markdown",
   "metadata": {},
   "source": [
    "#### 1.2- Model Fitting and Evaluation using Cross-validation"
   ]
  },
  {
   "cell_type": "code",
   "execution_count": 59,
   "metadata": {},
   "outputs": [
    {
     "name": "stdout",
     "output_type": "stream",
     "text": [
      "Cross-validation scores on individual folds:\n",
      "[0.8011, 0.8139, 0.7926, 0.8094, 0.7781, 0.7881, 0.8137, 0.798, 0.8051, 0.7991]\n",
      "\n",
      "Cross-validation mean score: 0.7999\n"
     ]
    }
   ],
   "source": [
    "scores = cross_val_score(lda, X, y, cv=10)\n",
    "print(\"Cross-validation scores on individual folds:\\n{}\".format(list(scores.round(4))))\n",
    "print(\"\\nCross-validation mean score: {}\".format(scores.mean().round(4)))"
   ]
  },
  {
   "cell_type": "markdown",
   "metadata": {},
   "source": [
    "### 2- Improving the Model using Feature Selection"
   ]
  },
  {
   "cell_type": "markdown",
   "metadata": {},
   "source": [
    "#### 2.1- RFECV"
   ]
  },
  {
   "cell_type": "code",
   "execution_count": 60,
   "metadata": {
    "scrolled": false
   },
   "outputs": [
    {
     "name": "stdout",
     "output_type": "stream",
     "text": [
      "[False False  True False False  True  True  True  True  True  True False\n",
      "  True  True  True  True  True  True False  True False  True  True  True\n",
      "  True]\n"
     ]
    },
    {
     "data": {
      "image/png": "[encoded data removed]",
      "text/plain": [
       "<matplotlib.figure.Figure at 0x7fa0900ca4a8>"
      ]
     },
     "metadata": {},
     "output_type": "display_data"
    },
    {
     "name": "stdout",
     "output_type": "stream",
     "text": [
      "Legend: \"black\" = features selected, \"white\" = not selected\n",
      "\n",
      "\u001b[1mOptimal number of features & accuracy: (18, 0.8008)\u001b[0m\n",
      "\n",
      "Number of features selected and corresponding accuracy is shown below and depicted in the plot:\n",
      "\n",
      "{1: 0.7189, 2: 0.7627, 3: 0.7709, 4: 0.7868, 5: 0.7834, 6: 0.785, 7: 0.7931, 8: 0.7955, 9: 0.7948, 10: 0.7955, 11: 0.7941, 12: 0.7955, 13: 0.7948, 14: 0.7961, 15: 0.7935, 16: 0.7971, 17: 0.7993, 18: 0.8008, 19: 0.8006, 20: 0.8005, 21: 0.7995, 22: 0.7993, 23: 0.7992, 24: 0.8001, 25: 0.7999}\n"
     ]
    },
    {
     "data": {
      "image/png": "[encoded data removed]",
      "text/plain": [
       "<matplotlib.figure.Figure at 0x7fa090039908>"
      ]
     },
     "metadata": {},
     "output_type": "display_data"
    }
   ],
   "source": [
    "RFECV_select_features(lda)"
   ]
  },
  {
   "cell_type": "markdown",
   "metadata": {},
   "source": [
    "We can see that there is quite a bit of similarity between the features vs accuracy plots of logistic regression and linear discriminant analysis. This doesn't come as a surprise as the basis of the model for LR and LDA is essentially the same but they have different procedures for learning the coefficients of the linear function. Despite this similarity, in the case of LDA, we can see that the number of selected features has reduced to __18__ compared to __21__ for LR while accuracy remains more or less the same. "
   ]
  },
  {
   "cell_type": "markdown",
   "metadata": {},
   "source": [
    "***"
   ]
  },
  {
   "cell_type": "markdown",
   "metadata": {},
   "source": [
    "## Support Vector Machine (SVM)"
   ]
  },
  {
   "cell_type": "markdown",
   "metadata": {},
   "source": [
    "### 1- The Initial SVM Model"
   ]
  },
  {
   "cell_type": "code",
   "execution_count": 61,
   "metadata": {},
   "outputs": [],
   "source": [
    "from sklearn import svm\n",
    "svmc = svm.SVC()"
   ]
  },
  {
   "cell_type": "markdown",
   "metadata": {},
   "source": [
    "#### 1.1- Model Fitting and Evaluation using Holdout Method"
   ]
  },
  {
   "cell_type": "code",
   "execution_count": 62,
   "metadata": {},
   "outputs": [
    {
     "name": "stdout",
     "output_type": "stream",
     "text": [
      "[[1419  122]\n",
      " [ 330  239]]\n",
      "\n",
      "\n",
      "             precision    recall  f1-score   support\n",
      "\n",
      "          0       0.81      0.92      0.86      1541\n",
      "          1       0.66      0.42      0.51       569\n",
      "\n",
      "avg / total       0.77      0.79      0.77      2110\n",
      "\n"
     ]
    }
   ],
   "source": [
    "svmc.fit(X_train, y_train)\n",
    "predictions = svmc.predict(X_test)\n",
    "print(confusion_matrix(y_test, predictions))\n",
    "print('\\n')\n",
    "print(classification_report(y_test, predictions))"
   ]
  },
  {
   "cell_type": "markdown",
   "metadata": {},
   "source": [
    "#### 1.2- Model Fitting and Evaluation using Cross-validation"
   ]
  },
  {
   "cell_type": "code",
   "execution_count": 63,
   "metadata": {},
   "outputs": [
    {
     "name": "stdout",
     "output_type": "stream",
     "text": [
      "Cross-validation scores on individual folds:\n",
      "[0.8011, 0.7997, 0.7713, 0.8037, 0.7824, 0.7667, 0.7909, 0.7852, 0.7838, 0.7949]\n",
      "\n",
      "Cross-validation mean score: 0.788\n"
     ]
    }
   ],
   "source": [
    "scores = cross_val_score(svmc, X, y, cv=10)\n",
    "print(\"Cross-validation scores on individual folds:\\n{}\".format(list(scores.round(4))))\n",
    "print(\"\\nCross-validation mean score: {}\".format(scores.mean().round(4)))"
   ]
  },
  {
   "cell_type": "markdown",
   "metadata": {},
   "source": [
    "For the SVM classifier, we can't attempt to possibly improve the model using feature selection as it does not expose any \"coef_\" or \"feature\\_importances_\" attributes."
   ]
  },
  {
   "cell_type": "markdown",
   "metadata": {},
   "source": [
    "***"
   ]
  },
  {
   "cell_type": "markdown",
   "metadata": {},
   "source": [
    "# Non-linear Models"
   ]
  },
  {
   "cell_type": "markdown",
   "metadata": {},
   "source": [
    "Before moving on to the non-linear appraoches below, we'll create the predictor and response dataframes once again using the original encoded dataframe as there is no need for dummy variables in the learning paradigms that follow."
   ]
  },
  {
   "cell_type": "markdown",
   "metadata": {},
   "source": [
    "### Separating the Predictors from Response"
   ]
  },
  {
   "cell_type": "code",
   "execution_count": 64,
   "metadata": {},
   "outputs": [
    {
     "name": "stdout",
     "output_type": "stream",
     "text": [
      "X shape: (7032, 18) \n",
      "y shape: (7032,)\n"
     ]
    }
   ],
   "source": [
    "X = df.drop(\"Churn\", axis=1)\n",
    "y = df[\"Churn\"]\n",
    "print(\"X shape: {}\".format(X.shape), \"\\ny shape: {}\".format(y.shape))"
   ]
  },
  {
   "cell_type": "markdown",
   "metadata": {},
   "source": [
    "### Splitting the Data randomly into a Training and Test Set"
   ]
  },
  {
   "cell_type": "code",
   "execution_count": 65,
   "metadata": {},
   "outputs": [],
   "source": [
    "X_train, X_test, y_train, y_test = train_test_split(X, y, test_size=0.3)"
   ]
  },
  {
   "cell_type": "code",
   "execution_count": 66,
   "metadata": {
    "scrolled": true
   },
   "outputs": [
    {
     "name": "stdout",
     "output_type": "stream",
     "text": [
      "X_train shape: (4922, 18) , X_test shape: (2110, 18)\n",
      "y_train shape: (4922,) ,    y_test shape: (2110,)\n"
     ]
    }
   ],
   "source": [
    "print(\"X_train shape: {}\".format(X_train.shape), \", X_test shape: {}\".format(X_test.shape))\n",
    "print(\"y_train shape: {}\".format(y_train.shape), \",    y_test shape: {}\".format(y_test.shape))"
   ]
  },
  {
   "cell_type": "markdown",
   "metadata": {},
   "source": [
    "***"
   ]
  },
  {
   "cell_type": "markdown",
   "metadata": {},
   "source": [
    "## Decision Tree"
   ]
  },
  {
   "cell_type": "markdown",
   "metadata": {},
   "source": [
    "### 1- The Initial Decision Tree Model"
   ]
  },
  {
   "cell_type": "code",
   "execution_count": 67,
   "metadata": {},
   "outputs": [],
   "source": [
    "from sklearn.tree import DecisionTreeClassifier\n",
    "dtree = DecisionTreeClassifier()"
   ]
  },
  {
   "cell_type": "markdown",
   "metadata": {},
   "source": [
    "#### 1.1- Model Fitting and Evaluation using Holdout Method"
   ]
  },
  {
   "cell_type": "code",
   "execution_count": 68,
   "metadata": {},
   "outputs": [
    {
     "name": "stdout",
     "output_type": "stream",
     "text": [
      "[[1243  296]\n",
      " [ 295  276]]\n",
      "\n",
      "\n",
      "             precision    recall  f1-score   support\n",
      "\n",
      "          0       0.81      0.81      0.81      1539\n",
      "          1       0.48      0.48      0.48       571\n",
      "\n",
      "avg / total       0.72      0.72      0.72      2110\n",
      "\n"
     ]
    }
   ],
   "source": [
    "dtree.fit(X_train, y_train)\n",
    "predictions = dtree.predict(X_test)\n",
    "print(confusion_matrix(y_test, predictions))\n",
    "print('\\n')\n",
    "print(classification_report(y_test, predictions))"
   ]
  },
  {
   "cell_type": "markdown",
   "metadata": {},
   "source": [
    "#### 1.2- Model Fitting and Evaluation using Cross-validation"
   ]
  },
  {
   "cell_type": "code",
   "execution_count": 69,
   "metadata": {},
   "outputs": [
    {
     "name": "stdout",
     "output_type": "stream",
     "text": [
      "Cross-validation scores on individual folds:\n",
      "[0.7173, 0.7202, 0.7386, 0.744, 0.7312, 0.6842, 0.6984, 0.7084, 0.7198, 0.7507]\n",
      "\n",
      "Cross-validation mean score: 0.7213\n"
     ]
    }
   ],
   "source": [
    "scores = cross_val_score(dtree, X, y, cv=10)\n",
    "print(\"Cross-validation scores on individual folds:\\n{}\".format(list(scores.round(4))))\n",
    "print(\"\\nCross-validation mean score: {}\".format(scores.mean().round(4)))"
   ]
  },
  {
   "cell_type": "markdown",
   "metadata": {},
   "source": [
    "### 2- Improving the Model using Feature Selection"
   ]
  },
  {
   "cell_type": "markdown",
   "metadata": {},
   "source": [
    "#### 2.1- RFECV"
   ]
  },
  {
   "cell_type": "code",
   "execution_count": 70,
   "metadata": {},
   "outputs": [
    {
     "name": "stdout",
     "output_type": "stream",
     "text": [
      "[False False False False False False False False False False False False\n",
      " False  True False False  True  True]\n"
     ]
    },
    {
     "data": {
      "image/png": "[encoded data removed]",
      "text/plain": [
       "<matplotlib.figure.Figure at 0x7fa088488860>"
      ]
     },
     "metadata": {},
     "output_type": "display_data"
    },
    {
     "name": "stdout",
     "output_type": "stream",
     "text": [
      "Legend: \"black\" = features selected, \"white\" = not selected\n",
      "\n",
      "\u001b[1mOptimal number of features & accuracy: (3, 0.7332)\u001b[0m\n",
      "\n",
      "Number of features selected and corresponding accuracy is shown below and depicted in the plot:\n",
      "\n",
      "{1: 0.697, 2: 0.7183, 3: 0.7332, 4: 0.7197, 5: 0.715, 6: 0.7119, 7: 0.7097, 8: 0.7177, 9: 0.7184, 10: 0.7196, 11: 0.7173, 12: 0.7207, 13: 0.724, 14: 0.7153, 15: 0.7153, 16: 0.7186, 17: 0.718, 18: 0.7221}\n"
     ]
    },
    {
     "data": {
      "image/png": "[encoded data removed]",
      "text/plain": [
       "<matplotlib.figure.Figure at 0x7fa0884e0a20>"
      ]
     },
     "metadata": {},
     "output_type": "display_data"
    }
   ],
   "source": [
    "RFECV_select_features(dtree)"
   ]
  },
  {
   "cell_type": "markdown",
   "metadata": {},
   "source": [
    "For the decision tree, we can see that RFECV reports a drastic reduction in the optimal number of features from the original feature space of __18__ to just __3__. This is obvious as decision trees are known to suffer from overfitting as the number of features increases beyond a certain point."
   ]
  },
  {
   "cell_type": "markdown",
   "metadata": {},
   "source": [
    "***"
   ]
  },
  {
   "cell_type": "markdown",
   "metadata": {},
   "source": [
    "## Neural Network (NN)"
   ]
  },
  {
   "cell_type": "markdown",
   "metadata": {},
   "source": [
    "### 1- The Initial NN Model"
   ]
  },
  {
   "cell_type": "code",
   "execution_count": 71,
   "metadata": {},
   "outputs": [],
   "source": [
    "from sklearn import neural_network\n",
    "nn = neural_network.MLPClassifier()"
   ]
  },
  {
   "cell_type": "markdown",
   "metadata": {},
   "source": [
    "#### 1.1- Model Fitting and Evaluation using Holdout Method"
   ]
  },
  {
   "cell_type": "code",
   "execution_count": 72,
   "metadata": {},
   "outputs": [
    {
     "name": "stdout",
     "output_type": "stream",
     "text": [
      "[[1286  253]\n",
      " [ 203  368]]\n",
      "\n",
      "\n",
      "             precision    recall  f1-score   support\n",
      "\n",
      "          0       0.86      0.84      0.85      1539\n",
      "          1       0.59      0.64      0.62       571\n",
      "\n",
      "avg / total       0.79      0.78      0.79      2110\n",
      "\n"
     ]
    }
   ],
   "source": [
    "nn.fit(X_train, y_train)\n",
    "predictions = nn.predict(X_test)\n",
    "print(confusion_matrix(y_test, predictions))\n",
    "print('\\n')\n",
    "print(classification_report(y_test, predictions))"
   ]
  },
  {
   "cell_type": "markdown",
   "metadata": {},
   "source": [
    "#### 1.2- Model Fitting and Evaluation using Cross-validation"
   ]
  },
  {
   "cell_type": "code",
   "execution_count": 73,
   "metadata": {},
   "outputs": [
    {
     "name": "stdout",
     "output_type": "stream",
     "text": [
      "Cross-validation scores on individual folds:\n",
      "[0.7827, 0.7812, 0.7841, 0.7937, 0.7681, 0.7781, 0.7937, 0.7824, 0.7795, 0.765]\n",
      "\n",
      "Cross-validation mean score: 0.7809\n"
     ]
    }
   ],
   "source": [
    "scores = cross_val_score(nn, X, y, cv=10)\n",
    "print(\"Cross-validation scores on individual folds:\\n{}\".format(list(scores.round(4))))\n",
    "print(\"\\nCross-validation mean score: {}\".format(scores.mean().round(4)))"
   ]
  },
  {
   "cell_type": "markdown",
   "metadata": {},
   "source": [
    "For the NN classifier, we can't attempt to possibly improve the model using feature selection as it does not expose any \"coef_\" or \"feature\\_importances_\" attributes."
   ]
  },
  {
   "cell_type": "markdown",
   "metadata": {},
   "source": [
    "***"
   ]
  },
  {
   "cell_type": "markdown",
   "metadata": {},
   "source": [
    "# Ensemble Learning"
   ]
  },
  {
   "cell_type": "markdown",
   "metadata": {},
   "source": [
    "Now let's try some more complex approaches that fall in the category of ensemble learning methods. Ensemble methods learn a number of classifiers and then use a majority voting scheme to predict the class in the case of classification."
   ]
  },
  {
   "cell_type": "markdown",
   "metadata": {},
   "source": [
    "## Gradient Boosting"
   ]
  },
  {
   "cell_type": "markdown",
   "metadata": {},
   "source": [
    "### 1- The Initial GB Model"
   ]
  },
  {
   "cell_type": "code",
   "execution_count": 74,
   "metadata": {},
   "outputs": [],
   "source": [
    "from sklearn.ensemble import GradientBoostingClassifier\n",
    "gbc = GradientBoostingClassifier(n_estimators=50, random_state=42)"
   ]
  },
  {
   "cell_type": "markdown",
   "metadata": {},
   "source": [
    "#### 1.1- Model Fitting and Evaluation using Holdout Method"
   ]
  },
  {
   "cell_type": "code",
   "execution_count": 75,
   "metadata": {},
   "outputs": [
    {
     "name": "stdout",
     "output_type": "stream",
     "text": [
      "[[1401  138]\n",
      " [ 291  280]]\n",
      "\n",
      "\n",
      "             precision    recall  f1-score   support\n",
      "\n",
      "          0       0.83      0.91      0.87      1539\n",
      "          1       0.67      0.49      0.57       571\n",
      "\n",
      "avg / total       0.79      0.80      0.79      2110\n",
      "\n"
     ]
    }
   ],
   "source": [
    "gbc.fit(X_train, y_train)\n",
    "predictions = gbc.predict(X_test)\n",
    "print(confusion_matrix(y_test, predictions))\n",
    "print('\\n')\n",
    "print(classification_report(y_test, predictions))"
   ]
  },
  {
   "cell_type": "markdown",
   "metadata": {},
   "source": [
    "#### 1.2- Model Fitting and Evaluation using Cross-validation"
   ]
  },
  {
   "cell_type": "code",
   "execution_count": 76,
   "metadata": {},
   "outputs": [
    {
     "name": "stdout",
     "output_type": "stream",
     "text": [
      "Cross-validation scores on individual folds:\n",
      "[0.8054, 0.7969, 0.7869, 0.8151, 0.7952, 0.7738, 0.8151, 0.7937, 0.7966, 0.8048]\n",
      "\n",
      "Cross-validation mean score: 0.7984\n"
     ]
    }
   ],
   "source": [
    "scores = cross_val_score(gbc, X, y, cv=10)\n",
    "print(\"Cross-validation scores on individual folds:\\n{}\".format(list(scores.round(4))))\n",
    "print(\"\\nCross-validation mean score: {}\".format(scores.mean().round(4)))"
   ]
  },
  {
   "cell_type": "markdown",
   "metadata": {},
   "source": [
    "### 2- Improving the Model using Feature Selection"
   ]
  },
  {
   "cell_type": "markdown",
   "metadata": {},
   "source": [
    "#### 2.1- RFECV"
   ]
  },
  {
   "cell_type": "code",
   "execution_count": 77,
   "metadata": {
    "scrolled": false
   },
   "outputs": [
    {
     "name": "stdout",
     "output_type": "stream",
     "text": [
      "[False  True False False False False  True  True  True False  True False\n",
      " False  True  True  True  True  True]\n"
     ]
    },
    {
     "data": {
      "image/png": "[encoded data removed]",
      "text/plain": [
       "<matplotlib.figure.Figure at 0x7fa093cc9be0>"
      ]
     },
     "metadata": {},
     "output_type": "display_data"
    },
    {
     "name": "stdout",
     "output_type": "stream",
     "text": [
      "Legend: \"black\" = features selected, \"white\" = not selected\n",
      "\n",
      "\u001b[1mOptimal number of features & accuracy: (10, 0.7995)\u001b[0m\n",
      "\n",
      "Number of features selected and corresponding accuracy is shown below and depicted in the plot:\n",
      "\n",
      "{1: 0.7339, 2: 0.7577, 3: 0.7826, 4: 0.7873, 5: 0.7927, 6: 0.7932, 7: 0.7939, 8: 0.7939, 9: 0.7947, 10: 0.7995, 11: 0.7992, 12: 0.7974, 13: 0.7984, 14: 0.7974, 15: 0.7968, 16: 0.7981, 17: 0.7992, 18: 0.7984}\n"
     ]
    },
    {
     "data": {
      "image/png": "[encoded data removed]",
      "text/plain": [
       "<matplotlib.figure.Figure at 0x7fa093c76860>"
      ]
     },
     "metadata": {},
     "output_type": "display_data"
    }
   ],
   "source": [
    "RFECV_select_features(gbc)"
   ]
  },
  {
   "cell_type": "markdown",
   "metadata": {},
   "source": [
    "We can see that there is significant reduction in the number of selected features reported by RFECV for Gradient Boosting. The number of features has been reduced from the original feature space of __18__ to just __10__. This is coupled with the fact that classification accuracy is also very competitive in comparison with logistic regression which has turned out to be the best modeling approach so far."
   ]
  },
  {
   "cell_type": "markdown",
   "metadata": {},
   "source": [
    "***"
   ]
  },
  {
   "cell_type": "markdown",
   "metadata": {},
   "source": [
    "## Random Forest"
   ]
  },
  {
   "cell_type": "markdown",
   "metadata": {},
   "source": [
    "### 1- The Initial Random Forest Model"
   ]
  },
  {
   "cell_type": "code",
   "execution_count": 78,
   "metadata": {},
   "outputs": [],
   "source": [
    "from sklearn.ensemble import RandomForestClassifier\n",
    "rfc = RandomForestClassifier(n_estimators=50, random_state=42)"
   ]
  },
  {
   "cell_type": "markdown",
   "metadata": {},
   "source": [
    "#### 1.1- Model Fitting and Evaluation using Holdout Method"
   ]
  },
  {
   "cell_type": "code",
   "execution_count": 79,
   "metadata": {},
   "outputs": [
    {
     "name": "stdout",
     "output_type": "stream",
     "text": [
      "[[1356  183]\n",
      " [ 304  267]]\n",
      "\n",
      "\n",
      "             precision    recall  f1-score   support\n",
      "\n",
      "          0       0.82      0.88      0.85      1539\n",
      "          1       0.59      0.47      0.52       571\n",
      "\n",
      "avg / total       0.76      0.77      0.76      2110\n",
      "\n"
     ]
    }
   ],
   "source": [
    "rfc.fit(X_train, y_train)\n",
    "predictions = rfc.predict(X_test)\n",
    "print(confusion_matrix(y_test, predictions))\n",
    "print('\\n')\n",
    "print(classification_report(y_test, predictions))"
   ]
  },
  {
   "cell_type": "markdown",
   "metadata": {},
   "source": [
    "#### 1.2- Model Fitting and Evaluation using Cross-validation"
   ]
  },
  {
   "cell_type": "code",
   "execution_count": 80,
   "metadata": {},
   "outputs": [
    {
     "name": "stdout",
     "output_type": "stream",
     "text": [
      "Cross-validation scores on individual folds:\n",
      "[0.7727, 0.777, 0.7784, 0.7738, 0.7738, 0.7326, 0.7824, 0.7696, 0.7809, 0.7877]\n",
      "\n",
      "Cross-validation mean score: 0.7729\n"
     ]
    }
   ],
   "source": [
    "scores = cross_val_score(rfc, X, y, cv=10)\n",
    "print(\"Cross-validation scores on individual folds:\\n{}\".format(list(scores.round(4))))\n",
    "print(\"\\nCross-validation mean score: {}\".format(scores.mean().round(4)))"
   ]
  },
  {
   "cell_type": "markdown",
   "metadata": {},
   "source": [
    "### 2- Improving the Model using Feature Selection"
   ]
  },
  {
   "cell_type": "markdown",
   "metadata": {},
   "source": [
    "#### 2.1- RFECV"
   ]
  },
  {
   "cell_type": "code",
   "execution_count": 81,
   "metadata": {
    "scrolled": false
   },
   "outputs": [
    {
     "name": "stdout",
     "output_type": "stream",
     "text": [
      "[ True  True  True  True  True  True  True  True  True  True  True  True\n",
      "  True  True  True  True  True  True]\n"
     ]
    },
    {
     "data": {
      "image/png": "[encoded data removed]",
      "text/plain": [
       "<matplotlib.figure.Figure at 0x7fa093d73cf8>"
      ]
     },
     "metadata": {},
     "output_type": "display_data"
    },
    {
     "name": "stdout",
     "output_type": "stream",
     "text": [
      "Legend: \"black\" = features selected, \"white\" = not selected\n",
      "\n",
      "\u001b[1mOptimal number of features & accuracy: (18, 0.7729)\u001b[0m\n",
      "\n",
      "Number of features selected and corresponding accuracy is shown below and depicted in the plot:\n",
      "\n",
      "{1: 0.6833, 2: 0.7125, 3: 0.7391, 4: 0.7419, 5: 0.7435, 6: 0.7429, 7: 0.7423, 8: 0.7469, 9: 0.754, 10: 0.7592, 11: 0.7671, 12: 0.7648, 13: 0.7648, 14: 0.7673, 15: 0.7679, 16: 0.7726, 17: 0.7703, 18: 0.7729}\n"
     ]
    },
    {
     "data": {
      "image/png": "[encoded data removed]",
      "text/plain": [
       "<matplotlib.figure.Figure at 0x7fa093ddce48>"
      ]
     },
     "metadata": {},
     "output_type": "display_data"
    }
   ],
   "source": [
    "RFECV_select_features(rfc)"
   ]
  },
  {
   "cell_type": "markdown",
   "metadata": {},
   "source": [
    "In the case of Random Forest, we can see that no feature selection has been done by RFECV, so the feature space remains the same as before and so does the accuracy."
   ]
  },
  {
   "cell_type": "markdown",
   "metadata": {},
   "source": [
    "***"
   ]
  },
  {
   "cell_type": "markdown",
   "metadata": {},
   "source": [
    "## Ada Boost Classifier (ABC)"
   ]
  },
  {
   "cell_type": "markdown",
   "metadata": {},
   "source": [
    "### 1- The Initial ABC Model"
   ]
  },
  {
   "cell_type": "code",
   "execution_count": 83,
   "metadata": {},
   "outputs": [],
   "source": [
    "from sklearn.ensemble import AdaBoostClassifier\n",
    "abc = AdaBoostClassifier(n_estimators=50, random_state=42)"
   ]
  },
  {
   "cell_type": "markdown",
   "metadata": {},
   "source": [
    "#### 1.1- Model Fitting and Evaluation using Holdout Method"
   ]
  },
  {
   "cell_type": "code",
   "execution_count": 84,
   "metadata": {},
   "outputs": [
    {
     "name": "stdout",
     "output_type": "stream",
     "text": [
      "[[1384  155]\n",
      " [ 267  304]]\n",
      "\n",
      "\n",
      "             precision    recall  f1-score   support\n",
      "\n",
      "          0       0.84      0.90      0.87      1539\n",
      "          1       0.66      0.53      0.59       571\n",
      "\n",
      "avg / total       0.79      0.80      0.79      2110\n",
      "\n"
     ]
    }
   ],
   "source": [
    "abc.fit(X_train, y_train)\n",
    "predictions = abc.predict(X_test)\n",
    "print(confusion_matrix(y_test, predictions))\n",
    "print('\\n')\n",
    "print(classification_report(y_test, predictions))"
   ]
  },
  {
   "cell_type": "markdown",
   "metadata": {},
   "source": [
    "#### 1.2- Model Fitting and Evaluation using Cross-validation"
   ]
  },
  {
   "cell_type": "code",
   "execution_count": 85,
   "metadata": {},
   "outputs": [
    {
     "name": "stdout",
     "output_type": "stream",
     "text": [
      "Cross-validation scores on individual folds:\n",
      "[0.8026, 0.8054, 0.7912, 0.8094, 0.7767, 0.7653, 0.8094, 0.7966, 0.7881, 0.8034]\n",
      "\n",
      "Cross-validation mean score: 0.7948\n"
     ]
    }
   ],
   "source": [
    "scores = cross_val_score(abc, X, y, cv=10)\n",
    "print(\"Cross-validation scores on individual folds:\\n{}\".format(list(scores.round(4))))\n",
    "print(\"\\nCross-validation mean score: {}\".format(scores.mean().round(4)))"
   ]
  },
  {
   "cell_type": "markdown",
   "metadata": {},
   "source": [
    "### 2- Improving the Model using Feature Selection"
   ]
  },
  {
   "cell_type": "markdown",
   "metadata": {},
   "source": [
    "#### 2.1- RFECV"
   ]
  },
  {
   "cell_type": "code",
   "execution_count": 86,
   "metadata": {
    "scrolled": false
   },
   "outputs": [
    {
     "name": "stdout",
     "output_type": "stream",
     "text": [
      "[False False False  True  True  True  True  True  True  True  True False\n",
      " False  True  True  True  True  True]\n"
     ]
    },
    {
     "data": {
      "image/png": "[encoded data removed]",
      "text/plain": [
       "<matplotlib.figure.Figure at 0x7fa0749740b8>"
      ]
     },
     "metadata": {},
     "output_type": "display_data"
    },
    {
     "name": "stdout",
     "output_type": "stream",
     "text": [
      "Legend: \"black\" = features selected, \"white\" = not selected\n",
      "\n",
      "\u001b[1mOptimal number of features & accuracy: (13, 0.7949)\u001b[0m\n",
      "\n",
      "Number of features selected and corresponding accuracy is shown below and depicted in the plot:\n",
      "\n",
      "{1: 0.7339, 2: 0.776, 3: 0.7851, 4: 0.7841, 5: 0.7875, 6: 0.7902, 7: 0.7902, 8: 0.7892, 9: 0.7908, 10: 0.7922, 11: 0.7931, 12: 0.7941, 13: 0.7949, 14: 0.7948, 15: 0.7948, 16: 0.7948, 17: 0.7948, 18: 0.7948}\n"
     ]
    },
    {
     "data": {
      "image/png": "[encoded data removed]",
      "text/plain": [
       "<matplotlib.figure.Figure at 0x7fa074abf278>"
      ]
     },
     "metadata": {},
     "output_type": "display_data"
    }
   ],
   "source": [
    "RFECV_select_features(abc)"
   ]
  },
  {
   "cell_type": "markdown",
   "metadata": {},
   "source": [
    "For the AdaBoostClassifier, the number of features selected has been reduced to around two-thirds of the original feature space. We can also see that beyond the optimal number of features, the classification accuracy more or less remains the same."
   ]
  },
  {
   "cell_type": "markdown",
   "metadata": {},
   "source": [
    "***"
   ]
  },
  {
   "cell_type": "markdown",
   "metadata": {},
   "source": [
    "# Summary"
   ]
  },
  {
   "cell_type": "markdown",
   "metadata": {},
   "source": [
    "In this project, we have attempted to predict customer churn for a telecommunication company using a variety of machine learning models. We started with the simpler models and gradually progressed towards some of the more complex modeling approaches. We can draw the following conclusions from our analysis:\n",
    "\n",
    "1. The best predictive accuracy has been obtained by using the logistic regression model. Using RFECV, the model made correct predictions for 80.13% of the test set cases using 21 of the 25 available features.\n",
    "2. Linear discriminant analysis emerged as a strong competitor to logistic regression. RFECV reported a classification accuracy of 80.08% for LDA using only 18 of the 25 available features.\n",
    "3. The SVM among linear modeling approaches and the Neural Network among non-linear modeling approaches resulted in more or less the same classification accuracy.\n",
    "4. The decision tree model resulted in the worst accuracy from amongst all non-linear modeling approaches used.\n",
    "5. From among the ensemble modeling approaches, the Gradient Boosting model emerged as a strong competitor to both LR and LDA. RFECV reported a classification accuracy of 79.95% for the model and it used only 10 of the 18 available features which is the highest feature reduction among all the models used."
   ]
  },
  {
   "cell_type": "markdown",
   "metadata": {},
   "source": [
    "# Conclusion"
   ]
  },
  {
   "cell_type": "markdown",
   "metadata": {},
   "source": [
    "It appears that LDA may be the correct modeling approach for this particular problem. Even though Gadient Boosting used the lowest number of features to give almost the same classification accuracy as LDA, it's still an ensemble learning method and which is not only more complex but also requires more time to learn from data. We can now go ahead and relearn the chosen model LDA from all available data (without splitting into training and test sets) and deploy the model into production."
   ]
  }
 ],
 "metadata": {
  "kernelspec": {
   "display_name": "Python 3",
   "language": "python",
   "name": "python3"
  },
  "language_info": {
   "codemirror_mode": {
    "name": "ipython",
    "version": 3
   },
   "file_extension": ".py",
   "mimetype": "text/x-python",
   "name": "python",
   "nbconvert_exporter": "python",
   "pygments_lexer": "ipython3",
   "version": "3.6.4"
  }
 },
 "nbformat": 4,
 "nbformat_minor": 2
}
