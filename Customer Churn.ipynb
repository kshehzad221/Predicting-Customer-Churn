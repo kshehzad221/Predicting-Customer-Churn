{
 "cells": [
  {
   "cell_type": "markdown",
   "metadata": {},
   "source": [
    "# Problem Description"
   ]
  },
  {
   "cell_type": "markdown",
   "metadata": {},
   "source": [
    "Customer churn is a major problem for businesses in an environment where competitors are constantly endeavoring to retain their client base as well as wooing the business of new clients. Churn or attrition occurs when customers start viewing a competing company more favorably  and cease to do business with their present company. It is often said that, depending on the type of industry, acquiring a new customer is anywhere from five to 25 times more expensive than retaining an existing one. Therefore it makes sense for businesses of all kinds to understand their customers' behaviours using data and take appropriate actions in the face of emerging patterns heralding the departure of a body of valuable customers.\n",
    "\n",
    "In this project, we are going to predict customer churn using the <a href=\"https://community.watsonanalytics.com/wp-content/uploads/2015/03/WA_Fn-UseC_-Telco-Customer-Churn.csv\", target=\"_blank\">Telecom Dataset</a> downloaded from the \"Guide to Sample Data Sets\" page hosted by IBM. Telecommunications is an industry in which subscribers have multiple competing businesses to choose from over their current company. The analysis will be done using Logistic Regression, Decision Tree, and Random Forest. So let’s get started!"
   ]
  },
  {
   "cell_type": "code",
   "execution_count": 1,
   "metadata": {},
   "outputs": [
    {
     "name": "stderr",
     "output_type": "stream",
     "text": [
      "/home/drkhurram/anaconda3/lib/python3.6/site-packages/statsmodels/compat/pandas.py:56: FutureWarning: The pandas.core.datetools module is deprecated and will be removed in a future version. Please use the pandas.tseries module instead.\n",
      "  from pandas.core import datetools\n"
     ]
    }
   ],
   "source": [
    "import pandas as pd\n",
    "import numpy as np\n",
    "import matplotlib.pyplot as plt\n",
    "%matplotlib inline\n",
    "import seaborn as sns\n",
    "from plotnine import *\n",
    "from collections import OrderedDict"
   ]
  },
  {
   "cell_type": "markdown",
   "metadata": {},
   "source": [
    "# Getting to Know the Data\n",
    "So let's go ahead and have a look at our dataset and get to know what each column represents. Each row represents a customer while each column contains data about a particular attribute of the customer."
   ]
  },
  {
   "cell_type": "code",
   "execution_count": 2,
   "metadata": {},
   "outputs": [
    {
     "name": "stdout",
     "output_type": "stream",
     "text": [
      "<class 'pandas.core.frame.DataFrame'>\n",
      "RangeIndex: 7043 entries, 0 to 7042\n",
      "Data columns (total 21 columns):\n",
      "customerID          7043 non-null object\n",
      "gender              7043 non-null object\n",
      "SeniorCitizen       7043 non-null int64\n",
      "Partner             7043 non-null object\n",
      "Dependents          7043 non-null object\n",
      "tenure              7043 non-null int64\n",
      "PhoneService        7043 non-null object\n",
      "MultipleLines       7043 non-null object\n",
      "InternetService     7043 non-null object\n",
      "OnlineSecurity      7043 non-null object\n",
      "OnlineBackup        7043 non-null object\n",
      "DeviceProtection    7043 non-null object\n",
      "TechSupport         7043 non-null object\n",
      "StreamingTV         7043 non-null object\n",
      "StreamingMovies     7043 non-null object\n",
      "Contract            7043 non-null object\n",
      "PaperlessBilling    7043 non-null object\n",
      "PaymentMethod       7043 non-null object\n",
      "MonthlyCharges      7043 non-null float64\n",
      "TotalCharges        7043 non-null object\n",
      "Churn               7043 non-null object\n",
      "dtypes: float64(1), int64(2), object(18)\n",
      "memory usage: 1.1+ MB\n"
     ]
    }
   ],
   "source": [
    "df = pd.read_csv('WA_Fn-UseC_-Telco-Customer-Churn.csv')\n",
    "df.info()"
   ]
  },
  {
   "cell_type": "code",
   "execution_count": 3,
   "metadata": {},
   "outputs": [
    {
     "data": {
      "text/html": [
       "<div>\n",
       "<style scoped>\n",
       "    .dataframe tbody tr th:only-of-type {\n",
       "        vertical-align: middle;\n",
       "    }\n",
       "\n",
       "    .dataframe tbody tr th {\n",
       "        vertical-align: top;\n",
       "    }\n",
       "\n",
       "    .dataframe thead th {\n",
       "        text-align: right;\n",
       "    }\n",
       "</style>\n",
       "<table border=\"1\" class=\"dataframe\">\n",
       "  <thead>\n",
       "    <tr style=\"text-align: right;\">\n",
       "      <th></th>\n",
       "      <th>customerID</th>\n",
       "      <th>gender</th>\n",
       "      <th>SeniorCitizen</th>\n",
       "      <th>Partner</th>\n",
       "      <th>Dependents</th>\n",
       "      <th>tenure</th>\n",
       "      <th>PhoneService</th>\n",
       "      <th>MultipleLines</th>\n",
       "      <th>InternetService</th>\n",
       "      <th>OnlineSecurity</th>\n",
       "      <th>...</th>\n",
       "      <th>DeviceProtection</th>\n",
       "      <th>TechSupport</th>\n",
       "      <th>StreamingTV</th>\n",
       "      <th>StreamingMovies</th>\n",
       "      <th>Contract</th>\n",
       "      <th>PaperlessBilling</th>\n",
       "      <th>PaymentMethod</th>\n",
       "      <th>MonthlyCharges</th>\n",
       "      <th>TotalCharges</th>\n",
       "      <th>Churn</th>\n",
       "    </tr>\n",
       "  </thead>\n",
       "  <tbody>\n",
       "    <tr>\n",
       "      <th>0</th>\n",
       "      <td>7590-VHVEG</td>\n",
       "      <td>Female</td>\n",
       "      <td>0</td>\n",
       "      <td>Yes</td>\n",
       "      <td>No</td>\n",
       "      <td>1</td>\n",
       "      <td>No</td>\n",
       "      <td>No phone service</td>\n",
       "      <td>DSL</td>\n",
       "      <td>No</td>\n",
       "      <td>...</td>\n",
       "      <td>No</td>\n",
       "      <td>No</td>\n",
       "      <td>No</td>\n",
       "      <td>No</td>\n",
       "      <td>Month-to-month</td>\n",
       "      <td>Yes</td>\n",
       "      <td>Electronic check</td>\n",
       "      <td>29.85</td>\n",
       "      <td>29.85</td>\n",
       "      <td>No</td>\n",
       "    </tr>\n",
       "    <tr>\n",
       "      <th>1</th>\n",
       "      <td>5575-GNVDE</td>\n",
       "      <td>Male</td>\n",
       "      <td>0</td>\n",
       "      <td>No</td>\n",
       "      <td>No</td>\n",
       "      <td>34</td>\n",
       "      <td>Yes</td>\n",
       "      <td>No</td>\n",
       "      <td>DSL</td>\n",
       "      <td>Yes</td>\n",
       "      <td>...</td>\n",
       "      <td>Yes</td>\n",
       "      <td>No</td>\n",
       "      <td>No</td>\n",
       "      <td>No</td>\n",
       "      <td>One year</td>\n",
       "      <td>No</td>\n",
       "      <td>Mailed check</td>\n",
       "      <td>56.95</td>\n",
       "      <td>1889.5</td>\n",
       "      <td>No</td>\n",
       "    </tr>\n",
       "    <tr>\n",
       "      <th>2</th>\n",
       "      <td>3668-QPYBK</td>\n",
       "      <td>Male</td>\n",
       "      <td>0</td>\n",
       "      <td>No</td>\n",
       "      <td>No</td>\n",
       "      <td>2</td>\n",
       "      <td>Yes</td>\n",
       "      <td>No</td>\n",
       "      <td>DSL</td>\n",
       "      <td>Yes</td>\n",
       "      <td>...</td>\n",
       "      <td>No</td>\n",
       "      <td>No</td>\n",
       "      <td>No</td>\n",
       "      <td>No</td>\n",
       "      <td>Month-to-month</td>\n",
       "      <td>Yes</td>\n",
       "      <td>Mailed check</td>\n",
       "      <td>53.85</td>\n",
       "      <td>108.15</td>\n",
       "      <td>Yes</td>\n",
       "    </tr>\n",
       "    <tr>\n",
       "      <th>3</th>\n",
       "      <td>7795-CFOCW</td>\n",
       "      <td>Male</td>\n",
       "      <td>0</td>\n",
       "      <td>No</td>\n",
       "      <td>No</td>\n",
       "      <td>45</td>\n",
       "      <td>No</td>\n",
       "      <td>No phone service</td>\n",
       "      <td>DSL</td>\n",
       "      <td>Yes</td>\n",
       "      <td>...</td>\n",
       "      <td>Yes</td>\n",
       "      <td>Yes</td>\n",
       "      <td>No</td>\n",
       "      <td>No</td>\n",
       "      <td>One year</td>\n",
       "      <td>No</td>\n",
       "      <td>Bank transfer (automatic)</td>\n",
       "      <td>42.30</td>\n",
       "      <td>1840.75</td>\n",
       "      <td>No</td>\n",
       "    </tr>\n",
       "    <tr>\n",
       "      <th>4</th>\n",
       "      <td>9237-HQITU</td>\n",
       "      <td>Female</td>\n",
       "      <td>0</td>\n",
       "      <td>No</td>\n",
       "      <td>No</td>\n",
       "      <td>2</td>\n",
       "      <td>Yes</td>\n",
       "      <td>No</td>\n",
       "      <td>Fiber optic</td>\n",
       "      <td>No</td>\n",
       "      <td>...</td>\n",
       "      <td>No</td>\n",
       "      <td>No</td>\n",
       "      <td>No</td>\n",
       "      <td>No</td>\n",
       "      <td>Month-to-month</td>\n",
       "      <td>Yes</td>\n",
       "      <td>Electronic check</td>\n",
       "      <td>70.70</td>\n",
       "      <td>151.65</td>\n",
       "      <td>Yes</td>\n",
       "    </tr>\n",
       "  </tbody>\n",
       "</table>\n",
       "<p>5 rows × 21 columns</p>\n",
       "</div>"
      ],
      "text/plain": [
       "   customerID  gender  SeniorCitizen Partner Dependents  tenure PhoneService  \\\n",
       "0  7590-VHVEG  Female              0     Yes         No       1           No   \n",
       "1  5575-GNVDE    Male              0      No         No      34          Yes   \n",
       "2  3668-QPYBK    Male              0      No         No       2          Yes   \n",
       "3  7795-CFOCW    Male              0      No         No      45           No   \n",
       "4  9237-HQITU  Female              0      No         No       2          Yes   \n",
       "\n",
       "      MultipleLines InternetService OnlineSecurity  ...  DeviceProtection  \\\n",
       "0  No phone service             DSL             No  ...                No   \n",
       "1                No             DSL            Yes  ...               Yes   \n",
       "2                No             DSL            Yes  ...                No   \n",
       "3  No phone service             DSL            Yes  ...               Yes   \n",
       "4                No     Fiber optic             No  ...                No   \n",
       "\n",
       "  TechSupport StreamingTV StreamingMovies        Contract PaperlessBilling  \\\n",
       "0          No          No              No  Month-to-month              Yes   \n",
       "1          No          No              No        One year               No   \n",
       "2          No          No              No  Month-to-month              Yes   \n",
       "3         Yes          No              No        One year               No   \n",
       "4          No          No              No  Month-to-month              Yes   \n",
       "\n",
       "               PaymentMethod MonthlyCharges  TotalCharges Churn  \n",
       "0           Electronic check          29.85         29.85    No  \n",
       "1               Mailed check          56.95        1889.5    No  \n",
       "2               Mailed check          53.85        108.15   Yes  \n",
       "3  Bank transfer (automatic)          42.30       1840.75    No  \n",
       "4           Electronic check          70.70        151.65   Yes  \n",
       "\n",
       "[5 rows x 21 columns]"
      ]
     },
     "execution_count": 3,
     "metadata": {},
     "output_type": "execute_result"
    }
   ],
   "source": [
    "df.head()"
   ]
  },
  {
   "cell_type": "markdown",
   "metadata": {},
   "source": [
    "Let's quickly write a function to get info about the columns we want. We should be able to pass a dataset alongwith either a list_of_column_labels_or_indices or a range_of_columns."
   ]
  },
  {
   "cell_type": "code",
   "execution_count": 4,
   "metadata": {},
   "outputs": [],
   "source": [
    "def col_info(data=df, col_ids=None):\n",
    "    '''\n",
    "    The function takes a dataset and a list of columns supplied by the user. If only a dataset is passed, the function will default to providing info on all the columns. The columns are specified as either all \"labels\" or all indices and can be in any desired order. Column indices can be passed using either a range function (for a contiguous list of columns) or a simple list (for non-contiguous columns). If \"labels\" are specified, these are converted into indices by the function before use.\\\n",
    "    \\n\\nEXAMPLES: Suppose the dataset has 10 columns labeled \"A\" to \"J\". \\n\\nSo for all columns use:\n",
    "    col_info(range(0, df.shape[1]))\\n\\nFor the first 6 columns use:\n",
    "    col_info(range(0, 5))\\n\\nFor columns 1, 3, 7, and 8 use:\n",
    "    col_info([1, 3, 7, 8])\\n\\nFor columns \"A\", \"D\" and \"F\" use:\n",
    "    col_info([\"A\", \"D\", \"F\"])\n",
    "    '''\n",
    "    if col_ids is None:\n",
    "        col_ids = range(0, data.shape[1])\n",
    "    # if the list contains column names (strings) instead of indices:\n",
    "    # check the 1st element only as all elements have the same type\n",
    "    if type(col_ids[0]) == str:\n",
    "        col_indices = [] # col_indices is the new list\n",
    "        for col in col_ids: # for each column in the passed list\n",
    "            index = data.columns.get_loc(col) # get column index\n",
    "            col_indices.append(index) # append column index to list\n",
    "    else: # if the list contains column indices\n",
    "        col_indices = col_ids\n",
    "    print(\"The full dataset contains:\", data.shape[0], \"rows and\", \\\n",
    "          data.shape[1], \"columns. Details for the requested columns\", \\\n",
    "          \"are as follows:\\n\")    \n",
    "    for col in col_indices: # for each index in the new list\n",
    "        print(data.columns[col], \": \", data.iloc[:,col].dtype, \\\n",
    "              data.iloc[:,col].unique(), \":\", \\\n",
    "              len(data.iloc[:,col].unique()), \"levels\")"
   ]
  },
  {
   "cell_type": "code",
   "execution_count": 5,
   "metadata": {},
   "outputs": [
    {
     "name": "stdout",
     "output_type": "stream",
     "text": [
      "The full dataset contains: 7043 rows and 21 columns. Details for the requested columns are as follows:\n",
      "\n",
      "customerID :  object ['7590-VHVEG' '5575-GNVDE' '3668-QPYBK' ... '4801-JZAZL' '8361-LTMKD'\n",
      " '3186-AJIEK'] : 7043 levels\n",
      "gender :  object ['Female' 'Male'] : 2 levels\n",
      "SeniorCitizen :  int64 [0 1] : 2 levels\n",
      "Partner :  object ['Yes' 'No'] : 2 levels\n",
      "Dependents :  object ['No' 'Yes'] : 2 levels\n",
      "tenure :  int64 [ 1 34  2 45  8 22 10 28 62 13 16 58 49 25 69 52 71 21 12 30 47 72 17 27\n",
      "  5 46 11 70 63 43 15 60 18 66  9  3 31 50 64 56  7 42 35 48 29 65 38 68\n",
      " 32 55 37 36 41  6  4 33 67 23 57 61 14 20 53 40 59 24 44 19 54 51 26  0\n",
      " 39] : 73 levels\n",
      "PhoneService :  object ['No' 'Yes'] : 2 levels\n",
      "MultipleLines :  object ['No phone service' 'No' 'Yes'] : 3 levels\n",
      "InternetService :  object ['DSL' 'Fiber optic' 'No'] : 3 levels\n",
      "OnlineSecurity :  object ['No' 'Yes' 'No internet service'] : 3 levels\n",
      "OnlineBackup :  object ['Yes' 'No' 'No internet service'] : 3 levels\n",
      "DeviceProtection :  object ['No' 'Yes' 'No internet service'] : 3 levels\n",
      "TechSupport :  object ['No' 'Yes' 'No internet service'] : 3 levels\n",
      "StreamingTV :  object ['No' 'Yes' 'No internet service'] : 3 levels\n",
      "StreamingMovies :  object ['No' 'Yes' 'No internet service'] : 3 levels\n",
      "Contract :  object ['Month-to-month' 'One year' 'Two year'] : 3 levels\n",
      "PaperlessBilling :  object ['Yes' 'No'] : 2 levels\n",
      "PaymentMethod :  object ['Electronic check' 'Mailed check' 'Bank transfer (automatic)'\n",
      " 'Credit card (automatic)'] : 4 levels\n",
      "MonthlyCharges :  float64 [29.85 56.95 53.85 ... 63.1  44.2  78.7 ] : 1585 levels\n",
      "TotalCharges :  object ['29.85' '1889.5' '108.15' ... '346.45' '306.6' '6844.5'] : 6531 levels\n",
      "Churn :  object ['No' 'Yes'] : 2 levels\n"
     ]
    }
   ],
   "source": [
    "col_info(df)"
   ]
  },
  {
   "cell_type": "markdown",
   "metadata": {},
   "source": [
    "The raw data contains 7043 rows (customers) and 21 columns (features). The “Churn” column is our target."
   ]
  },
  {
   "cell_type": "markdown",
   "metadata": {},
   "source": [
    "# Data Wrangling"
   ]
  },
  {
   "cell_type": "markdown",
   "metadata": {},
   "source": [
    "First of all, let's rename the columns \"customerID\", \"gender\", and \"tenure\" to title case so that all column names are consistent."
   ]
  },
  {
   "cell_type": "code",
   "execution_count": 6,
   "metadata": {},
   "outputs": [],
   "source": [
    "df.rename(index=str, columns={\"customerID\": \"CustomerID\", \\\n",
    "                              \"gender\": \"Gender\", \"tenure\": \"Tenure\"\\\n",
    "                             }, inplace=True)"
   ]
  },
  {
   "cell_type": "markdown",
   "metadata": {},
   "source": [
    "## <font color='brown'>Missing Values</font>"
   ]
  },
  {
   "cell_type": "markdown",
   "metadata": {},
   "source": [
    "We've made an interesting discovery here!!! If we use df.isna().sum() on the raw data such that some columns have values inconsistent with their dtype, then df.isna().sum() doesn't show any missing values! Let's see what happens when we use df.isna().sum() on the raw data:"
   ]
  },
  {
   "cell_type": "code",
   "execution_count": 7,
   "metadata": {},
   "outputs": [
    {
     "data": {
      "text/plain": [
       "CustomerID          0\n",
       "Gender              0\n",
       "SeniorCitizen       0\n",
       "Partner             0\n",
       "Dependents          0\n",
       "Tenure              0\n",
       "PhoneService        0\n",
       "MultipleLines       0\n",
       "InternetService     0\n",
       "OnlineSecurity      0\n",
       "OnlineBackup        0\n",
       "DeviceProtection    0\n",
       "TechSupport         0\n",
       "StreamingTV         0\n",
       "StreamingMovies     0\n",
       "Contract            0\n",
       "PaperlessBilling    0\n",
       "PaymentMethod       0\n",
       "MonthlyCharges      0\n",
       "TotalCharges        0\n",
       "Churn               0\n",
       "dtype: int64"
      ]
     },
     "execution_count": 7,
     "metadata": {},
     "output_type": "execute_result"
    }
   ],
   "source": [
    "df.isna().sum()"
   ]
  },
  {
   "cell_type": "markdown",
   "metadata": {},
   "source": [
    "You see, no missing values detected! Now we can see from column values that there are two columns namely MonthlyCharges and TotalCharges with float type values. However, the TotalCharges column is incorrectly stored as object type. So let's convert it to the correct type which is float and then use df.isna().sum() again."
   ]
  },
  {
   "cell_type": "code",
   "execution_count": 8,
   "metadata": {},
   "outputs": [],
   "source": [
    "df[\"TotalCharges\"] = pd.to_numeric(df[\"TotalCharges\"], errors=\"coerce\")"
   ]
  },
  {
   "cell_type": "code",
   "execution_count": 9,
   "metadata": {},
   "outputs": [
    {
     "data": {
      "text/plain": [
       "dtype('float64')"
      ]
     },
     "execution_count": 9,
     "metadata": {},
     "output_type": "execute_result"
    }
   ],
   "source": [
    "df[\"TotalCharges\"].dtype"
   ]
  },
  {
   "cell_type": "markdown",
   "metadata": {},
   "source": [
    "Now let's use df.isna().sum() to check the number of missing values in each column."
   ]
  },
  {
   "cell_type": "code",
   "execution_count": 10,
   "metadata": {},
   "outputs": [
    {
     "data": {
      "text/plain": [
       "CustomerID           0\n",
       "Gender               0\n",
       "SeniorCitizen        0\n",
       "Partner              0\n",
       "Dependents           0\n",
       "Tenure               0\n",
       "PhoneService         0\n",
       "MultipleLines        0\n",
       "InternetService      0\n",
       "OnlineSecurity       0\n",
       "OnlineBackup         0\n",
       "DeviceProtection     0\n",
       "TechSupport          0\n",
       "StreamingTV          0\n",
       "StreamingMovies      0\n",
       "Contract             0\n",
       "PaperlessBilling     0\n",
       "PaymentMethod        0\n",
       "MonthlyCharges       0\n",
       "TotalCharges        11\n",
       "Churn                0\n",
       "dtype: int64"
      ]
     },
     "execution_count": 10,
     "metadata": {},
     "output_type": "execute_result"
    }
   ],
   "source": [
    "df.isna().sum()"
   ]
  },
  {
   "cell_type": "markdown",
   "metadata": {},
   "source": [
    "We found that there are 11 missing values in the “TotalCharges” column! So the bottomline is that we should always convert data to the correct dtype before using df.isna().sum(). Otherwise, missing values in columns stored with the incorrect dtype may go undetected!"
   ]
  },
  {
   "cell_type": "markdown",
   "metadata": {},
   "source": [
    "Let's find the indices of the rows with missing values for \"TotalCharges\"."
   ]
  },
  {
   "cell_type": "code",
   "execution_count": 11,
   "metadata": {
    "scrolled": true
   },
   "outputs": [
    {
     "data": {
      "text/plain": [
       "array([ 488,  753,  936, 1082, 1340, 3331, 3826, 4380, 5218, 6670, 6754])"
      ]
     },
     "execution_count": 11,
     "metadata": {},
     "output_type": "execute_result"
    }
   ],
   "source": [
    "pd.isnull(df).any(1).nonzero()[0]"
   ]
  },
  {
   "cell_type": "markdown",
   "metadata": {},
   "source": [
    "So now let’s go ahead and get the shape of the data before dropping missing values. We'll then remove all rows with missing values and confirm it by looking at the shape of the data again."
   ]
  },
  {
   "cell_type": "code",
   "execution_count": 12,
   "metadata": {},
   "outputs": [
    {
     "data": {
      "text/plain": [
       "(7043, 21)"
      ]
     },
     "execution_count": 12,
     "metadata": {},
     "output_type": "execute_result"
    }
   ],
   "source": [
    "df.shape"
   ]
  },
  {
   "cell_type": "code",
   "execution_count": 13,
   "metadata": {},
   "outputs": [],
   "source": [
    "df.dropna(inplace=True)"
   ]
  },
  {
   "cell_type": "code",
   "execution_count": 14,
   "metadata": {},
   "outputs": [
    {
     "data": {
      "text/plain": [
       "(7032, 21)"
      ]
     },
     "execution_count": 14,
     "metadata": {},
     "output_type": "execute_result"
    }
   ],
   "source": [
    "df.shape"
   ]
  },
  {
   "cell_type": "markdown",
   "metadata": {},
   "source": [
    "## <font color='brown'>Value Replacement</font>"
   ]
  },
  {
   "cell_type": "markdown",
   "metadata": {},
   "source": [
    "Let's get the columns info once again to see which ones contain similar values."
   ]
  },
  {
   "cell_type": "code",
   "execution_count": 15,
   "metadata": {},
   "outputs": [
    {
     "name": "stdout",
     "output_type": "stream",
     "text": [
      "The full dataset contains: 7032 rows and 21 columns. Details for the requested columns are as follows:\n",
      "\n",
      "CustomerID :  object ['7590-VHVEG' '5575-GNVDE' '3668-QPYBK' ... '4801-JZAZL' '8361-LTMKD'\n",
      " '3186-AJIEK'] : 7032 levels\n",
      "Gender :  object ['Female' 'Male'] : 2 levels\n",
      "SeniorCitizen :  int64 [0 1] : 2 levels\n",
      "Partner :  object ['Yes' 'No'] : 2 levels\n",
      "Dependents :  object ['No' 'Yes'] : 2 levels\n",
      "Tenure :  int64 [ 1 34  2 45  8 22 10 28 62 13 16 58 49 25 69 52 71 21 12 30 47 72 17 27\n",
      "  5 46 11 70 63 43 15 60 18 66  9  3 31 50 64 56  7 42 35 48 29 65 38 68\n",
      " 32 55 37 36 41  6  4 33 67 23 57 61 14 20 53 40 59 24 44 19 54 51 26 39] : 72 levels\n",
      "PhoneService :  object ['No' 'Yes'] : 2 levels\n",
      "MultipleLines :  object ['No phone service' 'No' 'Yes'] : 3 levels\n",
      "InternetService :  object ['DSL' 'Fiber optic' 'No'] : 3 levels\n",
      "OnlineSecurity :  object ['No' 'Yes' 'No internet service'] : 3 levels\n",
      "OnlineBackup :  object ['Yes' 'No' 'No internet service'] : 3 levels\n",
      "DeviceProtection :  object ['No' 'Yes' 'No internet service'] : 3 levels\n",
      "TechSupport :  object ['No' 'Yes' 'No internet service'] : 3 levels\n",
      "StreamingTV :  object ['No' 'Yes' 'No internet service'] : 3 levels\n",
      "StreamingMovies :  object ['No' 'Yes' 'No internet service'] : 3 levels\n",
      "Contract :  object ['Month-to-month' 'One year' 'Two year'] : 3 levels\n",
      "PaperlessBilling :  object ['Yes' 'No'] : 2 levels\n",
      "PaymentMethod :  object ['Electronic check' 'Mailed check' 'Bank transfer (automatic)'\n",
      " 'Credit card (automatic)'] : 4 levels\n",
      "MonthlyCharges :  float64 [29.85 56.95 53.85 ... 63.1  44.2  78.7 ] : 1584 levels\n",
      "TotalCharges :  float64 [  29.85 1889.5   108.15 ...  346.45  306.6  6844.5 ] : 6530 levels\n",
      "Churn :  object ['No' 'Yes'] : 2 levels\n"
     ]
    }
   ],
   "source": [
    "col_info(df)"
   ]
  },
  {
   "cell_type": "markdown",
   "metadata": {},
   "source": [
    "<strong><font color='red'>1-</font></strong> For the column \"MultipleLines\", we can see that there is a value labeled 'No phone service' along with the 'No' and 'Yes' labels. That's because if the value of \"PhoneService\" for a customer (row) is 'No', we'll have the value 'No phone service' in the column \"MultipleLines\" for that customer. So basically, we can replace 'No phone service' with 'No' as they both mean the same for \"MultipleLines\"."
   ]
  },
  {
   "cell_type": "code",
   "execution_count": 16,
   "metadata": {},
   "outputs": [],
   "source": [
    "df[\"MultipleLines\"] = df[\"MultipleLines\"].replace('No phone service', \\\n",
    "                                                  'No')"
   ]
  },
  {
   "cell_type": "markdown",
   "metadata": {},
   "source": [
    "<strong><font color='red'>2-</font></strong> On a logic similar to <font color='red'>1</font>, we can replace the value 'No internet service' with 'No' for the six columns namely \"OnlineSecurity\", \"OnlineBackup\", \"DeviceProtection\", \"TechSupport\", \"StreamingTV\", and \"StreamingMovies\"."
   ]
  },
  {
   "cell_type": "code",
   "execution_count": 17,
   "metadata": {},
   "outputs": [],
   "source": [
    "columns = [\"OnlineSecurity\", \"OnlineBackup\", \"DeviceProtection\", \\\n",
    "           \"TechSupport\", \"StreamingTV\", \"StreamingMovies\"]\n",
    "for col in columns:\n",
    "    df[col] = df[col].replace('No internet service', 'No')"
   ]
  },
  {
   "cell_type": "markdown",
   "metadata": {},
   "source": [
    "## <font color='brown'>Value Mapping and Discretization</font>"
   ]
  },
  {
   "cell_type": "markdown",
   "metadata": {},
   "source": [
    "<strong><font color='red'>1-</font></strong> First of all, we'll map the integer values 0 and 1 in the column \"SeniorCitizen\" to 'No' and 'Yes' respectively."
   ]
  },
  {
   "cell_type": "code",
   "execution_count": 18,
   "metadata": {},
   "outputs": [],
   "source": [
    "mapping = {0: 'No', 1: 'Yes'}\n",
    "df[\"SeniorCitizen\"] = df[\"SeniorCitizen\"].map(mapping)"
   ]
  },
  {
   "cell_type": "markdown",
   "metadata": {},
   "source": [
    "<strong><font color='red'>2-</font></strong> Now let's check the minimum and maximum values of \"tenure\" column to see what could be a logical discretization of these values into categorical labels."
   ]
  },
  {
   "cell_type": "code",
   "execution_count": 19,
   "metadata": {},
   "outputs": [
    {
     "data": {
      "text/plain": [
       "1"
      ]
     },
     "metadata": {},
     "output_type": "display_data"
    },
    {
     "data": {
      "text/plain": [
       "72"
      ]
     },
     "metadata": {},
     "output_type": "display_data"
    }
   ],
   "source": [
    "display(df[\"Tenure\"].min(), df[\"Tenure\"].max())"
   ]
  },
  {
   "cell_type": "markdown",
   "metadata": {},
   "source": [
    "Since the minimum value for \"Tenure\" is 1 month and the maximum value is 72 months, we can create five groups for \"Tenure\": “0–12 Month”, “12–24 Month”, “24–48 Months”, “48–60 Month”, and “> 60 Month”."
   ]
  },
  {
   "cell_type": "code",
   "execution_count": 20,
   "metadata": {},
   "outputs": [],
   "source": [
    "def group_tenure(tenure):\n",
    "    if ((tenure >= 0) & (tenure <= 12)):\n",
    "        return('<= 1 Year')\n",
    "    elif ((tenure > 12) & (tenure <= 24)):\n",
    "        return('1-2 Years')\n",
    "    elif ((tenure > 24) & (tenure <= 48)):\n",
    "        return('2-4 Years')\n",
    "    elif ((tenure > 48) & (tenure <= 60)):\n",
    "        return('4-5 Years')\n",
    "    elif tenure > 60:\n",
    "        return('> 5 Years')"
   ]
  },
  {
   "cell_type": "code",
   "execution_count": 21,
   "metadata": {},
   "outputs": [],
   "source": [
    "df.insert(20, \"Tenure_Group\", df[\"Tenure\"].apply(group_tenure))"
   ]
  },
  {
   "cell_type": "code",
   "execution_count": 22,
   "metadata": {},
   "outputs": [
    {
     "data": {
      "text/html": [
       "<div>\n",
       "<style scoped>\n",
       "    .dataframe tbody tr th:only-of-type {\n",
       "        vertical-align: middle;\n",
       "    }\n",
       "\n",
       "    .dataframe tbody tr th {\n",
       "        vertical-align: top;\n",
       "    }\n",
       "\n",
       "    .dataframe thead th {\n",
       "        text-align: right;\n",
       "    }\n",
       "</style>\n",
       "<table border=\"1\" class=\"dataframe\">\n",
       "  <thead>\n",
       "    <tr style=\"text-align: right;\">\n",
       "      <th></th>\n",
       "      <th>Tenure</th>\n",
       "      <th>Tenure_Group</th>\n",
       "    </tr>\n",
       "  </thead>\n",
       "  <tbody>\n",
       "    <tr>\n",
       "      <th>0</th>\n",
       "      <td>1</td>\n",
       "      <td>&lt;= 1 Year</td>\n",
       "    </tr>\n",
       "    <tr>\n",
       "      <th>1</th>\n",
       "      <td>34</td>\n",
       "      <td>2-4 Years</td>\n",
       "    </tr>\n",
       "    <tr>\n",
       "      <th>2</th>\n",
       "      <td>2</td>\n",
       "      <td>&lt;= 1 Year</td>\n",
       "    </tr>\n",
       "    <tr>\n",
       "      <th>3</th>\n",
       "      <td>45</td>\n",
       "      <td>2-4 Years</td>\n",
       "    </tr>\n",
       "    <tr>\n",
       "      <th>4</th>\n",
       "      <td>2</td>\n",
       "      <td>&lt;= 1 Year</td>\n",
       "    </tr>\n",
       "    <tr>\n",
       "      <th>5</th>\n",
       "      <td>8</td>\n",
       "      <td>&lt;= 1 Year</td>\n",
       "    </tr>\n",
       "    <tr>\n",
       "      <th>6</th>\n",
       "      <td>22</td>\n",
       "      <td>1-2 Years</td>\n",
       "    </tr>\n",
       "    <tr>\n",
       "      <th>7</th>\n",
       "      <td>10</td>\n",
       "      <td>&lt;= 1 Year</td>\n",
       "    </tr>\n",
       "    <tr>\n",
       "      <th>8</th>\n",
       "      <td>28</td>\n",
       "      <td>2-4 Years</td>\n",
       "    </tr>\n",
       "    <tr>\n",
       "      <th>9</th>\n",
       "      <td>62</td>\n",
       "      <td>&gt; 5 Years</td>\n",
       "    </tr>\n",
       "    <tr>\n",
       "      <th>10</th>\n",
       "      <td>13</td>\n",
       "      <td>1-2 Years</td>\n",
       "    </tr>\n",
       "    <tr>\n",
       "      <th>11</th>\n",
       "      <td>16</td>\n",
       "      <td>1-2 Years</td>\n",
       "    </tr>\n",
       "    <tr>\n",
       "      <th>12</th>\n",
       "      <td>58</td>\n",
       "      <td>4-5 Years</td>\n",
       "    </tr>\n",
       "    <tr>\n",
       "      <th>13</th>\n",
       "      <td>49</td>\n",
       "      <td>4-5 Years</td>\n",
       "    </tr>\n",
       "    <tr>\n",
       "      <th>14</th>\n",
       "      <td>25</td>\n",
       "      <td>2-4 Years</td>\n",
       "    </tr>\n",
       "  </tbody>\n",
       "</table>\n",
       "</div>"
      ],
      "text/plain": [
       "    Tenure Tenure_Group\n",
       "0        1    <= 1 Year\n",
       "1       34    2-4 Years\n",
       "2        2    <= 1 Year\n",
       "3       45    2-4 Years\n",
       "4        2    <= 1 Year\n",
       "5        8    <= 1 Year\n",
       "6       22    1-2 Years\n",
       "7       10    <= 1 Year\n",
       "8       28    2-4 Years\n",
       "9       62    > 5 Years\n",
       "10      13    1-2 Years\n",
       "11      16    1-2 Years\n",
       "12      58    4-5 Years\n",
       "13      49    4-5 Years\n",
       "14      25    2-4 Years"
      ]
     },
     "execution_count": 22,
     "metadata": {},
     "output_type": "execute_result"
    }
   ],
   "source": [
    "df[[\"Tenure\", \"Tenure_Group\"]].head(15)"
   ]
  },
  {
   "cell_type": "code",
   "execution_count": 23,
   "metadata": {},
   "outputs": [
    {
     "name": "stdout",
     "output_type": "stream",
     "text": [
      "The full dataset contains: 7032 rows and 22 columns. Details for the requested columns are as follows:\n",
      "\n",
      "Tenure :  int64 [ 1 34  2 45  8 22 10 28 62 13 16 58 49 25 69 52 71 21 12 30 47 72 17 27\n",
      "  5 46 11 70 63 43 15 60 18 66  9  3 31 50 64 56  7 42 35 48 29 65 38 68\n",
      " 32 55 37 36 41  6  4 33 67 23 57 61 14 20 53 40 59 24 44 19 54 51 26 39] : 72 levels\n",
      "Tenure_Group :  object ['<= 1 Year' '2-4 Years' '1-2 Years' '> 5 Years' '4-5 Years'] : 5 levels\n"
     ]
    }
   ],
   "source": [
    "col_info(df, [\"Tenure\", \"Tenure_Group\"])"
   ]
  },
  {
   "cell_type": "code",
   "execution_count": 24,
   "metadata": {},
   "outputs": [],
   "source": [
    "df.drop([\"CustomerID\", \"Tenure\"], axis=1, inplace=True)"
   ]
  },
  {
   "cell_type": "code",
   "execution_count": 25,
   "metadata": {},
   "outputs": [
    {
     "data": {
      "text/html": [
       "<div>\n",
       "<style scoped>\n",
       "    .dataframe tbody tr th:only-of-type {\n",
       "        vertical-align: middle;\n",
       "    }\n",
       "\n",
       "    .dataframe tbody tr th {\n",
       "        vertical-align: top;\n",
       "    }\n",
       "\n",
       "    .dataframe thead th {\n",
       "        text-align: right;\n",
       "    }\n",
       "</style>\n",
       "<table border=\"1\" class=\"dataframe\">\n",
       "  <thead>\n",
       "    <tr style=\"text-align: right;\">\n",
       "      <th></th>\n",
       "      <th>Gender</th>\n",
       "      <th>SeniorCitizen</th>\n",
       "      <th>Partner</th>\n",
       "      <th>Dependents</th>\n",
       "      <th>PhoneService</th>\n",
       "      <th>MultipleLines</th>\n",
       "      <th>InternetService</th>\n",
       "      <th>OnlineSecurity</th>\n",
       "      <th>OnlineBackup</th>\n",
       "      <th>DeviceProtection</th>\n",
       "      <th>TechSupport</th>\n",
       "      <th>StreamingTV</th>\n",
       "      <th>StreamingMovies</th>\n",
       "      <th>Contract</th>\n",
       "      <th>PaperlessBilling</th>\n",
       "      <th>PaymentMethod</th>\n",
       "      <th>MonthlyCharges</th>\n",
       "      <th>TotalCharges</th>\n",
       "      <th>Tenure_Group</th>\n",
       "      <th>Churn</th>\n",
       "    </tr>\n",
       "  </thead>\n",
       "  <tbody>\n",
       "    <tr>\n",
       "      <th>0</th>\n",
       "      <td>Female</td>\n",
       "      <td>No</td>\n",
       "      <td>Yes</td>\n",
       "      <td>No</td>\n",
       "      <td>No</td>\n",
       "      <td>No</td>\n",
       "      <td>DSL</td>\n",
       "      <td>No</td>\n",
       "      <td>Yes</td>\n",
       "      <td>No</td>\n",
       "      <td>No</td>\n",
       "      <td>No</td>\n",
       "      <td>No</td>\n",
       "      <td>Month-to-month</td>\n",
       "      <td>Yes</td>\n",
       "      <td>Electronic check</td>\n",
       "      <td>29.85</td>\n",
       "      <td>29.85</td>\n",
       "      <td>&lt;= 1 Year</td>\n",
       "      <td>No</td>\n",
       "    </tr>\n",
       "    <tr>\n",
       "      <th>1</th>\n",
       "      <td>Male</td>\n",
       "      <td>No</td>\n",
       "      <td>No</td>\n",
       "      <td>No</td>\n",
       "      <td>Yes</td>\n",
       "      <td>No</td>\n",
       "      <td>DSL</td>\n",
       "      <td>Yes</td>\n",
       "      <td>No</td>\n",
       "      <td>Yes</td>\n",
       "      <td>No</td>\n",
       "      <td>No</td>\n",
       "      <td>No</td>\n",
       "      <td>One year</td>\n",
       "      <td>No</td>\n",
       "      <td>Mailed check</td>\n",
       "      <td>56.95</td>\n",
       "      <td>1889.50</td>\n",
       "      <td>2-4 Years</td>\n",
       "      <td>No</td>\n",
       "    </tr>\n",
       "    <tr>\n",
       "      <th>2</th>\n",
       "      <td>Male</td>\n",
       "      <td>No</td>\n",
       "      <td>No</td>\n",
       "      <td>No</td>\n",
       "      <td>Yes</td>\n",
       "      <td>No</td>\n",
       "      <td>DSL</td>\n",
       "      <td>Yes</td>\n",
       "      <td>Yes</td>\n",
       "      <td>No</td>\n",
       "      <td>No</td>\n",
       "      <td>No</td>\n",
       "      <td>No</td>\n",
       "      <td>Month-to-month</td>\n",
       "      <td>Yes</td>\n",
       "      <td>Mailed check</td>\n",
       "      <td>53.85</td>\n",
       "      <td>108.15</td>\n",
       "      <td>&lt;= 1 Year</td>\n",
       "      <td>Yes</td>\n",
       "    </tr>\n",
       "    <tr>\n",
       "      <th>3</th>\n",
       "      <td>Male</td>\n",
       "      <td>No</td>\n",
       "      <td>No</td>\n",
       "      <td>No</td>\n",
       "      <td>No</td>\n",
       "      <td>No</td>\n",
       "      <td>DSL</td>\n",
       "      <td>Yes</td>\n",
       "      <td>No</td>\n",
       "      <td>Yes</td>\n",
       "      <td>Yes</td>\n",
       "      <td>No</td>\n",
       "      <td>No</td>\n",
       "      <td>One year</td>\n",
       "      <td>No</td>\n",
       "      <td>Bank transfer (automatic)</td>\n",
       "      <td>42.30</td>\n",
       "      <td>1840.75</td>\n",
       "      <td>2-4 Years</td>\n",
       "      <td>No</td>\n",
       "    </tr>\n",
       "    <tr>\n",
       "      <th>4</th>\n",
       "      <td>Female</td>\n",
       "      <td>No</td>\n",
       "      <td>No</td>\n",
       "      <td>No</td>\n",
       "      <td>Yes</td>\n",
       "      <td>No</td>\n",
       "      <td>Fiber optic</td>\n",
       "      <td>No</td>\n",
       "      <td>No</td>\n",
       "      <td>No</td>\n",
       "      <td>No</td>\n",
       "      <td>No</td>\n",
       "      <td>No</td>\n",
       "      <td>Month-to-month</td>\n",
       "      <td>Yes</td>\n",
       "      <td>Electronic check</td>\n",
       "      <td>70.70</td>\n",
       "      <td>151.65</td>\n",
       "      <td>&lt;= 1 Year</td>\n",
       "      <td>Yes</td>\n",
       "    </tr>\n",
       "  </tbody>\n",
       "</table>\n",
       "</div>"
      ],
      "text/plain": [
       "   Gender SeniorCitizen Partner Dependents PhoneService MultipleLines  \\\n",
       "0  Female            No     Yes         No           No            No   \n",
       "1    Male            No      No         No          Yes            No   \n",
       "2    Male            No      No         No          Yes            No   \n",
       "3    Male            No      No         No           No            No   \n",
       "4  Female            No      No         No          Yes            No   \n",
       "\n",
       "  InternetService OnlineSecurity OnlineBackup DeviceProtection TechSupport  \\\n",
       "0             DSL             No          Yes               No          No   \n",
       "1             DSL            Yes           No              Yes          No   \n",
       "2             DSL            Yes          Yes               No          No   \n",
       "3             DSL            Yes           No              Yes         Yes   \n",
       "4     Fiber optic             No           No               No          No   \n",
       "\n",
       "  StreamingTV StreamingMovies        Contract PaperlessBilling  \\\n",
       "0          No              No  Month-to-month              Yes   \n",
       "1          No              No        One year               No   \n",
       "2          No              No  Month-to-month              Yes   \n",
       "3          No              No        One year               No   \n",
       "4          No              No  Month-to-month              Yes   \n",
       "\n",
       "               PaymentMethod  MonthlyCharges  TotalCharges Tenure_Group Churn  \n",
       "0           Electronic check           29.85         29.85    <= 1 Year    No  \n",
       "1               Mailed check           56.95       1889.50    2-4 Years    No  \n",
       "2               Mailed check           53.85        108.15    <= 1 Year   Yes  \n",
       "3  Bank transfer (automatic)           42.30       1840.75    2-4 Years    No  \n",
       "4           Electronic check           70.70        151.65    <= 1 Year   Yes  "
      ]
     },
     "execution_count": 25,
     "metadata": {},
     "output_type": "execute_result"
    }
   ],
   "source": [
    "df.head()"
   ]
  },
  {
   "cell_type": "markdown",
   "metadata": {},
   "source": [
    "# EDA and Data Visualization"
   ]
  },
  {
   "cell_type": "markdown",
   "metadata": {},
   "source": [
    "## <font color='brown'>Check Correlation between Numeric Variables</font>"
   ]
  },
  {
   "cell_type": "code",
   "execution_count": 26,
   "metadata": {},
   "outputs": [],
   "source": [
    "corr = df[[\"MonthlyCharges\", \"TotalCharges\"]].corr()"
   ]
  },
  {
   "cell_type": "code",
   "execution_count": 27,
   "metadata": {},
   "outputs": [
    {
     "data": {
      "text/html": [
       "<div>\n",
       "<style scoped>\n",
       "    .dataframe tbody tr th:only-of-type {\n",
       "        vertical-align: middle;\n",
       "    }\n",
       "\n",
       "    .dataframe tbody tr th {\n",
       "        vertical-align: top;\n",
       "    }\n",
       "\n",
       "    .dataframe thead th {\n",
       "        text-align: right;\n",
       "    }\n",
       "</style>\n",
       "<table border=\"1\" class=\"dataframe\">\n",
       "  <thead>\n",
       "    <tr style=\"text-align: right;\">\n",
       "      <th></th>\n",
       "      <th>MonthlyCharges</th>\n",
       "      <th>TotalCharges</th>\n",
       "    </tr>\n",
       "  </thead>\n",
       "  <tbody>\n",
       "    <tr>\n",
       "      <th>MonthlyCharges</th>\n",
       "      <td>1.000000</td>\n",
       "      <td>0.651065</td>\n",
       "    </tr>\n",
       "    <tr>\n",
       "      <th>TotalCharges</th>\n",
       "      <td>0.651065</td>\n",
       "      <td>1.000000</td>\n",
       "    </tr>\n",
       "  </tbody>\n",
       "</table>\n",
       "</div>"
      ],
      "text/plain": [
       "                MonthlyCharges  TotalCharges\n",
       "MonthlyCharges        1.000000      0.651065\n",
       "TotalCharges          0.651065      1.000000"
      ]
     },
     "execution_count": 27,
     "metadata": {},
     "output_type": "execute_result"
    }
   ],
   "source": [
    "corr"
   ]
  },
  {
   "cell_type": "code",
   "execution_count": 28,
   "metadata": {},
   "outputs": [
    {
     "data": {
      "text/plain": [
       "<matplotlib.axes._subplots.AxesSubplot at 0x7fd1f2bad400>"
      ]
     },
     "execution_count": 28,
     "metadata": {},
     "output_type": "execute_result"
    },
    {
     "data": {
      "image/png": "[encoded data removed]",
      "text/plain": [
       "<matplotlib.figure.Figure at 0x7fd1f2bb0048>"
      ]
     },
     "metadata": {},
     "output_type": "display_data"
    }
   ],
   "source": [
    "# Set up the matplotlib figure\n",
    "f, ax = plt.subplots(figsize=(6, 6))\n",
    "\n",
    "# Generate a custom diverging colormap\n",
    "cmap = sns.diverging_palette(220, 10, as_cmap=True)\n",
    "\n",
    "# Draw the heatmap with the mask and correct aspect ratio\n",
    "sns.heatmap(corr, cmap=cmap, vmax=.3, center=0, annot=True,\n",
    "            square=True, linewidths=.5, cbar_kws={\"shrink\": .5})"
   ]
  },
  {
   "cell_type": "markdown",
   "metadata": {},
   "source": [
    "The Monthly Charges and Total Charges are correlated. So one of them will be removed from the model. We remove Total Charges."
   ]
  },
  {
   "cell_type": "code",
   "execution_count": 29,
   "metadata": {},
   "outputs": [],
   "source": [
    "df.drop(\"TotalCharges\", axis=1, inplace=True)"
   ]
  },
  {
   "cell_type": "code",
   "execution_count": 30,
   "metadata": {},
   "outputs": [
    {
     "data": {
      "text/html": [
       "<div>\n",
       "<style scoped>\n",
       "    .dataframe tbody tr th:only-of-type {\n",
       "        vertical-align: middle;\n",
       "    }\n",
       "\n",
       "    .dataframe tbody tr th {\n",
       "        vertical-align: top;\n",
       "    }\n",
       "\n",
       "    .dataframe thead th {\n",
       "        text-align: right;\n",
       "    }\n",
       "</style>\n",
       "<table border=\"1\" class=\"dataframe\">\n",
       "  <thead>\n",
       "    <tr style=\"text-align: right;\">\n",
       "      <th></th>\n",
       "      <th>Gender</th>\n",
       "      <th>SeniorCitizen</th>\n",
       "      <th>Partner</th>\n",
       "      <th>Dependents</th>\n",
       "      <th>PhoneService</th>\n",
       "      <th>MultipleLines</th>\n",
       "      <th>InternetService</th>\n",
       "      <th>OnlineSecurity</th>\n",
       "      <th>OnlineBackup</th>\n",
       "      <th>DeviceProtection</th>\n",
       "      <th>TechSupport</th>\n",
       "      <th>StreamingTV</th>\n",
       "      <th>StreamingMovies</th>\n",
       "      <th>Contract</th>\n",
       "      <th>PaperlessBilling</th>\n",
       "      <th>PaymentMethod</th>\n",
       "      <th>MonthlyCharges</th>\n",
       "      <th>Tenure_Group</th>\n",
       "      <th>Churn</th>\n",
       "    </tr>\n",
       "  </thead>\n",
       "  <tbody>\n",
       "    <tr>\n",
       "      <th>0</th>\n",
       "      <td>Female</td>\n",
       "      <td>No</td>\n",
       "      <td>Yes</td>\n",
       "      <td>No</td>\n",
       "      <td>No</td>\n",
       "      <td>No</td>\n",
       "      <td>DSL</td>\n",
       "      <td>No</td>\n",
       "      <td>Yes</td>\n",
       "      <td>No</td>\n",
       "      <td>No</td>\n",
       "      <td>No</td>\n",
       "      <td>No</td>\n",
       "      <td>Month-to-month</td>\n",
       "      <td>Yes</td>\n",
       "      <td>Electronic check</td>\n",
       "      <td>29.85</td>\n",
       "      <td>&lt;= 1 Year</td>\n",
       "      <td>No</td>\n",
       "    </tr>\n",
       "    <tr>\n",
       "      <th>1</th>\n",
       "      <td>Male</td>\n",
       "      <td>No</td>\n",
       "      <td>No</td>\n",
       "      <td>No</td>\n",
       "      <td>Yes</td>\n",
       "      <td>No</td>\n",
       "      <td>DSL</td>\n",
       "      <td>Yes</td>\n",
       "      <td>No</td>\n",
       "      <td>Yes</td>\n",
       "      <td>No</td>\n",
       "      <td>No</td>\n",
       "      <td>No</td>\n",
       "      <td>One year</td>\n",
       "      <td>No</td>\n",
       "      <td>Mailed check</td>\n",
       "      <td>56.95</td>\n",
       "      <td>2-4 Years</td>\n",
       "      <td>No</td>\n",
       "    </tr>\n",
       "    <tr>\n",
       "      <th>2</th>\n",
       "      <td>Male</td>\n",
       "      <td>No</td>\n",
       "      <td>No</td>\n",
       "      <td>No</td>\n",
       "      <td>Yes</td>\n",
       "      <td>No</td>\n",
       "      <td>DSL</td>\n",
       "      <td>Yes</td>\n",
       "      <td>Yes</td>\n",
       "      <td>No</td>\n",
       "      <td>No</td>\n",
       "      <td>No</td>\n",
       "      <td>No</td>\n",
       "      <td>Month-to-month</td>\n",
       "      <td>Yes</td>\n",
       "      <td>Mailed check</td>\n",
       "      <td>53.85</td>\n",
       "      <td>&lt;= 1 Year</td>\n",
       "      <td>Yes</td>\n",
       "    </tr>\n",
       "    <tr>\n",
       "      <th>3</th>\n",
       "      <td>Male</td>\n",
       "      <td>No</td>\n",
       "      <td>No</td>\n",
       "      <td>No</td>\n",
       "      <td>No</td>\n",
       "      <td>No</td>\n",
       "      <td>DSL</td>\n",
       "      <td>Yes</td>\n",
       "      <td>No</td>\n",
       "      <td>Yes</td>\n",
       "      <td>Yes</td>\n",
       "      <td>No</td>\n",
       "      <td>No</td>\n",
       "      <td>One year</td>\n",
       "      <td>No</td>\n",
       "      <td>Bank transfer (automatic)</td>\n",
       "      <td>42.30</td>\n",
       "      <td>2-4 Years</td>\n",
       "      <td>No</td>\n",
       "    </tr>\n",
       "    <tr>\n",
       "      <th>4</th>\n",
       "      <td>Female</td>\n",
       "      <td>No</td>\n",
       "      <td>No</td>\n",
       "      <td>No</td>\n",
       "      <td>Yes</td>\n",
       "      <td>No</td>\n",
       "      <td>Fiber optic</td>\n",
       "      <td>No</td>\n",
       "      <td>No</td>\n",
       "      <td>No</td>\n",
       "      <td>No</td>\n",
       "      <td>No</td>\n",
       "      <td>No</td>\n",
       "      <td>Month-to-month</td>\n",
       "      <td>Yes</td>\n",
       "      <td>Electronic check</td>\n",
       "      <td>70.70</td>\n",
       "      <td>&lt;= 1 Year</td>\n",
       "      <td>Yes</td>\n",
       "    </tr>\n",
       "  </tbody>\n",
       "</table>\n",
       "</div>"
      ],
      "text/plain": [
       "   Gender SeniorCitizen Partner Dependents PhoneService MultipleLines  \\\n",
       "0  Female            No     Yes         No           No            No   \n",
       "1    Male            No      No         No          Yes            No   \n",
       "2    Male            No      No         No          Yes            No   \n",
       "3    Male            No      No         No           No            No   \n",
       "4  Female            No      No         No          Yes            No   \n",
       "\n",
       "  InternetService OnlineSecurity OnlineBackup DeviceProtection TechSupport  \\\n",
       "0             DSL             No          Yes               No          No   \n",
       "1             DSL            Yes           No              Yes          No   \n",
       "2             DSL            Yes          Yes               No          No   \n",
       "3             DSL            Yes           No              Yes         Yes   \n",
       "4     Fiber optic             No           No               No          No   \n",
       "\n",
       "  StreamingTV StreamingMovies        Contract PaperlessBilling  \\\n",
       "0          No              No  Month-to-month              Yes   \n",
       "1          No              No        One year               No   \n",
       "2          No              No  Month-to-month              Yes   \n",
       "3          No              No        One year               No   \n",
       "4          No              No  Month-to-month              Yes   \n",
       "\n",
       "               PaymentMethod  MonthlyCharges Tenure_Group Churn  \n",
       "0           Electronic check           29.85    <= 1 Year    No  \n",
       "1               Mailed check           56.95    2-4 Years    No  \n",
       "2               Mailed check           53.85    <= 1 Year   Yes  \n",
       "3  Bank transfer (automatic)           42.30    2-4 Years    No  \n",
       "4           Electronic check           70.70    <= 1 Year   Yes  "
      ]
     },
     "execution_count": 30,
     "metadata": {},
     "output_type": "execute_result"
    }
   ],
   "source": [
    "df.head()"
   ]
  },
  {
   "cell_type": "markdown",
   "metadata": {},
   "source": [
    "## <font color='brown'>Percentage Barplots to Assess the Distribution of Categorical Variables</font>"
   ]
  },
  {
   "cell_type": "markdown",
   "metadata": {},
   "source": [
    "The default approach for creating barplots in seaborn for categorical columns is to use sns.countplot(). However this doesn't help us visualize the percentage of a category out of all the categories for a particular column. By contrast, the sns.barplot() method can make percentage barplots given a suitable lambda function, but only if a column is integer-valued. For this reason, we'll create a new copy of our dataset in which column values will be integers instead of labels. Later, we'll retrieve the original labels inside the plotting function from the mapping dictionary used to encode a particular a column."
   ]
  },
  {
   "cell_type": "markdown",
   "metadata": {},
   "source": [
    "### <font color='brown'>Value Encoding</font>"
   ]
  },
  {
   "cell_type": "markdown",
   "metadata": {},
   "source": [
    "Let's reload the columns info to see the current state."
   ]
  },
  {
   "cell_type": "code",
   "execution_count": 31,
   "metadata": {},
   "outputs": [
    {
     "name": "stdout",
     "output_type": "stream",
     "text": [
      "The full dataset contains: 7032 rows and 19 columns. Details for the requested columns are as follows:\n",
      "\n",
      "Gender :  object ['Female' 'Male'] : 2 levels\n",
      "SeniorCitizen :  object ['No' 'Yes'] : 2 levels\n",
      "Partner :  object ['Yes' 'No'] : 2 levels\n",
      "Dependents :  object ['No' 'Yes'] : 2 levels\n",
      "PhoneService :  object ['No' 'Yes'] : 2 levels\n",
      "MultipleLines :  object ['No' 'Yes'] : 2 levels\n",
      "InternetService :  object ['DSL' 'Fiber optic' 'No'] : 3 levels\n",
      "OnlineSecurity :  object ['No' 'Yes'] : 2 levels\n",
      "OnlineBackup :  object ['Yes' 'No'] : 2 levels\n",
      "DeviceProtection :  object ['No' 'Yes'] : 2 levels\n",
      "TechSupport :  object ['No' 'Yes'] : 2 levels\n",
      "StreamingTV :  object ['No' 'Yes'] : 2 levels\n",
      "StreamingMovies :  object ['No' 'Yes'] : 2 levels\n",
      "Contract :  object ['Month-to-month' 'One year' 'Two year'] : 3 levels\n",
      "PaperlessBilling :  object ['Yes' 'No'] : 2 levels\n",
      "PaymentMethod :  object ['Electronic check' 'Mailed check' 'Bank transfer (automatic)'\n",
      " 'Credit card (automatic)'] : 4 levels\n",
      "MonthlyCharges :  float64 [29.85 56.95 53.85 ... 63.1  44.2  78.7 ] : 1584 levels\n",
      "Tenure_Group :  object ['<= 1 Year' '2-4 Years' '1-2 Years' '> 5 Years' '4-5 Years'] : 5 levels\n",
      "Churn :  object ['No' 'Yes'] : 2 levels\n"
     ]
    }
   ],
   "source": [
    "col_info(df)"
   ]
  },
  {
   "cell_type": "markdown",
   "metadata": {},
   "source": [
    "Before proceeding with encoding, let's create a copy of the entire dataframe."
   ]
  },
  {
   "cell_type": "code",
   "execution_count": 32,
   "metadata": {},
   "outputs": [],
   "source": [
    "df_enc = df.copy()"
   ]
  },
  {
   "cell_type": "markdown",
   "metadata": {},
   "source": [
    "<strong><font color='orange'>1-</font></strong> Let's map the labels 'Female' and 'Male' to 0 and 1 respectively for the \"Gender\" column."
   ]
  },
  {
   "cell_type": "code",
   "execution_count": 33,
   "metadata": {},
   "outputs": [],
   "source": [
    "mapping_F_M = OrderedDict({'Female': 0, 'Male': 1})\n",
    "df_enc[\"Gender\"] = df_enc[\"Gender\"].map(mapping_F_M)"
   ]
  },
  {
   "cell_type": "markdown",
   "metadata": {},
   "source": [
    "<strong><font color='orange'>2-</font></strong> Now let's map the labels 'No', 'DSL' and 'Fiber optic' to 0, 1, and 2 respectively for the column \"InternetService\""
   ]
  },
  {
   "cell_type": "code",
   "execution_count": 34,
   "metadata": {},
   "outputs": [],
   "source": [
    "mapping_No_DSL_Fio = OrderedDict({'No': 0, 'DSL': 1, 'Fiber optic': 2})\n",
    "df_enc[\"InternetService\"] = df_enc[\"InternetService\"].map(mapping_No_DSL_Fio)"
   ]
  },
  {
   "cell_type": "markdown",
   "metadata": {},
   "source": [
    "<strong><font color='orange'>3-</font></strong> We'll map the labels 'Month-to-month', 'One year' and 'Two year' to 0, 1, and 2 respectively for the column \"Contract\"."
   ]
  },
  {
   "cell_type": "code",
   "execution_count": 35,
   "metadata": {},
   "outputs": [],
   "source": [
    "mapping_Cont = OrderedDict({'Month-to-month': 0, 'One year': 1, \\\n",
    "                       'Two year': 2})\n",
    "df_enc[\"Contract\"] = df_enc[\"Contract\"].map(mapping_Cont)"
   ]
  },
  {
   "cell_type": "markdown",
   "metadata": {},
   "source": [
    "<strong><font color='orange'>4-</font></strong> Let's map the labels 'Electronic check', 'Mailed check', 'Bank transfer (automatic)', and 'Credit card (automatic)' to 0, 1, 2, and 3 respectively for the column \"PaymentMethod\"."
   ]
  },
  {
   "cell_type": "code",
   "execution_count": 36,
   "metadata": {},
   "outputs": [],
   "source": [
    "mapping_PM = OrderedDict({'Electronic check': 0, 'Mailed check': 1, \\\n",
    "                       'Bank transfer (automatic)': 2, \\\n",
    "                       'Credit card (automatic)': 3})\n",
    "df_enc[\"PaymentMethod\"] = df_enc[\"PaymentMethod\"].map(mapping_PM)"
   ]
  },
  {
   "cell_type": "markdown",
   "metadata": {},
   "source": [
    "<strong><font color='orange'>5-</font></strong> We'll now map the labels 'Month-to-month', 'One year' and 'Two year' to 0, 1, and 2 respectively for the column \"Contract\"."
   ]
  },
  {
   "cell_type": "code",
   "execution_count": 37,
   "metadata": {},
   "outputs": [],
   "source": [
    "mapping_TG = OrderedDict({'<= 1 Year': 0, '1-2 Years': 1, \\\n",
    "                       '2-4 Years': 2, '4-5 Years': 3, \\\n",
    "                       '> 5 Years': 4})\n",
    "df_enc[\"Tenure_Group\"] = df_enc[\"Tenure_Group\"].map(mapping_TG)"
   ]
  },
  {
   "cell_type": "markdown",
   "metadata": {},
   "source": [
    "<strong><font color='orange'>6-</font></strong> Finally let's map the labels 'No' and 'Yes' to 0 and 1 respectively for the columns \"SeniorCitizen\", Partner\", \"Dependents\", \"PhoneService\", \"MultipleLines\", \"OnlineSecurity\", \"OnlineBackup\", \"DeviceProtection\", \"TechSupport\", \"StreamingTV\", \"StreamingMovies\", \"PaperlessBilling\" and \"Churn\"."
   ]
  },
  {
   "cell_type": "code",
   "execution_count": 38,
   "metadata": {},
   "outputs": [],
   "source": [
    "mapping_No_Yes = OrderedDict({'No': 0, 'Yes': 1})\n",
    "columns = [\"SeniorCitizen\", \"Partner\", \"Dependents\", \"PhoneService\", \\\n",
    "           \"MultipleLines\", \"OnlineSecurity\", \"OnlineBackup\", \\\n",
    "           \"DeviceProtection\", \"TechSupport\", \"StreamingTV\", \\\n",
    "           \"StreamingMovies\", \"PaperlessBilling\", \"Churn\"]\n",
    "for col in columns:\n",
    "    df_enc[col] = df_enc[col].map(mapping_No_Yes)"
   ]
  },
  {
   "cell_type": "markdown",
   "metadata": {},
   "source": [
    "Let's confirm that everything went right."
   ]
  },
  {
   "cell_type": "code",
   "execution_count": 39,
   "metadata": {},
   "outputs": [
    {
     "name": "stdout",
     "output_type": "stream",
     "text": [
      "The full dataset contains: 7032 rows and 19 columns. Details for the requested columns are as follows:\n",
      "\n",
      "Gender :  int64 [0 1] : 2 levels\n",
      "SeniorCitizen :  int64 [0 1] : 2 levels\n",
      "Partner :  int64 [1 0] : 2 levels\n",
      "Dependents :  int64 [0 1] : 2 levels\n",
      "PhoneService :  int64 [0 1] : 2 levels\n",
      "MultipleLines :  int64 [0 1] : 2 levels\n",
      "InternetService :  int64 [1 2 0] : 3 levels\n",
      "OnlineSecurity :  int64 [0 1] : 2 levels\n",
      "OnlineBackup :  int64 [1 0] : 2 levels\n",
      "DeviceProtection :  int64 [0 1] : 2 levels\n",
      "TechSupport :  int64 [0 1] : 2 levels\n",
      "StreamingTV :  int64 [0 1] : 2 levels\n",
      "StreamingMovies :  int64 [0 1] : 2 levels\n",
      "Contract :  int64 [0 1 2] : 3 levels\n",
      "PaperlessBilling :  int64 [1 0] : 2 levels\n",
      "PaymentMethod :  int64 [0 1 2 3] : 4 levels\n",
      "MonthlyCharges :  float64 [29.85 56.95 53.85 ... 63.1  44.2  78.7 ] : 1584 levels\n",
      "Tenure_Group :  int64 [0 2 1 4 3] : 5 levels\n",
      "Churn :  int64 [0 1] : 2 levels\n"
     ]
    }
   ],
   "source": [
    "col_info(df_enc)"
   ]
  },
  {
   "cell_type": "code",
   "execution_count": 40,
   "metadata": {},
   "outputs": [
    {
     "data": {
      "text/html": [
       "<div>\n",
       "<style scoped>\n",
       "    .dataframe tbody tr th:only-of-type {\n",
       "        vertical-align: middle;\n",
       "    }\n",
       "\n",
       "    .dataframe tbody tr th {\n",
       "        vertical-align: top;\n",
       "    }\n",
       "\n",
       "    .dataframe thead th {\n",
       "        text-align: right;\n",
       "    }\n",
       "</style>\n",
       "<table border=\"1\" class=\"dataframe\">\n",
       "  <thead>\n",
       "    <tr style=\"text-align: right;\">\n",
       "      <th></th>\n",
       "      <th>Gender</th>\n",
       "      <th>SeniorCitizen</th>\n",
       "      <th>Partner</th>\n",
       "      <th>Dependents</th>\n",
       "      <th>PhoneService</th>\n",
       "      <th>MultipleLines</th>\n",
       "      <th>InternetService</th>\n",
       "      <th>OnlineSecurity</th>\n",
       "      <th>OnlineBackup</th>\n",
       "      <th>DeviceProtection</th>\n",
       "      <th>TechSupport</th>\n",
       "      <th>StreamingTV</th>\n",
       "      <th>StreamingMovies</th>\n",
       "      <th>Contract</th>\n",
       "      <th>PaperlessBilling</th>\n",
       "      <th>PaymentMethod</th>\n",
       "      <th>MonthlyCharges</th>\n",
       "      <th>Tenure_Group</th>\n",
       "      <th>Churn</th>\n",
       "    </tr>\n",
       "  </thead>\n",
       "  <tbody>\n",
       "    <tr>\n",
       "      <th>0</th>\n",
       "      <td>0</td>\n",
       "      <td>0</td>\n",
       "      <td>1</td>\n",
       "      <td>0</td>\n",
       "      <td>0</td>\n",
       "      <td>0</td>\n",
       "      <td>1</td>\n",
       "      <td>0</td>\n",
       "      <td>1</td>\n",
       "      <td>0</td>\n",
       "      <td>0</td>\n",
       "      <td>0</td>\n",
       "      <td>0</td>\n",
       "      <td>0</td>\n",
       "      <td>1</td>\n",
       "      <td>0</td>\n",
       "      <td>29.85</td>\n",
       "      <td>0</td>\n",
       "      <td>0</td>\n",
       "    </tr>\n",
       "    <tr>\n",
       "      <th>1</th>\n",
       "      <td>1</td>\n",
       "      <td>0</td>\n",
       "      <td>0</td>\n",
       "      <td>0</td>\n",
       "      <td>1</td>\n",
       "      <td>0</td>\n",
       "      <td>1</td>\n",
       "      <td>1</td>\n",
       "      <td>0</td>\n",
       "      <td>1</td>\n",
       "      <td>0</td>\n",
       "      <td>0</td>\n",
       "      <td>0</td>\n",
       "      <td>1</td>\n",
       "      <td>0</td>\n",
       "      <td>1</td>\n",
       "      <td>56.95</td>\n",
       "      <td>2</td>\n",
       "      <td>0</td>\n",
       "    </tr>\n",
       "    <tr>\n",
       "      <th>2</th>\n",
       "      <td>1</td>\n",
       "      <td>0</td>\n",
       "      <td>0</td>\n",
       "      <td>0</td>\n",
       "      <td>1</td>\n",
       "      <td>0</td>\n",
       "      <td>1</td>\n",
       "      <td>1</td>\n",
       "      <td>1</td>\n",
       "      <td>0</td>\n",
       "      <td>0</td>\n",
       "      <td>0</td>\n",
       "      <td>0</td>\n",
       "      <td>0</td>\n",
       "      <td>1</td>\n",
       "      <td>1</td>\n",
       "      <td>53.85</td>\n",
       "      <td>0</td>\n",
       "      <td>1</td>\n",
       "    </tr>\n",
       "    <tr>\n",
       "      <th>3</th>\n",
       "      <td>1</td>\n",
       "      <td>0</td>\n",
       "      <td>0</td>\n",
       "      <td>0</td>\n",
       "      <td>0</td>\n",
       "      <td>0</td>\n",
       "      <td>1</td>\n",
       "      <td>1</td>\n",
       "      <td>0</td>\n",
       "      <td>1</td>\n",
       "      <td>1</td>\n",
       "      <td>0</td>\n",
       "      <td>0</td>\n",
       "      <td>1</td>\n",
       "      <td>0</td>\n",
       "      <td>2</td>\n",
       "      <td>42.30</td>\n",
       "      <td>2</td>\n",
       "      <td>0</td>\n",
       "    </tr>\n",
       "    <tr>\n",
       "      <th>4</th>\n",
       "      <td>0</td>\n",
       "      <td>0</td>\n",
       "      <td>0</td>\n",
       "      <td>0</td>\n",
       "      <td>1</td>\n",
       "      <td>0</td>\n",
       "      <td>2</td>\n",
       "      <td>0</td>\n",
       "      <td>0</td>\n",
       "      <td>0</td>\n",
       "      <td>0</td>\n",
       "      <td>0</td>\n",
       "      <td>0</td>\n",
       "      <td>0</td>\n",
       "      <td>1</td>\n",
       "      <td>0</td>\n",
       "      <td>70.70</td>\n",
       "      <td>0</td>\n",
       "      <td>1</td>\n",
       "    </tr>\n",
       "  </tbody>\n",
       "</table>\n",
       "</div>"
      ],
      "text/plain": [
       "   Gender  SeniorCitizen  Partner  Dependents  PhoneService  MultipleLines  \\\n",
       "0       0              0        1           0             0              0   \n",
       "1       1              0        0           0             1              0   \n",
       "2       1              0        0           0             1              0   \n",
       "3       1              0        0           0             0              0   \n",
       "4       0              0        0           0             1              0   \n",
       "\n",
       "   InternetService  OnlineSecurity  OnlineBackup  DeviceProtection  \\\n",
       "0                1               0             1                 0   \n",
       "1                1               1             0                 1   \n",
       "2                1               1             1                 0   \n",
       "3                1               1             0                 1   \n",
       "4                2               0             0                 0   \n",
       "\n",
       "   TechSupport  StreamingTV  StreamingMovies  Contract  PaperlessBilling  \\\n",
       "0            0            0                0         0                 1   \n",
       "1            0            0                0         1                 0   \n",
       "2            0            0                0         0                 1   \n",
       "3            1            0                0         1                 0   \n",
       "4            0            0                0         0                 1   \n",
       "\n",
       "   PaymentMethod  MonthlyCharges  Tenure_Group  Churn  \n",
       "0              0           29.85             0      0  \n",
       "1              1           56.95             2      0  \n",
       "2              1           53.85             0      1  \n",
       "3              2           42.30             2      0  \n",
       "4              0           70.70             0      1  "
      ]
     },
     "execution_count": 40,
     "metadata": {},
     "output_type": "execute_result"
    }
   ],
   "source": [
    "df_enc.head()"
   ]
  },
  {
   "cell_type": "markdown",
   "metadata": {},
   "source": [
    "### <font color='brown'>Retreiving Original Labels of Encoded Values</font>"
   ]
  },
  {
   "cell_type": "markdown",
   "metadata": {},
   "source": [
    "In order to use the original categorical labels for a column as axis tick labels in the plotting function, we'll have to create a function to retrieve the keys from the mapping dictionary used to encode the column in the <font color='brown'>Value Enconding</font> step. We'll retrieve the categorical labels for a column as a list and assign it the name of the column."
   ]
  },
  {
   "cell_type": "code",
   "execution_count": 41,
   "metadata": {},
   "outputs": [],
   "source": [
    "def get_col_labels(mapping):\n",
    "    labels = []\n",
    "    for key, value in mapping.items():\n",
    "        labels.append(key)\n",
    "    return labels"
   ]
  },
  {
   "cell_type": "code",
   "execution_count": 42,
   "metadata": {},
   "outputs": [],
   "source": [
    "column = \"Gender\"\n",
    "# We can use vars()[column] to create a variable with name equal to the\n",
    "# string \"Gender\" stored in the column variable\n",
    "vars()[column] = get_col_labels(mapping_F_M)"
   ]
  },
  {
   "cell_type": "markdown",
   "metadata": {},
   "source": [
    "We now have a variable named Gender which is a list of labels for the column \"Gender\"."
   ]
  },
  {
   "cell_type": "code",
   "execution_count": 43,
   "metadata": {},
   "outputs": [
    {
     "data": {
      "text/plain": [
       "['Female', 'Male']"
      ]
     },
     "execution_count": 43,
     "metadata": {},
     "output_type": "execute_result"
    }
   ],
   "source": [
    "Gender"
   ]
  },
  {
   "cell_type": "markdown",
   "metadata": {},
   "source": [
    "We'll do the same for the other columns as well."
   ]
  },
  {
   "cell_type": "code",
   "execution_count": 44,
   "metadata": {},
   "outputs": [],
   "source": [
    "column = \"InternetService\"\n",
    "vars()[column] = get_col_labels(mapping_No_DSL_Fio)"
   ]
  },
  {
   "cell_type": "code",
   "execution_count": 45,
   "metadata": {},
   "outputs": [],
   "source": [
    "column = \"Contract\"\n",
    "vars()[column] = get_col_labels(mapping_Cont)"
   ]
  },
  {
   "cell_type": "code",
   "execution_count": 46,
   "metadata": {},
   "outputs": [],
   "source": [
    "column = \"PaymentMethod\"\n",
    "vars()[column] = get_col_labels(mapping_PM)"
   ]
  },
  {
   "cell_type": "code",
   "execution_count": 47,
   "metadata": {},
   "outputs": [],
   "source": [
    "column = \"Tenure_Group\"\n",
    "vars()[column] = get_col_labels(mapping_TG)"
   ]
  },
  {
   "cell_type": "code",
   "execution_count": 48,
   "metadata": {},
   "outputs": [],
   "source": [
    "columns = [\"SeniorCitizen\", \"Partner\", \"Dependents\", \"PhoneService\", \\\n",
    "           \"MultipleLines\", \"OnlineSecurity\", \"OnlineBackup\", \\\n",
    "           \"DeviceProtection\", \"TechSupport\", \"StreamingTV\", \\\n",
    "           \"StreamingMovies\", \"PaperlessBilling\", \"Churn\"]\n",
    "for col in columns:\n",
    "    vars()[col] = get_col_labels(mapping_No_Yes)"
   ]
  },
  {
   "cell_type": "markdown",
   "metadata": {},
   "source": [
    "Now it's about time to create a percentage barplot function which can be called using a number of arguments."
   ]
  },
  {
   "cell_type": "code",
   "execution_count": 49,
   "metadata": {},
   "outputs": [],
   "source": [
    "def create_pc_barplot(data=df, columns=[], mapping=[], fig_size=(2,2), nrows=2, ncols=2, nplots=4, rotate=0, rowspace=0.2, colspace=0.3):\n",
    "    fig = plt.figure(figsize=fig_size)\n",
    "    for r in range(1, nplots+1):\n",
    "        ax = fig.add_subplot(nrows, ncols, r)\n",
    "        ax = sns.barplot(x=cols[r-1], y=cols[r-1], data=data, \\\n",
    "                         estimator=lambda x: len(x) / len(df) * 100)\n",
    "        sns.despine(left=True, bottom=True)\n",
    "        sns.set_style(\"whitegrid\")\n",
    "        ax.set_title(cols[r-1])\n",
    "        ax.set_xlabel(\"\")\n",
    "        ax.set_ylabel(\"\")\n",
    "        if (r%2 != 0):\n",
    "            ax.set_ylabel(\"percentage\")\n",
    "        ax.set_xticklabels(labels = map_cols[r-1], rotation=rotate)\n",
    "        plt.subplots_adjust(left=0.4, bottom=0.4, right=1.2, top=1.2,\n",
    "                    wspace=colspace, hspace=rowspace)"
   ]
  },
  {
   "cell_type": "markdown",
   "metadata": {},
   "source": [
    "Let's create the first four barplots."
   ]
  },
  {
   "cell_type": "code",
   "execution_count": 50,
   "metadata": {},
   "outputs": [
    {
     "data": {
      "image/png": "[encoded data removed]",
      "text/plain": [
       "<matplotlib.figure.Figure at 0x7fd1e628e860>"
      ]
     },
     "metadata": {},
     "output_type": "display_data"
    }
   ],
   "source": [
    "cols = [\"Gender\", \"SeniorCitizen\", \"Partner\", \"Dependents\"]\n",
    "# Let's create a list to which we'll add a list of labels for each column\n",
    "map_cols = [] # map_cols is a list of lists\n",
    "for col in cols:\n",
    "    map_cols.append(vars()[col])\n",
    "create_pc_barplot(df_enc, cols, map_cols, (9,9), 2, 2, 4)"
   ]
  },
  {
   "cell_type": "markdown",
   "metadata": {},
   "source": [
    "We can now clearly see that the proportion of male customers is equal to that of females customers. Around 17% of the customers are Senior Citizens whereas around 30% of the customers have Dependents."
   ]
  },
  {
   "cell_type": "code",
   "execution_count": 51,
   "metadata": {},
   "outputs": [
    {
     "data": {
      "image/png": "[encoded data removed]",
      "text/plain": [
       "<matplotlib.figure.Figure at 0x7fd1e619f128>"
      ]
     },
     "metadata": {},
     "output_type": "display_data"
    }
   ],
   "source": [
    "cols = [\"PhoneService\", \"MultipleLines\", \"InternetService\", \\\n",
    "        \"OnlineSecurity\"]\n",
    "map_cols = []\n",
    "for col in cols:\n",
    "    map_cols.append(vars()[col])\n",
    "create_pc_barplot(df_enc, cols, map_cols, (9,9), 2, 2, 4)"
   ]
  },
  {
   "cell_type": "code",
   "execution_count": 52,
   "metadata": {},
   "outputs": [
    {
     "data": {
      "image/png": "[encoded data removed]",
      "text/plain": [
       "<matplotlib.figure.Figure at 0x7fd1e60b6320>"
      ]
     },
     "metadata": {},
     "output_type": "display_data"
    }
   ],
   "source": [
    "cols = [\"OnlineBackup\", \"DeviceProtection\", \"TechSupport\", \\\n",
    "        \"StreamingTV\"]\n",
    "map_cols = []\n",
    "for col in cols:\n",
    "    map_cols.append(vars()[col])\n",
    "create_pc_barplot(df_enc, cols, map_cols, (9,9), 2, 2, 4)"
   ]
  },
  {
   "cell_type": "code",
   "execution_count": 53,
   "metadata": {},
   "outputs": [
    {
     "data": {
      "image/png": "[encoded data removed]",
      "text/plain": [
       "<matplotlib.figure.Figure at 0x7fd1e5e7cc50>"
      ]
     },
     "metadata": {},
     "output_type": "display_data"
    }
   ],
   "source": [
    "cols = [\"StreamingMovies\", \"Contract\", \"PaperlessBilling\", \\\n",
    "        \"Tenure_Group\", \"PaymentMethod\", \"Churn\"]\n",
    "map_cols = []\n",
    "for col in cols:\n",
    "    map_cols.append(vars()[col])\n",
    "create_pc_barplot(df_enc, cols, map_cols, (10,10), 3, 2, 6, 90, 1.2, 0.3)"
   ]
  },
  {
   "cell_type": "markdown",
   "metadata": {},
   "source": [
    "All of the categorical variables seem to have a fairly balanced distribution, therefore, all of them will be kept for the further analysis."
   ]
  },
  {
   "cell_type": "markdown",
   "metadata": {},
   "source": [
    "# Machine Learning"
   ]
  },
  {
   "cell_type": "markdown",
   "metadata": {},
   "source": [
    "Now it's time to learn concept descriptions from our dataset so that we may be able to distinguish examples of one class (Churn = \"No\") from those of another (Churn = \"Yes\"). Once we've learnt from our historical data, we should be able to predict whether a new (previously unseen) customer will Churn or not."
   ]
  },
  {
   "cell_type": "markdown",
   "metadata": {},
   "source": [
    "## Logistic Regression"
   ]
  },
  {
   "cell_type": "markdown",
   "metadata": {},
   "source": [
    "### <font color='brown'>Creating Dummy Variables</font>"
   ]
  },
  {
   "cell_type": "code",
   "execution_count": 54,
   "metadata": {},
   "outputs": [
    {
     "data": {
      "text/html": [
       "<div>\n",
       "<style scoped>\n",
       "    .dataframe tbody tr th:only-of-type {\n",
       "        vertical-align: middle;\n",
       "    }\n",
       "\n",
       "    .dataframe tbody tr th {\n",
       "        vertical-align: top;\n",
       "    }\n",
       "\n",
       "    .dataframe thead th {\n",
       "        text-align: right;\n",
       "    }\n",
       "</style>\n",
       "<table border=\"1\" class=\"dataframe\">\n",
       "  <thead>\n",
       "    <tr style=\"text-align: right;\">\n",
       "      <th></th>\n",
       "      <th>Gender</th>\n",
       "      <th>SeniorCitizen</th>\n",
       "      <th>Partner</th>\n",
       "      <th>Dependents</th>\n",
       "      <th>PhoneService</th>\n",
       "      <th>MultipleLines</th>\n",
       "      <th>InternetService</th>\n",
       "      <th>OnlineSecurity</th>\n",
       "      <th>OnlineBackup</th>\n",
       "      <th>DeviceProtection</th>\n",
       "      <th>TechSupport</th>\n",
       "      <th>StreamingTV</th>\n",
       "      <th>StreamingMovies</th>\n",
       "      <th>Contract</th>\n",
       "      <th>PaperlessBilling</th>\n",
       "      <th>PaymentMethod</th>\n",
       "      <th>MonthlyCharges</th>\n",
       "      <th>Tenure_Group</th>\n",
       "      <th>Churn</th>\n",
       "    </tr>\n",
       "  </thead>\n",
       "  <tbody>\n",
       "    <tr>\n",
       "      <th>0</th>\n",
       "      <td>Female</td>\n",
       "      <td>No</td>\n",
       "      <td>Yes</td>\n",
       "      <td>No</td>\n",
       "      <td>No</td>\n",
       "      <td>No</td>\n",
       "      <td>DSL</td>\n",
       "      <td>No</td>\n",
       "      <td>Yes</td>\n",
       "      <td>No</td>\n",
       "      <td>No</td>\n",
       "      <td>No</td>\n",
       "      <td>No</td>\n",
       "      <td>Month-to-month</td>\n",
       "      <td>Yes</td>\n",
       "      <td>Electronic check</td>\n",
       "      <td>29.85</td>\n",
       "      <td>&lt;= 1 Year</td>\n",
       "      <td>No</td>\n",
       "    </tr>\n",
       "    <tr>\n",
       "      <th>1</th>\n",
       "      <td>Male</td>\n",
       "      <td>No</td>\n",
       "      <td>No</td>\n",
       "      <td>No</td>\n",
       "      <td>Yes</td>\n",
       "      <td>No</td>\n",
       "      <td>DSL</td>\n",
       "      <td>Yes</td>\n",
       "      <td>No</td>\n",
       "      <td>Yes</td>\n",
       "      <td>No</td>\n",
       "      <td>No</td>\n",
       "      <td>No</td>\n",
       "      <td>One year</td>\n",
       "      <td>No</td>\n",
       "      <td>Mailed check</td>\n",
       "      <td>56.95</td>\n",
       "      <td>2-4 Years</td>\n",
       "      <td>No</td>\n",
       "    </tr>\n",
       "    <tr>\n",
       "      <th>2</th>\n",
       "      <td>Male</td>\n",
       "      <td>No</td>\n",
       "      <td>No</td>\n",
       "      <td>No</td>\n",
       "      <td>Yes</td>\n",
       "      <td>No</td>\n",
       "      <td>DSL</td>\n",
       "      <td>Yes</td>\n",
       "      <td>Yes</td>\n",
       "      <td>No</td>\n",
       "      <td>No</td>\n",
       "      <td>No</td>\n",
       "      <td>No</td>\n",
       "      <td>Month-to-month</td>\n",
       "      <td>Yes</td>\n",
       "      <td>Mailed check</td>\n",
       "      <td>53.85</td>\n",
       "      <td>&lt;= 1 Year</td>\n",
       "      <td>Yes</td>\n",
       "    </tr>\n",
       "    <tr>\n",
       "      <th>3</th>\n",
       "      <td>Male</td>\n",
       "      <td>No</td>\n",
       "      <td>No</td>\n",
       "      <td>No</td>\n",
       "      <td>No</td>\n",
       "      <td>No</td>\n",
       "      <td>DSL</td>\n",
       "      <td>Yes</td>\n",
       "      <td>No</td>\n",
       "      <td>Yes</td>\n",
       "      <td>Yes</td>\n",
       "      <td>No</td>\n",
       "      <td>No</td>\n",
       "      <td>One year</td>\n",
       "      <td>No</td>\n",
       "      <td>Bank transfer (automatic)</td>\n",
       "      <td>42.30</td>\n",
       "      <td>2-4 Years</td>\n",
       "      <td>No</td>\n",
       "    </tr>\n",
       "    <tr>\n",
       "      <th>4</th>\n",
       "      <td>Female</td>\n",
       "      <td>No</td>\n",
       "      <td>No</td>\n",
       "      <td>No</td>\n",
       "      <td>Yes</td>\n",
       "      <td>No</td>\n",
       "      <td>Fiber optic</td>\n",
       "      <td>No</td>\n",
       "      <td>No</td>\n",
       "      <td>No</td>\n",
       "      <td>No</td>\n",
       "      <td>No</td>\n",
       "      <td>No</td>\n",
       "      <td>Month-to-month</td>\n",
       "      <td>Yes</td>\n",
       "      <td>Electronic check</td>\n",
       "      <td>70.70</td>\n",
       "      <td>&lt;= 1 Year</td>\n",
       "      <td>Yes</td>\n",
       "    </tr>\n",
       "  </tbody>\n",
       "</table>\n",
       "</div>"
      ],
      "text/plain": [
       "   Gender SeniorCitizen Partner Dependents PhoneService MultipleLines  \\\n",
       "0  Female            No     Yes         No           No            No   \n",
       "1    Male            No      No         No          Yes            No   \n",
       "2    Male            No      No         No          Yes            No   \n",
       "3    Male            No      No         No           No            No   \n",
       "4  Female            No      No         No          Yes            No   \n",
       "\n",
       "  InternetService OnlineSecurity OnlineBackup DeviceProtection TechSupport  \\\n",
       "0             DSL             No          Yes               No          No   \n",
       "1             DSL            Yes           No              Yes          No   \n",
       "2             DSL            Yes          Yes               No          No   \n",
       "3             DSL            Yes           No              Yes         Yes   \n",
       "4     Fiber optic             No           No               No          No   \n",
       "\n",
       "  StreamingTV StreamingMovies        Contract PaperlessBilling  \\\n",
       "0          No              No  Month-to-month              Yes   \n",
       "1          No              No        One year               No   \n",
       "2          No              No  Month-to-month              Yes   \n",
       "3          No              No        One year               No   \n",
       "4          No              No  Month-to-month              Yes   \n",
       "\n",
       "               PaymentMethod  MonthlyCharges Tenure_Group Churn  \n",
       "0           Electronic check           29.85    <= 1 Year    No  \n",
       "1               Mailed check           56.95    2-4 Years    No  \n",
       "2               Mailed check           53.85    <= 1 Year   Yes  \n",
       "3  Bank transfer (automatic)           42.30    2-4 Years    No  \n",
       "4           Electronic check           70.70    <= 1 Year   Yes  "
      ]
     },
     "execution_count": 54,
     "metadata": {},
     "output_type": "execute_result"
    }
   ],
   "source": [
    "df.head()"
   ]
  },
  {
   "cell_type": "code",
   "execution_count": 55,
   "metadata": {},
   "outputs": [],
   "source": [
    "cols = [\"Gender\", \"SeniorCitizen\", \"Partner\", \"Dependents\", \\\n",
    "        \"PhoneService\", \"MultipleLines\", \"InternetService\", \\\n",
    "        \"OnlineSecurity\", \"OnlineBackup\", \"DeviceProtection\", \\\n",
    "        \"TechSupport\", \"StreamingTV\", \"StreamingMovies\", \"Contract\", \\\n",
    "        \"PaperlessBilling\", \"PaymentMethod\", \"Tenure_Group\"]\n",
    "df_dummy = pd.get_dummies(df, columns=cols, drop_first=True)"
   ]
  },
  {
   "cell_type": "code",
   "execution_count": 56,
   "metadata": {},
   "outputs": [
    {
     "data": {
      "text/html": [
       "<div>\n",
       "<style scoped>\n",
       "    .dataframe tbody tr th:only-of-type {\n",
       "        vertical-align: middle;\n",
       "    }\n",
       "\n",
       "    .dataframe tbody tr th {\n",
       "        vertical-align: top;\n",
       "    }\n",
       "\n",
       "    .dataframe thead th {\n",
       "        text-align: right;\n",
       "    }\n",
       "</style>\n",
       "<table border=\"1\" class=\"dataframe\">\n",
       "  <thead>\n",
       "    <tr style=\"text-align: right;\">\n",
       "      <th></th>\n",
       "      <th>MonthlyCharges</th>\n",
       "      <th>Churn</th>\n",
       "      <th>Gender_Male</th>\n",
       "      <th>SeniorCitizen_Yes</th>\n",
       "      <th>Partner_Yes</th>\n",
       "      <th>Dependents_Yes</th>\n",
       "      <th>PhoneService_Yes</th>\n",
       "      <th>MultipleLines_Yes</th>\n",
       "      <th>InternetService_Fiber optic</th>\n",
       "      <th>InternetService_No</th>\n",
       "      <th>...</th>\n",
       "      <th>Contract_One year</th>\n",
       "      <th>Contract_Two year</th>\n",
       "      <th>PaperlessBilling_Yes</th>\n",
       "      <th>PaymentMethod_Credit card (automatic)</th>\n",
       "      <th>PaymentMethod_Electronic check</th>\n",
       "      <th>PaymentMethod_Mailed check</th>\n",
       "      <th>Tenure_Group_2-4 Years</th>\n",
       "      <th>Tenure_Group_4-5 Years</th>\n",
       "      <th>Tenure_Group_&lt;= 1 Year</th>\n",
       "      <th>Tenure_Group_&gt; 5 Years</th>\n",
       "    </tr>\n",
       "  </thead>\n",
       "  <tbody>\n",
       "    <tr>\n",
       "      <th>0</th>\n",
       "      <td>29.85</td>\n",
       "      <td>No</td>\n",
       "      <td>0</td>\n",
       "      <td>0</td>\n",
       "      <td>1</td>\n",
       "      <td>0</td>\n",
       "      <td>0</td>\n",
       "      <td>0</td>\n",
       "      <td>0</td>\n",
       "      <td>0</td>\n",
       "      <td>...</td>\n",
       "      <td>0</td>\n",
       "      <td>0</td>\n",
       "      <td>1</td>\n",
       "      <td>0</td>\n",
       "      <td>1</td>\n",
       "      <td>0</td>\n",
       "      <td>0</td>\n",
       "      <td>0</td>\n",
       "      <td>1</td>\n",
       "      <td>0</td>\n",
       "    </tr>\n",
       "    <tr>\n",
       "      <th>1</th>\n",
       "      <td>56.95</td>\n",
       "      <td>No</td>\n",
       "      <td>1</td>\n",
       "      <td>0</td>\n",
       "      <td>0</td>\n",
       "      <td>0</td>\n",
       "      <td>1</td>\n",
       "      <td>0</td>\n",
       "      <td>0</td>\n",
       "      <td>0</td>\n",
       "      <td>...</td>\n",
       "      <td>1</td>\n",
       "      <td>0</td>\n",
       "      <td>0</td>\n",
       "      <td>0</td>\n",
       "      <td>0</td>\n",
       "      <td>1</td>\n",
       "      <td>1</td>\n",
       "      <td>0</td>\n",
       "      <td>0</td>\n",
       "      <td>0</td>\n",
       "    </tr>\n",
       "    <tr>\n",
       "      <th>2</th>\n",
       "      <td>53.85</td>\n",
       "      <td>Yes</td>\n",
       "      <td>1</td>\n",
       "      <td>0</td>\n",
       "      <td>0</td>\n",
       "      <td>0</td>\n",
       "      <td>1</td>\n",
       "      <td>0</td>\n",
       "      <td>0</td>\n",
       "      <td>0</td>\n",
       "      <td>...</td>\n",
       "      <td>0</td>\n",
       "      <td>0</td>\n",
       "      <td>1</td>\n",
       "      <td>0</td>\n",
       "      <td>0</td>\n",
       "      <td>1</td>\n",
       "      <td>0</td>\n",
       "      <td>0</td>\n",
       "      <td>1</td>\n",
       "      <td>0</td>\n",
       "    </tr>\n",
       "    <tr>\n",
       "      <th>3</th>\n",
       "      <td>42.30</td>\n",
       "      <td>No</td>\n",
       "      <td>1</td>\n",
       "      <td>0</td>\n",
       "      <td>0</td>\n",
       "      <td>0</td>\n",
       "      <td>0</td>\n",
       "      <td>0</td>\n",
       "      <td>0</td>\n",
       "      <td>0</td>\n",
       "      <td>...</td>\n",
       "      <td>1</td>\n",
       "      <td>0</td>\n",
       "      <td>0</td>\n",
       "      <td>0</td>\n",
       "      <td>0</td>\n",
       "      <td>0</td>\n",
       "      <td>1</td>\n",
       "      <td>0</td>\n",
       "      <td>0</td>\n",
       "      <td>0</td>\n",
       "    </tr>\n",
       "    <tr>\n",
       "      <th>4</th>\n",
       "      <td>70.70</td>\n",
       "      <td>Yes</td>\n",
       "      <td>0</td>\n",
       "      <td>0</td>\n",
       "      <td>0</td>\n",
       "      <td>0</td>\n",
       "      <td>1</td>\n",
       "      <td>0</td>\n",
       "      <td>1</td>\n",
       "      <td>0</td>\n",
       "      <td>...</td>\n",
       "      <td>0</td>\n",
       "      <td>0</td>\n",
       "      <td>1</td>\n",
       "      <td>0</td>\n",
       "      <td>1</td>\n",
       "      <td>0</td>\n",
       "      <td>0</td>\n",
       "      <td>0</td>\n",
       "      <td>1</td>\n",
       "      <td>0</td>\n",
       "    </tr>\n",
       "  </tbody>\n",
       "</table>\n",
       "<p>5 rows × 26 columns</p>\n",
       "</div>"
      ],
      "text/plain": [
       "   MonthlyCharges Churn  Gender_Male  SeniorCitizen_Yes  Partner_Yes  \\\n",
       "0           29.85    No            0                  0            1   \n",
       "1           56.95    No            1                  0            0   \n",
       "2           53.85   Yes            1                  0            0   \n",
       "3           42.30    No            1                  0            0   \n",
       "4           70.70   Yes            0                  0            0   \n",
       "\n",
       "   Dependents_Yes  PhoneService_Yes  MultipleLines_Yes  \\\n",
       "0               0                 0                  0   \n",
       "1               0                 1                  0   \n",
       "2               0                 1                  0   \n",
       "3               0                 0                  0   \n",
       "4               0                 1                  0   \n",
       "\n",
       "   InternetService_Fiber optic  InternetService_No           ...            \\\n",
       "0                            0                   0           ...             \n",
       "1                            0                   0           ...             \n",
       "2                            0                   0           ...             \n",
       "3                            0                   0           ...             \n",
       "4                            1                   0           ...             \n",
       "\n",
       "   Contract_One year  Contract_Two year  PaperlessBilling_Yes  \\\n",
       "0                  0                  0                     1   \n",
       "1                  1                  0                     0   \n",
       "2                  0                  0                     1   \n",
       "3                  1                  0                     0   \n",
       "4                  0                  0                     1   \n",
       "\n",
       "   PaymentMethod_Credit card (automatic)  PaymentMethod_Electronic check  \\\n",
       "0                                      0                               1   \n",
       "1                                      0                               0   \n",
       "2                                      0                               0   \n",
       "3                                      0                               0   \n",
       "4                                      0                               1   \n",
       "\n",
       "   PaymentMethod_Mailed check  Tenure_Group_2-4 Years  Tenure_Group_4-5 Years  \\\n",
       "0                           0                       0                       0   \n",
       "1                           1                       1                       0   \n",
       "2                           1                       0                       0   \n",
       "3                           0                       1                       0   \n",
       "4                           0                       0                       0   \n",
       "\n",
       "   Tenure_Group_<= 1 Year  Tenure_Group_> 5 Years  \n",
       "0                       1                       0  \n",
       "1                       0                       0  \n",
       "2                       1                       0  \n",
       "3                       0                       0  \n",
       "4                       1                       0  \n",
       "\n",
       "[5 rows x 26 columns]"
      ]
     },
     "execution_count": 56,
     "metadata": {},
     "output_type": "execute_result"
    }
   ],
   "source": [
    "df_dummy.head()"
   ]
  },
  {
   "cell_type": "markdown",
   "metadata": {},
   "source": [
    "### <font color='brown'>Checking Independence between Predictors</font>"
   ]
  },
  {
   "cell_type": "code",
   "execution_count": 57,
   "metadata": {},
   "outputs": [
    {
     "data": {
      "text/plain": [
       "<matplotlib.axes._subplots.AxesSubplot at 0x7fd1e605b5f8>"
      ]
     },
     "execution_count": 57,
     "metadata": {},
     "output_type": "execute_result"
    },
    {
     "data": {
      "image/png": "[encoded data removed]",
      "text/plain": [
       "<matplotlib.figure.Figure at 0x7fd1e5aa7208>"
      ]
     },
     "metadata": {},
     "output_type": "display_data"
    }
   ],
   "source": [
    "fig, ax = plt.subplots(figsize=(8,6))\n",
    "sns.heatmap(df_dummy.corr(), cmap='RdYlGn')"
   ]
  },
  {
   "cell_type": "markdown",
   "metadata": {},
   "source": [
    "The diagonal in the middle shows that each categorical predictor is only strongly dependent on itself and is almost independent of the other categorical predictors. So everything looks good."
   ]
  },
  {
   "cell_type": "markdown",
   "metadata": {},
   "source": [
    "### <font color='brown'>Separating the Predictors from Response</font>"
   ]
  },
  {
   "cell_type": "markdown",
   "metadata": {},
   "source": [
    "We'll have to create two dataframes now, one containing all the predictors and the other containing only the response. This is necessary before we can proceed with the learning phase. The custom of choosing a capital letter for the predictors dataframe and a small case letter for the response dataframe will be maintained."
   ]
  },
  {
   "cell_type": "code",
   "execution_count": 58,
   "metadata": {},
   "outputs": [
    {
     "name": "stdout",
     "output_type": "stream",
     "text": [
      "X shape: (7032, 25) \n",
      "y shape: (7032,)\n"
     ]
    }
   ],
   "source": [
    "X = df_dummy.drop(\"Churn\", axis=1)\n",
    "y = df_dummy[\"Churn\"]\n",
    "print(\"X shape: {}\".format(X.shape), \"\\ny shape: {}\".format(y.shape))"
   ]
  },
  {
   "cell_type": "markdown",
   "metadata": {},
   "source": [
    "### <font color='brown'>Splitting the Data randomly into a Training and Test Set</font>"
   ]
  },
  {
   "cell_type": "markdown",
   "metadata": {},
   "source": [
    "Let's split our dataset into a randomly selected training set which includes 70% of rows in our dataset and a test set which includes the remaining 30%."
   ]
  },
  {
   "cell_type": "code",
   "execution_count": 59,
   "metadata": {},
   "outputs": [],
   "source": [
    "from sklearn.model_selection import train_test_split"
   ]
  },
  {
   "cell_type": "code",
   "execution_count": 60,
   "metadata": {},
   "outputs": [],
   "source": [
    "X_train, X_test, y_train, y_test = train_test_split(X, y, test_size=0.3)"
   ]
  },
  {
   "cell_type": "code",
   "execution_count": 61,
   "metadata": {},
   "outputs": [
    {
     "name": "stdout",
     "output_type": "stream",
     "text": [
      "X_train shape: (4922, 25) , X_test shape: (2110, 25)\n",
      "y_train shape: (4922,) ,    y_test shape: (2110,)\n"
     ]
    }
   ],
   "source": [
    "print(\"X_train shape: {}\".format(X_train.shape), \", X_test shape: {}\".format(X_test.shape))\n",
    "print(\"y_train shape: {}\".format(y_train.shape), \",    y_test shape: {}\".format(y_test.shape))"
   ]
  },
  {
   "cell_type": "markdown",
   "metadata": {},
   "source": [
    "### <font color='brown'>1- The Initial Logistic Regression Model</font>"
   ]
  },
  {
   "cell_type": "code",
   "execution_count": 62,
   "metadata": {},
   "outputs": [],
   "source": [
    "from sklearn.linear_model import LogisticRegression\n",
    "LRModel = LogisticRegression()"
   ]
  },
  {
   "cell_type": "markdown",
   "metadata": {},
   "source": [
    "#### <font color='brown'>1.1- Model Fitting and Evaluation using single Test set</font>"
   ]
  },
  {
   "cell_type": "code",
   "execution_count": 63,
   "metadata": {},
   "outputs": [],
   "source": [
    "from sklearn.metrics import classification_report, confusion_matrix"
   ]
  },
  {
   "cell_type": "code",
   "execution_count": 64,
   "metadata": {},
   "outputs": [
    {
     "name": "stdout",
     "output_type": "stream",
     "text": [
      "[[1433  122]\n",
      " [ 298  257]]\n",
      "\n",
      "\n",
      "             precision    recall  f1-score   support\n",
      "\n",
      "         No       0.83      0.92      0.87      1555\n",
      "        Yes       0.68      0.46      0.55       555\n",
      "\n",
      "avg / total       0.79      0.80      0.79      2110\n",
      "\n"
     ]
    }
   ],
   "source": [
    "LRModel.fit(X_train, y_train)\n",
    "predictions = LRModel.predict(X_test)\n",
    "print(confusion_matrix(y_test, predictions))\n",
    "print('\\n')\n",
    "print(classification_report(y_test, predictions))"
   ]
  },
  {
   "cell_type": "markdown",
   "metadata": {},
   "source": [
    "#### <font color='brown'>1.2- Model Fitting and Evaluation using Cross-validation</font>"
   ]
  },
  {
   "cell_type": "markdown",
   "metadata": {},
   "source": [
    "Cross-validation is a statistical method of evaluating generalization performance that is more stable and thorough than using a single split into a training and testing set. In cross-validation, the data is instead split repeatedly and multiple models are trained. The most commonly used version of cross-validation is 10-fold cross-validation. The function cross_val_score() takes care of splitting the data, so we only need to provide it with the dataframes X and y."
   ]
  },
  {
   "cell_type": "code",
   "execution_count": 65,
   "metadata": {},
   "outputs": [
    {
     "name": "stdout",
     "output_type": "stream",
     "text": [
      "Cross-validation scores on individual folds:\n",
      "[0.792614, 0.8125, 0.795455, 0.813656, 0.783784, 0.783784, 0.812233, 0.807966, 0.798009, 0.807692]\n",
      "\n",
      "Cross-validation mean score: 0.800769\n"
     ]
    }
   ],
   "source": [
    "from sklearn.model_selection import cross_val_score\n",
    "\n",
    "scores = cross_val_score(LRModel, X, y, cv=10)\n",
    "print(\"Cross-validation scores on individual folds:\\n{}\".format(list(scores.round(6))))\n",
    "print(\"\\nCross-validation mean score: {}\".format(scores.mean().round(6)))"
   ]
  },
  {
   "cell_type": "markdown",
   "metadata": {},
   "source": [
    "### <font color='brown'>2- Improving the Model using Feature Selection</font>"
   ]
  },
  {
   "cell_type": "markdown",
   "metadata": {},
   "source": [
    "Now let's try to select the most relevant and predictive features while dropping those that are less relevant and therefore either don't help in improving accuracy or deteriorate the accuracy by adding noise to the data. We'll try to select features that help us improve upon the accuracy of the base model above."
   ]
  },
  {
   "cell_type": "markdown",
   "metadata": {},
   "source": [
    "#### <font color='brown'>2.1- Recursive Feature Elimination (RFE)</font>"
   ]
  },
  {
   "cell_type": "markdown",
   "metadata": {},
   "source": [
    "Recursive Feature Elimination (RFE) is an iterative feature selection method, which builds a series of models with varying numbers of features. RFE starts with all features, builds a model, and discards the least important feature according to the model. Then a new model is built using all but the discarded feature, and so on until only a prespecified number of features are left. Although it's impossible to come up with the right number of predictors using random guessing, let's say we instruct the RFE model to select the best 15 features."
   ]
  },
  {
   "cell_type": "code",
   "execution_count": 66,
   "metadata": {},
   "outputs": [
    {
     "name": "stdout",
     "output_type": "stream",
     "text": [
      "[False False False False False  True  True  True  True  True False False\n",
      "  True False  True  True  True  True False  True False  True  True  True\n",
      "  True]\n"
     ]
    },
    {
     "data": {
      "text/plain": [
       "([], <a list of 0 Text yticklabel objects>)"
      ]
     },
     "execution_count": 66,
     "metadata": {},
     "output_type": "execute_result"
    },
    {
     "data": {
      "image/png": "[encoded data removed]",
      "text/plain": [
       "<matplotlib.figure.Figure at 0x7fd1e62a2358>"
      ]
     },
     "metadata": {},
     "output_type": "display_data"
    }
   ],
   "source": [
    "from sklearn.feature_selection import RFE\n",
    "\n",
    "select = RFE(LRModel, n_features_to_select=15)\n",
    "select.fit(X_train, y_train)\n",
    "# visualize the selected features:\n",
    "mask = select.get_support()\n",
    "print(mask)\n",
    "plt.matshow(mask.reshape(1, -1), cmap='gray_r')\n",
    "plt.xlabel(\"Sample index\")\n",
    "plt.yticks([])"
   ]
  },
  {
   "cell_type": "code",
   "execution_count": 67,
   "metadata": {},
   "outputs": [],
   "source": [
    "X_train_rfe, X_test_rfe = X_train.loc[:,mask], X_test.loc[:,mask]"
   ]
  },
  {
   "cell_type": "code",
   "execution_count": 68,
   "metadata": {},
   "outputs": [
    {
     "name": "stdout",
     "output_type": "stream",
     "text": [
      "X_train_rfe shape: (4922, 15) , X_test_rfe shape: (2110, 15)\n"
     ]
    }
   ],
   "source": [
    "print(\"X_train_rfe shape: {}\".format(X_train_rfe.shape), \", X_test_rfe shape: {}\".format(X_test_rfe.shape))"
   ]
  },
  {
   "cell_type": "markdown",
   "metadata": {},
   "source": [
    "#### <font color='brown'>2.2- Model Fitting and Evaluation using Cross-validation</font>"
   ]
  },
  {
   "cell_type": "code",
   "execution_count": 69,
   "metadata": {},
   "outputs": [
    {
     "name": "stdout",
     "output_type": "stream",
     "text": [
      "Cross-validation scores on individual folds:\n",
      "[0.803977, 0.809659, 0.789773, 0.809388, 0.783784, 0.783784, 0.816501, 0.800853, 0.802276, 0.801994]\n",
      "\n",
      "Cross-validation mean score: 0.800199\n"
     ]
    }
   ],
   "source": [
    "X_rfe = X.loc[:,mask]\n",
    "scores = cross_val_score(LRModel, X_rfe, y, cv=10)\n",
    "print(\"Cross-validation scores on individual folds:\\n{}\".format(list(scores.round(6))))\n",
    "print(\"\\nCross-validation mean score: {}\".format(scores.mean().round(6)))"
   ]
  },
  {
   "cell_type": "markdown",
   "metadata": {},
   "source": [
    "#### <font color='brown'>2.3- RFE in combination with Cross-validation for Feature Ranking (RFECV)</font>"
   ]
  },
  {
   "cell_type": "markdown",
   "metadata": {},
   "source": [
    "Instead of guessing at the right number of features to select, we can use the function RFECV which performs RFE in a cross-validation loop to find the optimal number of features automatically."
   ]
  },
  {
   "cell_type": "code",
   "execution_count": 70,
   "metadata": {
    "scrolled": false
   },
   "outputs": [],
   "source": [
    "def RFECV_select_features(model):\n",
    "    from sklearn.feature_selection import RFECV\n",
    "    # Create the RFE object and compute a cross-validated score.\n",
    "    # The \"accuracy\" scoring is proportional to the number of correct classifications\n",
    "    select = RFECV(estimator=model, step=1, cv=10, scoring='accuracy')\n",
    "    select.fit(X, y)\n",
    "\n",
    "    # visualize the selected features:\n",
    "    global mask\n",
    "    mask = select.get_support()\n",
    "    print(mask)\n",
    "    plt.matshow(mask.reshape(1, -1), cmap='gray_r')\n",
    "    plt.xlabel(\"Sample index\")\n",
    "    plt.yticks([])\n",
    "    plt.show()\n",
    "\n",
    "    # visualize # of features selected vs cross-validation accuracy:\n",
    "    print(\"Legend: \\\"black\\\" = features selected, \\\"white\\\" = not selected\\n\")\n",
    "    print(\"Optimal number of features: {:d}\" .format(select.n_features_))\n",
    "    print(\"\\nNumber of features selected and corresponding accuracy is shown below and depicted in the plot:\\n\")\n",
    "    f_score_dict = {}\n",
    "    for f in range(0, len(select.grid_scores_)):\n",
    "        f_score_dict[f+1] = select.grid_scores_[f].round(4)\n",
    "    print(f_score_dict)\n",
    "\n",
    "    # Plot number of features VS. cross-validation scores\n",
    "    plt.figure(figsize=(10,6))\n",
    "    plt.xlabel(\"Number of features selected\")\n",
    "    plt.ylabel(\"Cross validation accuracy\")\n",
    "    plt.plot(range(1, len(select.grid_scores_) + 1), select.grid_scores_)\n",
    "    plt.show()"
   ]
  },
  {
   "cell_type": "code",
   "execution_count": 71,
   "metadata": {},
   "outputs": [
    {
     "data": {
      "text/plain": [
       "numpy.ndarray"
      ]
     },
     "execution_count": 71,
     "metadata": {},
     "output_type": "execute_result"
    }
   ],
   "source": [
    "type(mask)"
   ]
  },
  {
   "cell_type": "code",
   "execution_count": 72,
   "metadata": {},
   "outputs": [
    {
     "name": "stdout",
     "output_type": "stream",
     "text": [
      "[False False  True  True  True  True  True  True  True  True  True False\n",
      "  True  True  True  True  True  True  True  True False  True  True  True\n",
      "  True]\n"
     ]
    },
    {
     "data": {
      "image/png": "[encoded data removed]",
      "text/plain": [
       "<matplotlib.figure.Figure at 0x7fd1e62bd8d0>"
      ]
     },
     "metadata": {},
     "output_type": "display_data"
    },
    {
     "name": "stdout",
     "output_type": "stream",
     "text": [
      "Legend: \"black\" = features selected, \"white\" = not selected\n",
      "\n",
      "Optimal number of features: 21\n",
      "\n",
      "Number of features selected and corresponding accuracy is shown below and depicted in the plot:\n",
      "\n",
      "{1: 0.7342, 2: 0.7342, 3: 0.7621, 4: 0.7868, 5: 0.7868, 6: 0.7861, 7: 0.7911, 8: 0.7917, 9: 0.7945, 10: 0.7954, 11: 0.7956, 12: 0.7941, 13: 0.7929, 14: 0.7949, 15: 0.7976, 16: 0.7976, 17: 0.7986, 18: 0.8001, 19: 0.8003, 20: 0.7999, 21: 0.8013, 22: 0.8008, 23: 0.8009, 24: 0.8011, 25: 0.8008}\n"
     ]
    },
    {
     "data": {
      "image/png": "[encoded data removed]",
      "text/plain": [
       "<matplotlib.figure.Figure at 0x7fd1e5fdf630>"
      ]
     },
     "metadata": {},
     "output_type": "display_data"
    }
   ],
   "source": [
    "RFECV_select_features(LRModel)"
   ]
  },
  {
   "cell_type": "markdown",
   "metadata": {},
   "source": [
    "#### <font color='brown'>2.4- Model Fitting and Evaluation using Cross-validation</font>"
   ]
  },
  {
   "cell_type": "code",
   "execution_count": 73,
   "metadata": {},
   "outputs": [
    {
     "name": "stdout",
     "output_type": "stream",
     "text": [
      "Cross-validation scores on individual folds:\n",
      "[0.792614, 0.8125, 0.795455, 0.813656, 0.783784, 0.782361, 0.812233, 0.805121, 0.796586, 0.809117]\n",
      "\n",
      "Cross-validation mean score: 0.800343\n"
     ]
    }
   ],
   "source": [
    "X_rfecv = X.loc[:,mask]\n",
    "scores = cross_val_score(LRModel, X_rfecv, y, cv=10)\n",
    "print(\"Cross-validation scores on individual folds:\\n{}\".format(list(scores.round(6))))\n",
    "print(\"\\nCross-validation mean score: {:.6f}\".format(scores.mean()))"
   ]
  },
  {
   "cell_type": "markdown",
   "metadata": {},
   "source": [
    "## Decision Tree"
   ]
  },
  {
   "cell_type": "markdown",
   "metadata": {},
   "source": [
    "### <font color='brown'>Separating the Predictors from Response</font>"
   ]
  },
  {
   "cell_type": "markdown",
   "metadata": {},
   "source": [
    "We'll now create the predictor and response dataframes once again using the original encoded dataframe as there is no need to create dummy variables in a decision tree."
   ]
  },
  {
   "cell_type": "code",
   "execution_count": 74,
   "metadata": {},
   "outputs": [
    {
     "name": "stdout",
     "output_type": "stream",
     "text": [
      "X shape: (7032, 18) \n",
      "y shape: (7032,)\n"
     ]
    }
   ],
   "source": [
    "X = df_enc.drop(\"Churn\", axis=1)\n",
    "y = df_enc[\"Churn\"]\n",
    "print(\"X shape: {}\".format(X.shape), \"\\ny shape: {}\".format(y.shape))"
   ]
  },
  {
   "cell_type": "markdown",
   "metadata": {},
   "source": [
    "### <font color='brown'>Splitting the Data randomly into a Training and Test Set</font>"
   ]
  },
  {
   "cell_type": "markdown",
   "metadata": {},
   "source": [
    "Let's split our dataset into a randomly selected training set which includes 70% of rows in our dataset and a test set which includes the remaining 30%."
   ]
  },
  {
   "cell_type": "code",
   "execution_count": 75,
   "metadata": {},
   "outputs": [],
   "source": [
    "X_train, X_test, y_train, y_test = train_test_split(X, y, test_size=0.3)"
   ]
  },
  {
   "cell_type": "code",
   "execution_count": 76,
   "metadata": {},
   "outputs": [
    {
     "name": "stdout",
     "output_type": "stream",
     "text": [
      "X_train shape: (4922, 18) , X_test shape: (2110, 18)\n",
      "y_train shape: (4922,) ,    y_test shape: (2110,)\n"
     ]
    }
   ],
   "source": [
    "print(\"X_train shape: {}\".format(X_train.shape), \", X_test shape: {}\".format(X_test.shape))\n",
    "print(\"y_train shape: {}\".format(y_train.shape), \",    y_test shape: {}\".format(y_test.shape))"
   ]
  },
  {
   "cell_type": "markdown",
   "metadata": {},
   "source": [
    "### <font color='brown'>1- The Initial Decision Tree Model</font>"
   ]
  },
  {
   "cell_type": "code",
   "execution_count": 77,
   "metadata": {},
   "outputs": [],
   "source": [
    "from sklearn.tree import DecisionTreeClassifier\n",
    "dtree = DecisionTreeClassifier()"
   ]
  },
  {
   "cell_type": "markdown",
   "metadata": {},
   "source": [
    "#### <font color='brown'>1.1- Model Fitting and Evaluation using single Test set</font>"
   ]
  },
  {
   "cell_type": "code",
   "execution_count": 78,
   "metadata": {},
   "outputs": [
    {
     "name": "stdout",
     "output_type": "stream",
     "text": [
      "[[1246  300]\n",
      " [ 291  273]]\n",
      "\n",
      "\n",
      "             precision    recall  f1-score   support\n",
      "\n",
      "          0       0.81      0.81      0.81      1546\n",
      "          1       0.48      0.48      0.48       564\n",
      "\n",
      "avg / total       0.72      0.72      0.72      2110\n",
      "\n"
     ]
    }
   ],
   "source": [
    "dtree.fit(X_train, y_train)\n",
    "predictions = dtree.predict(X_test)\n",
    "print(confusion_matrix(y_test, predictions))\n",
    "print('\\n')\n",
    "print(classification_report(y_test, predictions))"
   ]
  },
  {
   "cell_type": "markdown",
   "metadata": {},
   "source": [
    "#### <font color='brown'>1.2- Model Fitting and Evaluation using Cross-validation</font>"
   ]
  },
  {
   "cell_type": "code",
   "execution_count": 79,
   "metadata": {},
   "outputs": [
    {
     "name": "stdout",
     "output_type": "stream",
     "text": [
      "Cross-validation scores on individual folds:\n",
      "[0.721591, 0.745739, 0.731534, 0.739687, 0.716927, 0.687055, 0.711238, 0.714083, 0.722617, 0.736467]\n",
      "\n",
      "Cross-validation mean score: 0.722694\n"
     ]
    }
   ],
   "source": [
    "scores = cross_val_score(dtree, X, y, cv=10)\n",
    "print(\"Cross-validation scores on individual folds:\\n{}\".format(list(scores.round(6))))\n",
    "print(\"\\nCross-validation mean score: {}\".format(scores.mean().round(6)))"
   ]
  },
  {
   "cell_type": "markdown",
   "metadata": {},
   "source": [
    "### <font color='brown'>2- Improving the Model using Feature Selection</font>"
   ]
  },
  {
   "cell_type": "markdown",
   "metadata": {},
   "source": [
    "#### <font color='brown'>2.1- RFECV</font>"
   ]
  },
  {
   "cell_type": "code",
   "execution_count": 80,
   "metadata": {},
   "outputs": [
    {
     "name": "stdout",
     "output_type": "stream",
     "text": [
      "[False False False False False False  True False False False False False\n",
      " False  True False  True  True  True]\n"
     ]
    },
    {
     "data": {
      "image/png": "[encoded data removed]",
      "text/plain": [
       "<matplotlib.figure.Figure at 0x7fd1e5c14240>"
      ]
     },
     "metadata": {},
     "output_type": "display_data"
    },
    {
     "name": "stdout",
     "output_type": "stream",
     "text": [
      "Legend: \"black\" = features selected, \"white\" = not selected\n",
      "\n",
      "Optimal number of features: 5\n",
      "\n",
      "Number of features selected and corresponding accuracy is shown below and depicted in the plot:\n",
      "\n",
      "{1: 0.697, 2: 0.7183, 3: 0.7196, 4: 0.726, 5: 0.7312, 6: 0.7217, 7: 0.7184, 8: 0.7223, 9: 0.718, 10: 0.7201, 11: 0.7123, 12: 0.7187, 13: 0.7215, 14: 0.7179, 15: 0.7159, 16: 0.7197, 17: 0.7233, 18: 0.722}\n"
     ]
    },
    {
     "data": {
      "image/png": "[encoded data removed]",
      "text/plain": [
       "<matplotlib.figure.Figure at 0x7fd1e60a5f98>"
      ]
     },
     "metadata": {},
     "output_type": "display_data"
    }
   ],
   "source": [
    "RFECV_select_features(dtree)"
   ]
  },
  {
   "cell_type": "markdown",
   "metadata": {},
   "source": [
    "#### <font color='brown'>2.2- Model Fitting and Evaluation using Cross-validation</font>"
   ]
  },
  {
   "cell_type": "code",
   "execution_count": 81,
   "metadata": {},
   "outputs": [
    {
     "name": "stdout",
     "output_type": "stream",
     "text": [
      "Cross-validation scores on individual folds:\n",
      "[0.738636, 0.737216, 0.734375, 0.704125, 0.72404, 0.705548, 0.731152, 0.708393, 0.763869, 0.749288]\n",
      "\n",
      "Cross-validation mean score: 0.729664\n"
     ]
    }
   ],
   "source": [
    "X_rfecv = X.loc[:,mask]\n",
    "scores = cross_val_score(dtree, X_rfecv, y, cv=10)\n",
    "print(\"Cross-validation scores on individual folds:\\n{}\".format(list(scores.round(6))))\n",
    "print(\"\\nCross-validation mean score: {:.6f}\".format(scores.mean()))"
   ]
  },
  {
   "cell_type": "markdown",
   "metadata": {},
   "source": [
    "## Random Forest"
   ]
  },
  {
   "cell_type": "markdown",
   "metadata": {},
   "source": [
    "### <font color='brown'>1- The Initial Random Forest Model</font>"
   ]
  },
  {
   "cell_type": "code",
   "execution_count": 82,
   "metadata": {},
   "outputs": [],
   "source": [
    "from sklearn.ensemble import RandomForestClassifier\n",
    "rfc = RandomForestClassifier(n_estimators=50, random_state=42)"
   ]
  },
  {
   "cell_type": "markdown",
   "metadata": {},
   "source": [
    "#### <font color='brown'>1.1- Model Fitting and Evaluation using single Test set</font>"
   ]
  },
  {
   "cell_type": "code",
   "execution_count": 83,
   "metadata": {},
   "outputs": [
    {
     "name": "stdout",
     "output_type": "stream",
     "text": [
      "[[1376  170]\n",
      " [ 300  264]]\n",
      "\n",
      "\n",
      "             precision    recall  f1-score   support\n",
      "\n",
      "          0       0.82      0.89      0.85      1546\n",
      "          1       0.61      0.47      0.53       564\n",
      "\n",
      "avg / total       0.76      0.78      0.77      2110\n",
      "\n"
     ]
    }
   ],
   "source": [
    "rfc.fit(X_train, y_train)\n",
    "predictions = rfc.predict(X_test)\n",
    "print(confusion_matrix(y_test, predictions))\n",
    "print('\\n')\n",
    "print(classification_report(y_test, predictions))"
   ]
  },
  {
   "cell_type": "markdown",
   "metadata": {},
   "source": [
    "#### <font color='brown'>1.2- Model Fitting and Evaluation using Cross-validation</font>"
   ]
  },
  {
   "cell_type": "code",
   "execution_count": 84,
   "metadata": {},
   "outputs": [
    {
     "name": "stdout",
     "output_type": "stream",
     "text": [
      "Cross-validation scores on individual folds:\n",
      "[0.778409, 0.795455, 0.791193, 0.773826, 0.759602, 0.719772, 0.762447, 0.783784, 0.782361, 0.790598]\n",
      "\n",
      "Cross-validation mean score: 0.773745\n"
     ]
    }
   ],
   "source": [
    "scores = cross_val_score(rfc, X, y, cv=10)\n",
    "print(\"Cross-validation scores on individual folds:\\n{}\".format(list(scores.round(6))))\n",
    "print(\"\\nCross-validation mean score: {}\".format(scores.mean().round(6)))"
   ]
  },
  {
   "cell_type": "markdown",
   "metadata": {},
   "source": [
    "### <font color='brown'>2- Improving the Model using Feature Selection</font>"
   ]
  },
  {
   "cell_type": "markdown",
   "metadata": {},
   "source": [
    "#### <font color='brown'>2.1- RFECV</font>"
   ]
  },
  {
   "cell_type": "code",
   "execution_count": 85,
   "metadata": {},
   "outputs": [
    {
     "name": "stdout",
     "output_type": "stream",
     "text": [
      "[ True  True  True  True False  True  True  True  True  True  True False\n",
      "  True  True  True  True  True  True]\n"
     ]
    },
    {
     "data": {
      "image/png": "[encoded data removed]",
      "text/plain": [
       "<matplotlib.figure.Figure at 0x7fd1e6049160>"
      ]
     },
     "metadata": {},
     "output_type": "display_data"
    },
    {
     "name": "stdout",
     "output_type": "stream",
     "text": [
      "Legend: \"black\" = features selected, \"white\" = not selected\n",
      "\n",
      "Optimal number of features: 16\n",
      "\n",
      "Number of features selected and corresponding accuracy is shown below and depicted in the plot:\n",
      "\n",
      "{1: 0.6833, 2: 0.7137, 3: 0.7381, 4: 0.7452, 5: 0.7425, 6: 0.7476, 7: 0.7504, 8: 0.7541, 9: 0.7582, 10: 0.7568, 11: 0.7622, 12: 0.7661, 13: 0.7686, 14: 0.772, 15: 0.7715, 16: 0.7739, 17: 0.7723, 18: 0.7737}\n"
     ]
    },
    {
     "data": {
      "image/png": "[encoded data removed]",
      "text/plain": [
       "<matplotlib.figure.Figure at 0x7fd1e6184978>"
      ]
     },
     "metadata": {},
     "output_type": "display_data"
    }
   ],
   "source": [
    "RFECV_select_features(rfc)"
   ]
  },
  {
   "cell_type": "markdown",
   "metadata": {},
   "source": [
    "#### <font color='brown'>2.2- Model Fitting and Evaluation using Cross-validation</font>"
   ]
  },
  {
   "cell_type": "code",
   "execution_count": 86,
   "metadata": {
    "scrolled": true
   },
   "outputs": [
    {
     "name": "stdout",
     "output_type": "stream",
     "text": [
      "Cross-validation scores on individual folds:\n",
      "[0.78267, 0.798295, 0.785511, 0.770982, 0.749644, 0.722617, 0.772404, 0.786629, 0.772404, 0.790598]\n",
      "\n",
      "Cross-validation mean score: 0.773176\n"
     ]
    }
   ],
   "source": [
    "X_rfecv = X.loc[:,mask]\n",
    "scores = cross_val_score(rfc, X_rfecv, y, cv=10)\n",
    "print(\"Cross-validation scores on individual folds:\\n{}\".format(list(scores.round(6))))\n",
    "print(\"\\nCross-validation mean score: {:.6f}\".format(scores.mean()))"
   ]
  },
  {
   "cell_type": "markdown",
   "metadata": {},
   "source": [
    "## Support Vector Machine (SVM)"
   ]
  },
  {
   "cell_type": "markdown",
   "metadata": {},
   "source": [
    "### <font color='brown'>1- The Initial SVM Model</font>"
   ]
  },
  {
   "cell_type": "code",
   "execution_count": 88,
   "metadata": {},
   "outputs": [],
   "source": [
    "from sklearn import svm\n",
    "svmc = svm.SVC()"
   ]
  },
  {
   "cell_type": "markdown",
   "metadata": {},
   "source": [
    "#### <font color='brown'>1.1- Model Fitting and Evaluation using single Test set</font>"
   ]
  },
  {
   "cell_type": "code",
   "execution_count": 89,
   "metadata": {},
   "outputs": [
    {
     "name": "stdout",
     "output_type": "stream",
     "text": [
      "[[1405  141]\n",
      " [ 298  266]]\n",
      "\n",
      "\n",
      "             precision    recall  f1-score   support\n",
      "\n",
      "          0       0.83      0.91      0.86      1546\n",
      "          1       0.65      0.47      0.55       564\n",
      "\n",
      "avg / total       0.78      0.79      0.78      2110\n",
      "\n"
     ]
    }
   ],
   "source": [
    "svmc.fit(X_train, y_train)\n",
    "predictions = svmc.predict(X_test)\n",
    "print(confusion_matrix(y_test, predictions))\n",
    "print('\\n')\n",
    "print(classification_report(y_test, predictions))"
   ]
  },
  {
   "cell_type": "markdown",
   "metadata": {},
   "source": [
    "#### <font color='brown'>1.2- Model Fitting and Evaluation using Cross-validation</font>"
   ]
  },
  {
   "cell_type": "code",
   "execution_count": 90,
   "metadata": {},
   "outputs": [
    {
     "name": "stdout",
     "output_type": "stream",
     "text": [
      "Cross-validation scores on individual folds:\n",
      "[0.801136, 0.805398, 0.795455, 0.813656, 0.778094, 0.765292, 0.810811, 0.799431, 0.792319, 0.803419]\n",
      "\n",
      "Cross-validation mean score: 0.796501\n"
     ]
    }
   ],
   "source": [
    "scores = cross_val_score(svmc, X, y, cv=10)\n",
    "print(\"Cross-validation scores on individual folds:\\n{}\".format(list(scores.round(6))))\n",
    "print(\"\\nCross-validation mean score: {}\".format(scores.mean().round(6)))"
   ]
  },
  {
   "cell_type": "markdown",
   "metadata": {},
   "source": [
    "## <font color='brown'>Summary</font>"
   ]
  },
  {
   "cell_type": "markdown",
   "metadata": {},
   "source": [
    "From the above example, we can see that Logistic Regression and Random Forest performed better than Decision Tree for customer churn analysis for this particular dataset.\n",
    "\n",
    "Throughout the analysis, I have learned several important things:\n",
    "1. Features such as tenure_group, Contract, PaperlessBilling, MonthlyCharges and InternetService appear to play a role in customer churn.\n",
    "2. There does not seem to be a relationship between gender and churn.\n",
    "3. Customers in a month-to-month contract, with PaperlessBilling and are within 12 months tenure, are more likely to churn; On the other hand, customers with one or two year contract, with longer than 12 months tenure, that are not using PaperlessBilling, are less likely to churn.\n",
    "\n",
    "Source code that created this post can be found here. I would be pleased to receive feedback or questions on any of the above."
   ]
  },
  {
   "cell_type": "code",
   "execution_count": null,
   "metadata": {},
   "outputs": [],
   "source": []
  }
 ],
 "metadata": {
  "kernelspec": {
   "display_name": "Python 3",
   "language": "python",
   "name": "python3"
  },
  "language_info": {
   "codemirror_mode": {
    "name": "ipython",
    "version": 3
   },
   "file_extension": ".py",
   "mimetype": "text/x-python",
   "name": "python",
   "nbconvert_exporter": "python",
   "pygments_lexer": "ipython3",
   "version": "3.6.4"
  }
 },
 "nbformat": 4,
 "nbformat_minor": 2
}
